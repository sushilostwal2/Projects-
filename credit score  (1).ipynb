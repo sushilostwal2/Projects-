{
 "cells": [
  {
   "cell_type": "code",
   "execution_count": 1,
   "id": "12900fea",
   "metadata": {},
   "outputs": [],
   "source": [
    "import pandas as pd\n",
    "import numpy as np"
   ]
  },
  {
   "cell_type": "code",
   "execution_count": 2,
   "id": "c325af0e",
   "metadata": {},
   "outputs": [],
   "source": [
    "df = pd.read_csv(\"C:\\\\Users\\\\gajendra singh\\\\OneDrive\\\\Desktop\\\\pandas\\\\credit_scoring.csv\")"
   ]
  },
  {
   "cell_type": "code",
   "execution_count": 3,
   "id": "43558884",
   "metadata": {},
   "outputs": [
    {
     "data": {
      "text/html": [
       "<div>\n",
       "<style scoped>\n",
       "    .dataframe tbody tr th:only-of-type {\n",
       "        vertical-align: middle;\n",
       "    }\n",
       "\n",
       "    .dataframe tbody tr th {\n",
       "        vertical-align: top;\n",
       "    }\n",
       "\n",
       "    .dataframe thead th {\n",
       "        text-align: right;\n",
       "    }\n",
       "</style>\n",
       "<table border=\"1\" class=\"dataframe\">\n",
       "  <thead>\n",
       "    <tr style=\"text-align: right;\">\n",
       "      <th></th>\n",
       "      <th>Age</th>\n",
       "      <th>Gender</th>\n",
       "      <th>Marital Status</th>\n",
       "      <th>Education Level</th>\n",
       "      <th>Employment Status</th>\n",
       "      <th>Credit Utilization Ratio</th>\n",
       "      <th>Payment History</th>\n",
       "      <th>Number of Credit Accounts</th>\n",
       "      <th>Loan Amount</th>\n",
       "      <th>Interest Rate</th>\n",
       "      <th>Loan Term</th>\n",
       "      <th>Type of Loan</th>\n",
       "    </tr>\n",
       "  </thead>\n",
       "  <tbody>\n",
       "    <tr>\n",
       "      <th>0</th>\n",
       "      <td>60</td>\n",
       "      <td>Male</td>\n",
       "      <td>Married</td>\n",
       "      <td>Master</td>\n",
       "      <td>Employed</td>\n",
       "      <td>0.22</td>\n",
       "      <td>2685.0</td>\n",
       "      <td>2</td>\n",
       "      <td>4675000</td>\n",
       "      <td>2.65</td>\n",
       "      <td>48</td>\n",
       "      <td>Personal Loan</td>\n",
       "    </tr>\n",
       "    <tr>\n",
       "      <th>1</th>\n",
       "      <td>25</td>\n",
       "      <td>Male</td>\n",
       "      <td>Married</td>\n",
       "      <td>High School</td>\n",
       "      <td>Unemployed</td>\n",
       "      <td>0.20</td>\n",
       "      <td>2371.0</td>\n",
       "      <td>9</td>\n",
       "      <td>3619000</td>\n",
       "      <td>5.19</td>\n",
       "      <td>60</td>\n",
       "      <td>Auto Loan</td>\n",
       "    </tr>\n",
       "    <tr>\n",
       "      <th>2</th>\n",
       "      <td>30</td>\n",
       "      <td>Female</td>\n",
       "      <td>Single</td>\n",
       "      <td>Master</td>\n",
       "      <td>Employed</td>\n",
       "      <td>0.22</td>\n",
       "      <td>2771.0</td>\n",
       "      <td>6</td>\n",
       "      <td>957000</td>\n",
       "      <td>2.76</td>\n",
       "      <td>12</td>\n",
       "      <td>Auto Loan</td>\n",
       "    </tr>\n",
       "    <tr>\n",
       "      <th>3</th>\n",
       "      <td>58</td>\n",
       "      <td>Female</td>\n",
       "      <td>Married</td>\n",
       "      <td>PhD</td>\n",
       "      <td>Unemployed</td>\n",
       "      <td>0.12</td>\n",
       "      <td>1371.0</td>\n",
       "      <td>2</td>\n",
       "      <td>4731000</td>\n",
       "      <td>6.57</td>\n",
       "      <td>60</td>\n",
       "      <td>Auto Loan</td>\n",
       "    </tr>\n",
       "    <tr>\n",
       "      <th>4</th>\n",
       "      <td>32</td>\n",
       "      <td>Male</td>\n",
       "      <td>Married</td>\n",
       "      <td>Bachelor</td>\n",
       "      <td>Self-Employed</td>\n",
       "      <td>0.99</td>\n",
       "      <td>828.0</td>\n",
       "      <td>2</td>\n",
       "      <td>3289000</td>\n",
       "      <td>6.28</td>\n",
       "      <td>36</td>\n",
       "      <td>Personal Loan</td>\n",
       "    </tr>\n",
       "  </tbody>\n",
       "</table>\n",
       "</div>"
      ],
      "text/plain": [
       "   Age  Gender Marital Status Education Level Employment Status  \\\n",
       "0   60    Male        Married          Master          Employed   \n",
       "1   25    Male        Married     High School        Unemployed   \n",
       "2   30  Female         Single          Master          Employed   \n",
       "3   58  Female        Married             PhD        Unemployed   \n",
       "4   32    Male        Married        Bachelor     Self-Employed   \n",
       "\n",
       "   Credit Utilization Ratio  Payment History  Number of Credit Accounts  \\\n",
       "0                      0.22           2685.0                          2   \n",
       "1                      0.20           2371.0                          9   \n",
       "2                      0.22           2771.0                          6   \n",
       "3                      0.12           1371.0                          2   \n",
       "4                      0.99            828.0                          2   \n",
       "\n",
       "   Loan Amount  Interest Rate  Loan Term   Type of Loan  \n",
       "0      4675000           2.65         48  Personal Loan  \n",
       "1      3619000           5.19         60      Auto Loan  \n",
       "2       957000           2.76         12      Auto Loan  \n",
       "3      4731000           6.57         60      Auto Loan  \n",
       "4      3289000           6.28         36  Personal Loan  "
      ]
     },
     "execution_count": 3,
     "metadata": {},
     "output_type": "execute_result"
    }
   ],
   "source": [
    "df.head()"
   ]
  },
  {
   "cell_type": "code",
   "execution_count": 4,
   "id": "25d8be0c",
   "metadata": {},
   "outputs": [
    {
     "data": {
      "text/plain": [
       "(1000, 12)"
      ]
     },
     "execution_count": 4,
     "metadata": {},
     "output_type": "execute_result"
    }
   ],
   "source": [
    "df.shape"
   ]
  },
  {
   "cell_type": "code",
   "execution_count": 7,
   "id": "4957ea10",
   "metadata": {},
   "outputs": [],
   "source": [
    "import plotly.graph_objects as go\n",
    "import plotly.express as px\n",
    "import plotly.io as pio\n",
    "pio.templates.default = \"plotly_white\""
   ]
  },
  {
   "cell_type": "code",
   "execution_count": 8,
   "id": "51d59aff",
   "metadata": {},
   "outputs": [
    {
     "name": "stdout",
     "output_type": "stream",
     "text": [
      "<class 'pandas.core.frame.DataFrame'>\n",
      "RangeIndex: 1000 entries, 0 to 999\n",
      "Data columns (total 12 columns):\n",
      " #   Column                     Non-Null Count  Dtype  \n",
      "---  ------                     --------------  -----  \n",
      " 0   Age                        1000 non-null   int64  \n",
      " 1   Gender                     1000 non-null   object \n",
      " 2   Marital Status             1000 non-null   object \n",
      " 3   Education Level            1000 non-null   object \n",
      " 4   Employment Status          1000 non-null   object \n",
      " 5   Credit Utilization Ratio   1000 non-null   float64\n",
      " 6   Payment History            1000 non-null   float64\n",
      " 7   Number of Credit Accounts  1000 non-null   int64  \n",
      " 8   Loan Amount                1000 non-null   int64  \n",
      " 9   Interest Rate              1000 non-null   float64\n",
      " 10  Loan Term                  1000 non-null   int64  \n",
      " 11  Type of Loan               1000 non-null   object \n",
      "dtypes: float64(3), int64(4), object(5)\n",
      "memory usage: 93.9+ KB\n"
     ]
    }
   ],
   "source": [
    "df.info()"
   ]
  },
  {
   "cell_type": "code",
   "execution_count": 11,
   "id": "e90d64d4",
   "metadata": {},
   "outputs": [
    {
     "data": {
      "application/vnd.plotly.v1+json": {
       "config": {
        "plotlyServerURL": "https://plot.ly"
       },
       "data": [
        {
         "alignmentgroup": "True",
         "hovertemplate": "Credit Utilization Ratio=%{y}<extra></extra>",
         "legendgroup": "",
         "marker": {
          "color": "#636efa"
         },
         "name": "",
         "notched": false,
         "offsetgroup": "",
         "orientation": "v",
         "showlegend": false,
         "type": "box",
         "x0": " ",
         "xaxis": "x",
         "y": [
          0.22,
          0.2,
          0.22,
          0.12,
          0.99,
          0.94,
          0.32,
          0.66,
          0.4,
          0.06,
          0.29,
          0.51,
          0.93,
          0.66,
          1,
          0.55,
          0.67,
          0.1,
          0.34,
          0.44,
          0.21,
          0.19,
          0.92,
          0.12,
          0.72,
          0.54,
          0.98,
          0.74,
          0.91,
          0.71,
          0.31,
          0.88,
          0.87,
          0.33,
          0.58,
          0.04,
          0.95,
          0.4,
          0.29,
          0.08,
          0.24,
          0.15,
          0.46,
          0.74,
          0.71,
          0.21,
          0.38,
          0.44,
          0.59,
          0.45,
          0.22,
          0.11,
          0.58,
          0.6,
          0.11,
          0.59,
          0.85,
          0.95,
          0.29,
          0.7,
          0.48,
          0.71,
          0.28,
          0.58,
          0.6,
          0.96,
          0.45,
          0.79,
          0.17,
          0.5,
          0.96,
          0.18,
          0.33,
          0.12,
          0.36,
          0.03,
          0.46,
          0.46,
          0.27,
          0.33,
          0.32,
          0.53,
          0.08,
          0.75,
          0.43,
          0.91,
          0.44,
          0.11,
          0.75,
          0.65,
          0.79,
          0.14,
          0.75,
          0.22,
          0.23,
          0.62,
          0.4,
          0.99,
          0,
          0.59,
          0.59,
          1,
          0.62,
          0.65,
          0.43,
          0.74,
          0.94,
          0.85,
          0.18,
          0.63,
          0.6,
          0.61,
          0.67,
          0.33,
          0.04,
          0.02,
          0.08,
          0.35,
          0.95,
          0.44,
          0.04,
          0.91,
          0.65,
          0.41,
          0.85,
          0.56,
          0.36,
          0.51,
          0.77,
          0.97,
          0.82,
          0.27,
          0.37,
          0.29,
          0.78,
          0.54,
          0.66,
          0.64,
          0.04,
          0.78,
          0.04,
          0.74,
          0.43,
          0.69,
          0.51,
          0.37,
          0.37,
          0.77,
          0.17,
          0.85,
          0.57,
          0.82,
          0.43,
          0.25,
          0.66,
          0.21,
          0.45,
          0.99,
          0.45,
          0.76,
          0.22,
          0.43,
          0.39,
          0.79,
          0.71,
          0.74,
          0.33,
          0.48,
          0.31,
          0.33,
          0.48,
          0.56,
          0.96,
          0.11,
          0.72,
          0.32,
          1,
          0.99,
          0.73,
          0.52,
          0.45,
          0.67,
          0.61,
          0.68,
          0.54,
          0.45,
          0.75,
          0.18,
          0.86,
          0.72,
          0.81,
          0.74,
          0.6,
          0.56,
          0.42,
          0.91,
          0.85,
          0.72,
          1,
          0.26,
          0.86,
          0.23,
          0.79,
          0.41,
          0.49,
          0.11,
          0.96,
          0.38,
          0.92,
          0.96,
          0.76,
          0.77,
          0.19,
          0.71,
          0.13,
          0.6,
          0.38,
          0.78,
          0.01,
          0.95,
          0.38,
          0.46,
          0.25,
          0.7,
          0.98,
          0.37,
          0.14,
          0.07,
          0.56,
          0.59,
          0.46,
          0.35,
          0.31,
          0.64,
          0.95,
          0.71,
          0.78,
          0.44,
          0.87,
          0.81,
          0.99,
          0.15,
          0.63,
          0.09,
          0.34,
          0.12,
          0.65,
          0.66,
          0.34,
          0.14,
          0.21,
          0.96,
          0.88,
          0.24,
          0.55,
          0.29,
          0.08,
          0.95,
          0.01,
          0.78,
          0.46,
          0.74,
          0.32,
          0.98,
          0.29,
          0.02,
          0.49,
          0.1,
          0.93,
          0.45,
          0.81,
          0.05,
          0.8,
          0.59,
          0.17,
          0.28,
          0.14,
          0.91,
          0.53,
          0.58,
          0.7,
          0.06,
          0.06,
          0.3,
          0.31,
          0.22,
          0.67,
          0,
          0.65,
          0.17,
          0.94,
          0.28,
          0.29,
          0.31,
          0.37,
          0.67,
          0.3,
          0.95,
          0.26,
          0.41,
          0.26,
          0.4,
          0.86,
          0.91,
          0.78,
          0.2,
          0.96,
          0.05,
          0.91,
          0.46,
          0.65,
          0.71,
          0.03,
          0.53,
          0.74,
          0.79,
          0.12,
          0.32,
          0.76,
          0.38,
          0.73,
          0.95,
          0.23,
          0.88,
          0.44,
          0.1,
          0.5,
          0.5,
          0.08,
          0.85,
          0.96,
          0.85,
          0.61,
          0.26,
          0.66,
          0.85,
          0.64,
          0.75,
          0.67,
          0.45,
          0.14,
          0.34,
          0.74,
          0.6,
          0.8,
          0.71,
          0.56,
          0.05,
          0.75,
          0.66,
          0.91,
          0.96,
          0.33,
          0.78,
          0.35,
          0.24,
          0.91,
          0.17,
          0.21,
          0.05,
          0.32,
          0.93,
          0.22,
          0.04,
          0.18,
          0.1,
          0.07,
          0.96,
          0.68,
          0.86,
          0.21,
          0.73,
          0.68,
          0.04,
          0.47,
          0.54,
          0.82,
          0.64,
          0.11,
          0.59,
          0.97,
          0.6,
          0.13,
          0.6,
          0.42,
          0.48,
          0.52,
          0.85,
          0.55,
          0.78,
          0.01,
          0.04,
          0.85,
          0.04,
          0.02,
          0.93,
          0.96,
          0.86,
          0.54,
          0.31,
          0.21,
          0.96,
          0.13,
          0.52,
          0.55,
          0.75,
          0.56,
          0.52,
          0.22,
          0.12,
          0.45,
          0.08,
          0.75,
          0.17,
          0.26,
          0.04,
          0.6,
          0.37,
          0.92,
          0.41,
          0.76,
          0.11,
          0.02,
          0.22,
          0.78,
          0.74,
          0.16,
          0.22,
          0.58,
          0.06,
          0.69,
          0.57,
          0.3,
          0.24,
          0.41,
          0.19,
          0.61,
          0.79,
          0.39,
          0.58,
          1,
          0.24,
          0.6,
          0.04,
          0.92,
          0.73,
          0.78,
          0.05,
          0.13,
          0.13,
          0.78,
          0.66,
          0.69,
          0.45,
          0.73,
          0.62,
          0.39,
          0.93,
          0.35,
          0.95,
          0.15,
          0.71,
          0.32,
          0.13,
          0.08,
          0.47,
          0.93,
          0.31,
          0.54,
          0.17,
          0.78,
          0.09,
          0.55,
          0.73,
          0.86,
          0.6,
          0.15,
          0.66,
          0.32,
          0.53,
          0.61,
          0.81,
          1,
          0.3,
          0.83,
          0.78,
          0.07,
          0.71,
          0.11,
          0.73,
          0.39,
          0.52,
          0.53,
          0.32,
          0.47,
          0.33,
          0.68,
          0.92,
          0.77,
          0.59,
          0.57,
          0.56,
          0.66,
          0.62,
          0.58,
          0.86,
          0.55,
          0.01,
          0.89,
          0.19,
          0.98,
          0.89,
          0.54,
          0.17,
          0.05,
          0.28,
          0.78,
          0.24,
          0.4,
          0.38,
          0.8,
          0.69,
          0.45,
          0.96,
          0.66,
          0.33,
          0.14,
          0.57,
          0.15,
          0.38,
          0.53,
          0.7,
          1,
          0.06,
          0.04,
          0.05,
          0.8,
          0.06,
          0.1,
          0.65,
          0.61,
          0.24,
          0.11,
          0.33,
          0.9,
          0.1,
          0.22,
          0.13,
          0.6,
          0.28,
          0.98,
          0.08,
          0.3,
          0.46,
          0.08,
          0.37,
          0.94,
          0.35,
          0.95,
          0.7,
          0.44,
          0.65,
          0.23,
          0.97,
          0.21,
          0.92,
          0.9,
          0.55,
          0.53,
          0.49,
          0.01,
          0.81,
          0.93,
          0.19,
          0.15,
          0.49,
          0.51,
          0.27,
          0.6,
          0.01,
          0.8,
          0.92,
          0.74,
          0.42,
          0.12,
          0.67,
          0.57,
          0.92,
          0.21,
          0.29,
          0.55,
          0.11,
          0.36,
          0.94,
          0.5,
          0.68,
          0.5,
          0.46,
          0.39,
          0.06,
          0.84,
          0.06,
          0.02,
          0.02,
          0.81,
          0.27,
          0.07,
          0.41,
          0.66,
          0.46,
          0.65,
          0.56,
          0.85,
          0.66,
          0.6,
          0.18,
          0.55,
          0.97,
          0.12,
          0.92,
          0.82,
          0.64,
          0.52,
          0.2,
          0.97,
          0.95,
          0.95,
          0.18,
          0.01,
          0.06,
          0.62,
          0.88,
          0.87,
          0.74,
          0.47,
          0.85,
          1,
          0.68,
          0.63,
          0.86,
          0.24,
          0.3,
          0.27,
          0.34,
          0.08,
          0.08,
          0.08,
          0.3,
          0.11,
          0.97,
          0.14,
          0.84,
          0.74,
          0.33,
          0.49,
          0.89,
          0.19,
          0.71,
          0.17,
          0.36,
          0.56,
          0.8,
          0.91,
          0.85,
          0.72,
          0.95,
          0.98,
          0.4,
          0.64,
          0.73,
          0.16,
          0.26,
          0.81,
          0.74,
          0.06,
          0.42,
          0.21,
          0.29,
          0.42,
          0.48,
          0.67,
          0.89,
          0.56,
          0.66,
          0.59,
          0.98,
          0.61,
          0.38,
          0.32,
          0.76,
          0.99,
          0.97,
          0.16,
          0.5,
          0.96,
          0.56,
          0.97,
          0.74,
          0.04,
          0.74,
          0.73,
          0.67,
          0.76,
          0.08,
          0.63,
          0.24,
          0.12,
          0.1,
          0.38,
          0.6,
          0.62,
          0.58,
          0.24,
          0.69,
          0.45,
          0.77,
          0.29,
          0.17,
          0.94,
          0.14,
          0.29,
          0.79,
          0.37,
          0.45,
          0.75,
          0.43,
          0.9,
          0.55,
          0.77,
          0.72,
          0.43,
          0.81,
          0.79,
          0.53,
          0.83,
          0.06,
          0.74,
          0.2,
          0.88,
          0.61,
          0.57,
          0.73,
          0.45,
          0.4,
          0.08,
          0.53,
          0.71,
          0.05,
          0.99,
          0.32,
          0.17,
          0.07,
          0.32,
          0.51,
          0.43,
          0.04,
          0.81,
          0.7,
          0.05,
          0.16,
          0.86,
          0.76,
          0.45,
          0.86,
          0.99,
          0.35,
          0.63,
          0.12,
          0.3,
          0.21,
          0.42,
          0.57,
          0.17,
          0.76,
          0.6,
          0.82,
          0.84,
          0.41,
          0.74,
          0.14,
          0.48,
          0.77,
          0.93,
          0.12,
          0.58,
          0.66,
          0.46,
          0.83,
          0.86,
          0.76,
          0.75,
          0.22,
          0.1,
          0.03,
          0.63,
          0.69,
          0.91,
          0.97,
          0.16,
          0.3,
          0.1,
          0.13,
          0.68,
          0.66,
          0.27,
          0.27,
          0.53,
          0.81,
          0.13,
          0.44,
          0.41,
          0.93,
          0.19,
          0.67,
          0.17,
          0.74,
          0.62,
          0.49,
          0.47,
          0.14,
          0.74,
          0.75,
          0.5,
          0.49,
          0.82,
          0.4,
          0.63,
          0.36,
          0.29,
          0.01,
          0.58,
          0.07,
          0.55,
          0.52,
          0.81,
          0.18,
          0.71,
          0.87,
          0.88,
          0.97,
          0.63,
          0.73,
          0.49,
          0.43,
          0.11,
          0.74,
          0.06,
          0,
          0.88,
          0.36,
          0.82,
          0.15,
          0.77,
          0.42,
          0.09,
          0.36,
          0.96,
          0.84,
          0.74,
          0.06,
          0.5,
          0.62,
          0.64,
          0.78,
          0.2,
          0.09,
          0.7,
          0.59,
          0.16,
          0.89,
          0.77,
          0.36,
          0.97,
          0.84,
          0.79,
          0.87,
          0.77,
          0.04,
          0.98,
          0.27,
          0.34,
          0.91,
          0.15,
          0.45,
          0.35,
          1,
          0.37,
          0.62,
          0.44,
          0.95,
          0.84,
          0.17,
          0.94,
          0.12,
          0.63,
          0.63,
          0.66,
          0.26,
          0.49,
          0.9,
          0.19,
          0.22,
          0.51,
          0.49,
          0.9,
          0.03,
          0.12,
          0.21,
          0.81,
          0.6,
          0.84,
          0.72,
          0.98,
          0.86,
          0.88,
          0.58,
          0.48,
          0.56,
          0.49,
          0.22,
          0.69,
          0.03,
          0.5,
          0.29,
          0.22,
          0.39,
          0.19,
          0.9,
          0.35,
          0.53,
          0.36,
          0.98,
          0.09,
          0.39,
          0.97,
          0.56,
          0.49,
          0.71,
          0.64,
          0.14,
          0.18,
          0.47,
          0.62,
          0.08,
          0.58,
          0.63,
          0.1,
          0.98,
          0.14,
          0.49,
          0.12,
          0.01,
          0.66,
          0.96,
          0.96,
          0.93,
          0.25,
          0.13,
          0.16,
          0.55,
          0.62,
          0.12,
          0.07,
          0.47,
          0.91,
          0.74,
          0.35,
          0.48,
          0.19,
          0.08,
          0.4,
          0.3,
          0.71,
          0.82,
          0.38,
          0.21,
          0.81,
          0.93,
          0.91,
          0.27,
          0.44,
          0.44,
          0.11,
          0.02,
          0.2,
          0.98,
          0.91,
          0.03,
          0.8,
          0.8,
          0.56,
          0.67,
          0.49,
          0.1,
          0.4,
          0.74,
          0.77,
          0.18,
          0.32,
          0.17
         ],
         "y0": " ",
         "yaxis": "y"
        }
       ],
       "layout": {
        "boxmode": "group",
        "legend": {
         "tracegroupgap": 0
        },
        "template": {
         "data": {
          "bar": [
           {
            "error_x": {
             "color": "#2a3f5f"
            },
            "error_y": {
             "color": "#2a3f5f"
            },
            "marker": {
             "line": {
              "color": "white",
              "width": 0.5
             },
             "pattern": {
              "fillmode": "overlay",
              "size": 10,
              "solidity": 0.2
             }
            },
            "type": "bar"
           }
          ],
          "barpolar": [
           {
            "marker": {
             "line": {
              "color": "white",
              "width": 0.5
             },
             "pattern": {
              "fillmode": "overlay",
              "size": 10,
              "solidity": 0.2
             }
            },
            "type": "barpolar"
           }
          ],
          "carpet": [
           {
            "aaxis": {
             "endlinecolor": "#2a3f5f",
             "gridcolor": "#C8D4E3",
             "linecolor": "#C8D4E3",
             "minorgridcolor": "#C8D4E3",
             "startlinecolor": "#2a3f5f"
            },
            "baxis": {
             "endlinecolor": "#2a3f5f",
             "gridcolor": "#C8D4E3",
             "linecolor": "#C8D4E3",
             "minorgridcolor": "#C8D4E3",
             "startlinecolor": "#2a3f5f"
            },
            "type": "carpet"
           }
          ],
          "choropleth": [
           {
            "colorbar": {
             "outlinewidth": 0,
             "ticks": ""
            },
            "type": "choropleth"
           }
          ],
          "contour": [
           {
            "colorbar": {
             "outlinewidth": 0,
             "ticks": ""
            },
            "colorscale": [
             [
              0,
              "#0d0887"
             ],
             [
              0.1111111111111111,
              "#46039f"
             ],
             [
              0.2222222222222222,
              "#7201a8"
             ],
             [
              0.3333333333333333,
              "#9c179e"
             ],
             [
              0.4444444444444444,
              "#bd3786"
             ],
             [
              0.5555555555555556,
              "#d8576b"
             ],
             [
              0.6666666666666666,
              "#ed7953"
             ],
             [
              0.7777777777777778,
              "#fb9f3a"
             ],
             [
              0.8888888888888888,
              "#fdca26"
             ],
             [
              1,
              "#f0f921"
             ]
            ],
            "type": "contour"
           }
          ],
          "contourcarpet": [
           {
            "colorbar": {
             "outlinewidth": 0,
             "ticks": ""
            },
            "type": "contourcarpet"
           }
          ],
          "heatmap": [
           {
            "colorbar": {
             "outlinewidth": 0,
             "ticks": ""
            },
            "colorscale": [
             [
              0,
              "#0d0887"
             ],
             [
              0.1111111111111111,
              "#46039f"
             ],
             [
              0.2222222222222222,
              "#7201a8"
             ],
             [
              0.3333333333333333,
              "#9c179e"
             ],
             [
              0.4444444444444444,
              "#bd3786"
             ],
             [
              0.5555555555555556,
              "#d8576b"
             ],
             [
              0.6666666666666666,
              "#ed7953"
             ],
             [
              0.7777777777777778,
              "#fb9f3a"
             ],
             [
              0.8888888888888888,
              "#fdca26"
             ],
             [
              1,
              "#f0f921"
             ]
            ],
            "type": "heatmap"
           }
          ],
          "heatmapgl": [
           {
            "colorbar": {
             "outlinewidth": 0,
             "ticks": ""
            },
            "colorscale": [
             [
              0,
              "#0d0887"
             ],
             [
              0.1111111111111111,
              "#46039f"
             ],
             [
              0.2222222222222222,
              "#7201a8"
             ],
             [
              0.3333333333333333,
              "#9c179e"
             ],
             [
              0.4444444444444444,
              "#bd3786"
             ],
             [
              0.5555555555555556,
              "#d8576b"
             ],
             [
              0.6666666666666666,
              "#ed7953"
             ],
             [
              0.7777777777777778,
              "#fb9f3a"
             ],
             [
              0.8888888888888888,
              "#fdca26"
             ],
             [
              1,
              "#f0f921"
             ]
            ],
            "type": "heatmapgl"
           }
          ],
          "histogram": [
           {
            "marker": {
             "pattern": {
              "fillmode": "overlay",
              "size": 10,
              "solidity": 0.2
             }
            },
            "type": "histogram"
           }
          ],
          "histogram2d": [
           {
            "colorbar": {
             "outlinewidth": 0,
             "ticks": ""
            },
            "colorscale": [
             [
              0,
              "#0d0887"
             ],
             [
              0.1111111111111111,
              "#46039f"
             ],
             [
              0.2222222222222222,
              "#7201a8"
             ],
             [
              0.3333333333333333,
              "#9c179e"
             ],
             [
              0.4444444444444444,
              "#bd3786"
             ],
             [
              0.5555555555555556,
              "#d8576b"
             ],
             [
              0.6666666666666666,
              "#ed7953"
             ],
             [
              0.7777777777777778,
              "#fb9f3a"
             ],
             [
              0.8888888888888888,
              "#fdca26"
             ],
             [
              1,
              "#f0f921"
             ]
            ],
            "type": "histogram2d"
           }
          ],
          "histogram2dcontour": [
           {
            "colorbar": {
             "outlinewidth": 0,
             "ticks": ""
            },
            "colorscale": [
             [
              0,
              "#0d0887"
             ],
             [
              0.1111111111111111,
              "#46039f"
             ],
             [
              0.2222222222222222,
              "#7201a8"
             ],
             [
              0.3333333333333333,
              "#9c179e"
             ],
             [
              0.4444444444444444,
              "#bd3786"
             ],
             [
              0.5555555555555556,
              "#d8576b"
             ],
             [
              0.6666666666666666,
              "#ed7953"
             ],
             [
              0.7777777777777778,
              "#fb9f3a"
             ],
             [
              0.8888888888888888,
              "#fdca26"
             ],
             [
              1,
              "#f0f921"
             ]
            ],
            "type": "histogram2dcontour"
           }
          ],
          "mesh3d": [
           {
            "colorbar": {
             "outlinewidth": 0,
             "ticks": ""
            },
            "type": "mesh3d"
           }
          ],
          "parcoords": [
           {
            "line": {
             "colorbar": {
              "outlinewidth": 0,
              "ticks": ""
             }
            },
            "type": "parcoords"
           }
          ],
          "pie": [
           {
            "automargin": true,
            "type": "pie"
           }
          ],
          "scatter": [
           {
            "fillpattern": {
             "fillmode": "overlay",
             "size": 10,
             "solidity": 0.2
            },
            "type": "scatter"
           }
          ],
          "scatter3d": [
           {
            "line": {
             "colorbar": {
              "outlinewidth": 0,
              "ticks": ""
             }
            },
            "marker": {
             "colorbar": {
              "outlinewidth": 0,
              "ticks": ""
             }
            },
            "type": "scatter3d"
           }
          ],
          "scattercarpet": [
           {
            "marker": {
             "colorbar": {
              "outlinewidth": 0,
              "ticks": ""
             }
            },
            "type": "scattercarpet"
           }
          ],
          "scattergeo": [
           {
            "marker": {
             "colorbar": {
              "outlinewidth": 0,
              "ticks": ""
             }
            },
            "type": "scattergeo"
           }
          ],
          "scattergl": [
           {
            "marker": {
             "colorbar": {
              "outlinewidth": 0,
              "ticks": ""
             }
            },
            "type": "scattergl"
           }
          ],
          "scattermapbox": [
           {
            "marker": {
             "colorbar": {
              "outlinewidth": 0,
              "ticks": ""
             }
            },
            "type": "scattermapbox"
           }
          ],
          "scatterpolar": [
           {
            "marker": {
             "colorbar": {
              "outlinewidth": 0,
              "ticks": ""
             }
            },
            "type": "scatterpolar"
           }
          ],
          "scatterpolargl": [
           {
            "marker": {
             "colorbar": {
              "outlinewidth": 0,
              "ticks": ""
             }
            },
            "type": "scatterpolargl"
           }
          ],
          "scatterternary": [
           {
            "marker": {
             "colorbar": {
              "outlinewidth": 0,
              "ticks": ""
             }
            },
            "type": "scatterternary"
           }
          ],
          "surface": [
           {
            "colorbar": {
             "outlinewidth": 0,
             "ticks": ""
            },
            "colorscale": [
             [
              0,
              "#0d0887"
             ],
             [
              0.1111111111111111,
              "#46039f"
             ],
             [
              0.2222222222222222,
              "#7201a8"
             ],
             [
              0.3333333333333333,
              "#9c179e"
             ],
             [
              0.4444444444444444,
              "#bd3786"
             ],
             [
              0.5555555555555556,
              "#d8576b"
             ],
             [
              0.6666666666666666,
              "#ed7953"
             ],
             [
              0.7777777777777778,
              "#fb9f3a"
             ],
             [
              0.8888888888888888,
              "#fdca26"
             ],
             [
              1,
              "#f0f921"
             ]
            ],
            "type": "surface"
           }
          ],
          "table": [
           {
            "cells": {
             "fill": {
              "color": "#EBF0F8"
             },
             "line": {
              "color": "white"
             }
            },
            "header": {
             "fill": {
              "color": "#C8D4E3"
             },
             "line": {
              "color": "white"
             }
            },
            "type": "table"
           }
          ]
         },
         "layout": {
          "annotationdefaults": {
           "arrowcolor": "#2a3f5f",
           "arrowhead": 0,
           "arrowwidth": 1
          },
          "autotypenumbers": "strict",
          "coloraxis": {
           "colorbar": {
            "outlinewidth": 0,
            "ticks": ""
           }
          },
          "colorscale": {
           "diverging": [
            [
             0,
             "#8e0152"
            ],
            [
             0.1,
             "#c51b7d"
            ],
            [
             0.2,
             "#de77ae"
            ],
            [
             0.3,
             "#f1b6da"
            ],
            [
             0.4,
             "#fde0ef"
            ],
            [
             0.5,
             "#f7f7f7"
            ],
            [
             0.6,
             "#e6f5d0"
            ],
            [
             0.7,
             "#b8e186"
            ],
            [
             0.8,
             "#7fbc41"
            ],
            [
             0.9,
             "#4d9221"
            ],
            [
             1,
             "#276419"
            ]
           ],
           "sequential": [
            [
             0,
             "#0d0887"
            ],
            [
             0.1111111111111111,
             "#46039f"
            ],
            [
             0.2222222222222222,
             "#7201a8"
            ],
            [
             0.3333333333333333,
             "#9c179e"
            ],
            [
             0.4444444444444444,
             "#bd3786"
            ],
            [
             0.5555555555555556,
             "#d8576b"
            ],
            [
             0.6666666666666666,
             "#ed7953"
            ],
            [
             0.7777777777777778,
             "#fb9f3a"
            ],
            [
             0.8888888888888888,
             "#fdca26"
            ],
            [
             1,
             "#f0f921"
            ]
           ],
           "sequentialminus": [
            [
             0,
             "#0d0887"
            ],
            [
             0.1111111111111111,
             "#46039f"
            ],
            [
             0.2222222222222222,
             "#7201a8"
            ],
            [
             0.3333333333333333,
             "#9c179e"
            ],
            [
             0.4444444444444444,
             "#bd3786"
            ],
            [
             0.5555555555555556,
             "#d8576b"
            ],
            [
             0.6666666666666666,
             "#ed7953"
            ],
            [
             0.7777777777777778,
             "#fb9f3a"
            ],
            [
             0.8888888888888888,
             "#fdca26"
            ],
            [
             1,
             "#f0f921"
            ]
           ]
          },
          "colorway": [
           "#636efa",
           "#EF553B",
           "#00cc96",
           "#ab63fa",
           "#FFA15A",
           "#19d3f3",
           "#FF6692",
           "#B6E880",
           "#FF97FF",
           "#FECB52"
          ],
          "font": {
           "color": "#2a3f5f"
          },
          "geo": {
           "bgcolor": "white",
           "lakecolor": "white",
           "landcolor": "white",
           "showlakes": true,
           "showland": true,
           "subunitcolor": "#C8D4E3"
          },
          "hoverlabel": {
           "align": "left"
          },
          "hovermode": "closest",
          "mapbox": {
           "style": "light"
          },
          "paper_bgcolor": "white",
          "plot_bgcolor": "white",
          "polar": {
           "angularaxis": {
            "gridcolor": "#EBF0F8",
            "linecolor": "#EBF0F8",
            "ticks": ""
           },
           "bgcolor": "white",
           "radialaxis": {
            "gridcolor": "#EBF0F8",
            "linecolor": "#EBF0F8",
            "ticks": ""
           }
          },
          "scene": {
           "xaxis": {
            "backgroundcolor": "white",
            "gridcolor": "#DFE8F3",
            "gridwidth": 2,
            "linecolor": "#EBF0F8",
            "showbackground": true,
            "ticks": "",
            "zerolinecolor": "#EBF0F8"
           },
           "yaxis": {
            "backgroundcolor": "white",
            "gridcolor": "#DFE8F3",
            "gridwidth": 2,
            "linecolor": "#EBF0F8",
            "showbackground": true,
            "ticks": "",
            "zerolinecolor": "#EBF0F8"
           },
           "zaxis": {
            "backgroundcolor": "white",
            "gridcolor": "#DFE8F3",
            "gridwidth": 2,
            "linecolor": "#EBF0F8",
            "showbackground": true,
            "ticks": "",
            "zerolinecolor": "#EBF0F8"
           }
          },
          "shapedefaults": {
           "line": {
            "color": "#2a3f5f"
           }
          },
          "ternary": {
           "aaxis": {
            "gridcolor": "#DFE8F3",
            "linecolor": "#A2B1C6",
            "ticks": ""
           },
           "baxis": {
            "gridcolor": "#DFE8F3",
            "linecolor": "#A2B1C6",
            "ticks": ""
           },
           "bgcolor": "white",
           "caxis": {
            "gridcolor": "#DFE8F3",
            "linecolor": "#A2B1C6",
            "ticks": ""
           }
          },
          "title": {
           "x": 0.05
          },
          "xaxis": {
           "automargin": true,
           "gridcolor": "#EBF0F8",
           "linecolor": "#EBF0F8",
           "ticks": "",
           "title": {
            "standoff": 15
           },
           "zerolinecolor": "#EBF0F8",
           "zerolinewidth": 2
          },
          "yaxis": {
           "automargin": true,
           "gridcolor": "#EBF0F8",
           "linecolor": "#EBF0F8",
           "ticks": "",
           "title": {
            "standoff": 15
           },
           "zerolinecolor": "#EBF0F8",
           "zerolinewidth": 2
          }
         }
        },
        "title": {
         "text": "Credit Utilization Ratio Distribution"
        },
        "xaxis": {
         "anchor": "y",
         "domain": [
          0,
          1
         ]
        },
        "yaxis": {
         "anchor": "x",
         "domain": [
          0,
          1
         ],
         "title": {
          "text": "Credit Utilization Ratio"
         }
        }
       }
      },
      "text/html": [
       "<div>                            <div id=\"0215dd3c-ffd3-4943-9212-4781b8990767\" class=\"plotly-graph-div\" style=\"height:525px; width:100%;\"></div>            <script type=\"text/javascript\">                require([\"plotly\"], function(Plotly) {                    window.PLOTLYENV=window.PLOTLYENV || {};                                    if (document.getElementById(\"0215dd3c-ffd3-4943-9212-4781b8990767\")) {                    Plotly.newPlot(                        \"0215dd3c-ffd3-4943-9212-4781b8990767\",                        [{\"alignmentgroup\":\"True\",\"hovertemplate\":\"Credit Utilization Ratio=%{y}<extra></extra>\",\"legendgroup\":\"\",\"marker\":{\"color\":\"#636efa\"},\"name\":\"\",\"notched\":false,\"offsetgroup\":\"\",\"orientation\":\"v\",\"showlegend\":false,\"x0\":\" \",\"xaxis\":\"x\",\"y\":[0.22,0.2,0.22,0.12,0.99,0.94,0.32,0.66,0.4,0.06,0.29,0.51,0.93,0.66,1.0,0.55,0.67,0.1,0.34,0.44,0.21,0.19,0.92,0.12,0.72,0.54,0.98,0.74,0.91,0.71,0.31,0.88,0.87,0.33,0.58,0.04,0.95,0.4,0.29,0.08,0.24,0.15,0.46,0.74,0.71,0.21,0.38,0.44,0.59,0.45,0.22,0.11,0.58,0.6,0.11,0.59,0.85,0.95,0.29,0.7,0.48,0.71,0.28,0.58,0.6,0.96,0.45,0.79,0.17,0.5,0.96,0.18,0.33,0.12,0.36,0.03,0.46,0.46,0.27,0.33,0.32,0.53,0.08,0.75,0.43,0.91,0.44,0.11,0.75,0.65,0.79,0.14,0.75,0.22,0.23,0.62,0.4,0.99,0.0,0.59,0.59,1.0,0.62,0.65,0.43,0.74,0.94,0.85,0.18,0.63,0.6,0.61,0.67,0.33,0.04,0.02,0.08,0.35,0.95,0.44,0.04,0.91,0.65,0.41,0.85,0.56,0.36,0.51,0.77,0.97,0.82,0.27,0.37,0.29,0.78,0.54,0.66,0.64,0.04,0.78,0.04,0.74,0.43,0.69,0.51,0.37,0.37,0.77,0.17,0.85,0.57,0.82,0.43,0.25,0.66,0.21,0.45,0.99,0.45,0.76,0.22,0.43,0.39,0.79,0.71,0.74,0.33,0.48,0.31,0.33,0.48,0.56,0.96,0.11,0.72,0.32,1.0,0.99,0.73,0.52,0.45,0.67,0.61,0.68,0.54,0.45,0.75,0.18,0.86,0.72,0.81,0.74,0.6,0.56,0.42,0.91,0.85,0.72,1.0,0.26,0.86,0.23,0.79,0.41,0.49,0.11,0.96,0.38,0.92,0.96,0.76,0.77,0.19,0.71,0.13,0.6,0.38,0.78,0.01,0.95,0.38,0.46,0.25,0.7,0.98,0.37,0.14,0.07,0.56,0.59,0.46,0.35,0.31,0.64,0.95,0.71,0.78,0.44,0.87,0.81,0.99,0.15,0.63,0.09,0.34,0.12,0.65,0.66,0.34,0.14,0.21,0.96,0.88,0.24,0.55,0.29,0.08,0.95,0.01,0.78,0.46,0.74,0.32,0.98,0.29,0.02,0.49,0.1,0.93,0.45,0.81,0.05,0.8,0.59,0.17,0.28,0.14,0.91,0.53,0.58,0.7,0.06,0.06,0.3,0.31,0.22,0.67,0.0,0.65,0.17,0.94,0.28,0.29,0.31,0.37,0.67,0.3,0.95,0.26,0.41,0.26,0.4,0.86,0.91,0.78,0.2,0.96,0.05,0.91,0.46,0.65,0.71,0.03,0.53,0.74,0.79,0.12,0.32,0.76,0.38,0.73,0.95,0.23,0.88,0.44,0.1,0.5,0.5,0.08,0.85,0.96,0.85,0.61,0.26,0.66,0.85,0.64,0.75,0.67,0.45,0.14,0.34,0.74,0.6,0.8,0.71,0.56,0.05,0.75,0.66,0.91,0.96,0.33,0.78,0.35,0.24,0.91,0.17,0.21,0.05,0.32,0.93,0.22,0.04,0.18,0.1,0.07,0.96,0.68,0.86,0.21,0.73,0.68,0.04,0.47,0.54,0.82,0.64,0.11,0.59,0.97,0.6,0.13,0.6,0.42,0.48,0.52,0.85,0.55,0.78,0.01,0.04,0.85,0.04,0.02,0.93,0.96,0.86,0.54,0.31,0.21,0.96,0.13,0.52,0.55,0.75,0.56,0.52,0.22,0.12,0.45,0.08,0.75,0.17,0.26,0.04,0.6,0.37,0.92,0.41,0.76,0.11,0.02,0.22,0.78,0.74,0.16,0.22,0.58,0.06,0.69,0.57,0.3,0.24,0.41,0.19,0.61,0.79,0.39,0.58,1.0,0.24,0.6,0.04,0.92,0.73,0.78,0.05,0.13,0.13,0.78,0.66,0.69,0.45,0.73,0.62,0.39,0.93,0.35,0.95,0.15,0.71,0.32,0.13,0.08,0.47,0.93,0.31,0.54,0.17,0.78,0.09,0.55,0.73,0.86,0.6,0.15,0.66,0.32,0.53,0.61,0.81,1.0,0.3,0.83,0.78,0.07,0.71,0.11,0.73,0.39,0.52,0.53,0.32,0.47,0.33,0.68,0.92,0.77,0.59,0.57,0.56,0.66,0.62,0.58,0.86,0.55,0.01,0.89,0.19,0.98,0.89,0.54,0.17,0.05,0.28,0.78,0.24,0.4,0.38,0.8,0.69,0.45,0.96,0.66,0.33,0.14,0.57,0.15,0.38,0.53,0.7,1.0,0.06,0.04,0.05,0.8,0.06,0.1,0.65,0.61,0.24,0.11,0.33,0.9,0.1,0.22,0.13,0.6,0.28,0.98,0.08,0.3,0.46,0.08,0.37,0.94,0.35,0.95,0.7,0.44,0.65,0.23,0.97,0.21,0.92,0.9,0.55,0.53,0.49,0.01,0.81,0.93,0.19,0.15,0.49,0.51,0.27,0.6,0.01,0.8,0.92,0.74,0.42,0.12,0.67,0.57,0.92,0.21,0.29,0.55,0.11,0.36,0.94,0.5,0.68,0.5,0.46,0.39,0.06,0.84,0.06,0.02,0.02,0.81,0.27,0.07,0.41,0.66,0.46,0.65,0.56,0.85,0.66,0.6,0.18,0.55,0.97,0.12,0.92,0.82,0.64,0.52,0.2,0.97,0.95,0.95,0.18,0.01,0.06,0.62,0.88,0.87,0.74,0.47,0.85,1.0,0.68,0.63,0.86,0.24,0.3,0.27,0.34,0.08,0.08,0.08,0.3,0.11,0.97,0.14,0.84,0.74,0.33,0.49,0.89,0.19,0.71,0.17,0.36,0.56,0.8,0.91,0.85,0.72,0.95,0.98,0.4,0.64,0.73,0.16,0.26,0.81,0.74,0.06,0.42,0.21,0.29,0.42,0.48,0.67,0.89,0.56,0.66,0.59,0.98,0.61,0.38,0.32,0.76,0.99,0.97,0.16,0.5,0.96,0.56,0.97,0.74,0.04,0.74,0.73,0.67,0.76,0.08,0.63,0.24,0.12,0.1,0.38,0.6,0.62,0.58,0.24,0.69,0.45,0.77,0.29,0.17,0.94,0.14,0.29,0.79,0.37,0.45,0.75,0.43,0.9,0.55,0.77,0.72,0.43,0.81,0.79,0.53,0.83,0.06,0.74,0.2,0.88,0.61,0.57,0.73,0.45,0.4,0.08,0.53,0.71,0.05,0.99,0.32,0.17,0.07,0.32,0.51,0.43,0.04,0.81,0.7,0.05,0.16,0.86,0.76,0.45,0.86,0.99,0.35,0.63,0.12,0.3,0.21,0.42,0.57,0.17,0.76,0.6,0.82,0.84,0.41,0.74,0.14,0.48,0.77,0.93,0.12,0.58,0.66,0.46,0.83,0.86,0.76,0.75,0.22,0.1,0.03,0.63,0.69,0.91,0.97,0.16,0.3,0.1,0.13,0.68,0.66,0.27,0.27,0.53,0.81,0.13,0.44,0.41,0.93,0.19,0.67,0.17,0.74,0.62,0.49,0.47,0.14,0.74,0.75,0.5,0.49,0.82,0.4,0.63,0.36,0.29,0.01,0.58,0.07,0.55,0.52,0.81,0.18,0.71,0.87,0.88,0.97,0.63,0.73,0.49,0.43,0.11,0.74,0.06,0.0,0.88,0.36,0.82,0.15,0.77,0.42,0.09,0.36,0.96,0.84,0.74,0.06,0.5,0.62,0.64,0.78,0.2,0.09,0.7,0.59,0.16,0.89,0.77,0.36,0.97,0.84,0.79,0.87,0.77,0.04,0.98,0.27,0.34,0.91,0.15,0.45,0.35,1.0,0.37,0.62,0.44,0.95,0.84,0.17,0.94,0.12,0.63,0.63,0.66,0.26,0.49,0.9,0.19,0.22,0.51,0.49,0.9,0.03,0.12,0.21,0.81,0.6,0.84,0.72,0.98,0.86,0.88,0.58,0.48,0.56,0.49,0.22,0.69,0.03,0.5,0.29,0.22,0.39,0.19,0.9,0.35,0.53,0.36,0.98,0.09,0.39,0.97,0.56,0.49,0.71,0.64,0.14,0.18,0.47,0.62,0.08,0.58,0.63,0.1,0.98,0.14,0.49,0.12,0.01,0.66,0.96,0.96,0.93,0.25,0.13,0.16,0.55,0.62,0.12,0.07,0.47,0.91,0.74,0.35,0.48,0.19,0.08,0.4,0.3,0.71,0.82,0.38,0.21,0.81,0.93,0.91,0.27,0.44,0.44,0.11,0.02,0.2,0.98,0.91,0.03,0.8,0.8,0.56,0.67,0.49,0.1,0.4,0.74,0.77,0.18,0.32,0.17],\"y0\":\" \",\"yaxis\":\"y\",\"type\":\"box\"}],                        {\"template\":{\"data\":{\"histogram2dcontour\":[{\"type\":\"histogram2dcontour\",\"colorbar\":{\"outlinewidth\":0,\"ticks\":\"\"},\"colorscale\":[[0.0,\"#0d0887\"],[0.1111111111111111,\"#46039f\"],[0.2222222222222222,\"#7201a8\"],[0.3333333333333333,\"#9c179e\"],[0.4444444444444444,\"#bd3786\"],[0.5555555555555556,\"#d8576b\"],[0.6666666666666666,\"#ed7953\"],[0.7777777777777778,\"#fb9f3a\"],[0.8888888888888888,\"#fdca26\"],[1.0,\"#f0f921\"]]}],\"choropleth\":[{\"type\":\"choropleth\",\"colorbar\":{\"outlinewidth\":0,\"ticks\":\"\"}}],\"histogram2d\":[{\"type\":\"histogram2d\",\"colorbar\":{\"outlinewidth\":0,\"ticks\":\"\"},\"colorscale\":[[0.0,\"#0d0887\"],[0.1111111111111111,\"#46039f\"],[0.2222222222222222,\"#7201a8\"],[0.3333333333333333,\"#9c179e\"],[0.4444444444444444,\"#bd3786\"],[0.5555555555555556,\"#d8576b\"],[0.6666666666666666,\"#ed7953\"],[0.7777777777777778,\"#fb9f3a\"],[0.8888888888888888,\"#fdca26\"],[1.0,\"#f0f921\"]]}],\"heatmap\":[{\"type\":\"heatmap\",\"colorbar\":{\"outlinewidth\":0,\"ticks\":\"\"},\"colorscale\":[[0.0,\"#0d0887\"],[0.1111111111111111,\"#46039f\"],[0.2222222222222222,\"#7201a8\"],[0.3333333333333333,\"#9c179e\"],[0.4444444444444444,\"#bd3786\"],[0.5555555555555556,\"#d8576b\"],[0.6666666666666666,\"#ed7953\"],[0.7777777777777778,\"#fb9f3a\"],[0.8888888888888888,\"#fdca26\"],[1.0,\"#f0f921\"]]}],\"heatmapgl\":[{\"type\":\"heatmapgl\",\"colorbar\":{\"outlinewidth\":0,\"ticks\":\"\"},\"colorscale\":[[0.0,\"#0d0887\"],[0.1111111111111111,\"#46039f\"],[0.2222222222222222,\"#7201a8\"],[0.3333333333333333,\"#9c179e\"],[0.4444444444444444,\"#bd3786\"],[0.5555555555555556,\"#d8576b\"],[0.6666666666666666,\"#ed7953\"],[0.7777777777777778,\"#fb9f3a\"],[0.8888888888888888,\"#fdca26\"],[1.0,\"#f0f921\"]]}],\"contourcarpet\":[{\"type\":\"contourcarpet\",\"colorbar\":{\"outlinewidth\":0,\"ticks\":\"\"}}],\"contour\":[{\"type\":\"contour\",\"colorbar\":{\"outlinewidth\":0,\"ticks\":\"\"},\"colorscale\":[[0.0,\"#0d0887\"],[0.1111111111111111,\"#46039f\"],[0.2222222222222222,\"#7201a8\"],[0.3333333333333333,\"#9c179e\"],[0.4444444444444444,\"#bd3786\"],[0.5555555555555556,\"#d8576b\"],[0.6666666666666666,\"#ed7953\"],[0.7777777777777778,\"#fb9f3a\"],[0.8888888888888888,\"#fdca26\"],[1.0,\"#f0f921\"]]}],\"surface\":[{\"type\":\"surface\",\"colorbar\":{\"outlinewidth\":0,\"ticks\":\"\"},\"colorscale\":[[0.0,\"#0d0887\"],[0.1111111111111111,\"#46039f\"],[0.2222222222222222,\"#7201a8\"],[0.3333333333333333,\"#9c179e\"],[0.4444444444444444,\"#bd3786\"],[0.5555555555555556,\"#d8576b\"],[0.6666666666666666,\"#ed7953\"],[0.7777777777777778,\"#fb9f3a\"],[0.8888888888888888,\"#fdca26\"],[1.0,\"#f0f921\"]]}],\"mesh3d\":[{\"type\":\"mesh3d\",\"colorbar\":{\"outlinewidth\":0,\"ticks\":\"\"}}],\"scatter\":[{\"fillpattern\":{\"fillmode\":\"overlay\",\"size\":10,\"solidity\":0.2},\"type\":\"scatter\"}],\"parcoords\":[{\"type\":\"parcoords\",\"line\":{\"colorbar\":{\"outlinewidth\":0,\"ticks\":\"\"}}}],\"scatterpolargl\":[{\"type\":\"scatterpolargl\",\"marker\":{\"colorbar\":{\"outlinewidth\":0,\"ticks\":\"\"}}}],\"bar\":[{\"error_x\":{\"color\":\"#2a3f5f\"},\"error_y\":{\"color\":\"#2a3f5f\"},\"marker\":{\"line\":{\"color\":\"white\",\"width\":0.5},\"pattern\":{\"fillmode\":\"overlay\",\"size\":10,\"solidity\":0.2}},\"type\":\"bar\"}],\"scattergeo\":[{\"type\":\"scattergeo\",\"marker\":{\"colorbar\":{\"outlinewidth\":0,\"ticks\":\"\"}}}],\"scatterpolar\":[{\"type\":\"scatterpolar\",\"marker\":{\"colorbar\":{\"outlinewidth\":0,\"ticks\":\"\"}}}],\"histogram\":[{\"marker\":{\"pattern\":{\"fillmode\":\"overlay\",\"size\":10,\"solidity\":0.2}},\"type\":\"histogram\"}],\"scattergl\":[{\"type\":\"scattergl\",\"marker\":{\"colorbar\":{\"outlinewidth\":0,\"ticks\":\"\"}}}],\"scatter3d\":[{\"type\":\"scatter3d\",\"line\":{\"colorbar\":{\"outlinewidth\":0,\"ticks\":\"\"}},\"marker\":{\"colorbar\":{\"outlinewidth\":0,\"ticks\":\"\"}}}],\"scattermapbox\":[{\"type\":\"scattermapbox\",\"marker\":{\"colorbar\":{\"outlinewidth\":0,\"ticks\":\"\"}}}],\"scatterternary\":[{\"type\":\"scatterternary\",\"marker\":{\"colorbar\":{\"outlinewidth\":0,\"ticks\":\"\"}}}],\"scattercarpet\":[{\"type\":\"scattercarpet\",\"marker\":{\"colorbar\":{\"outlinewidth\":0,\"ticks\":\"\"}}}],\"carpet\":[{\"aaxis\":{\"endlinecolor\":\"#2a3f5f\",\"gridcolor\":\"#C8D4E3\",\"linecolor\":\"#C8D4E3\",\"minorgridcolor\":\"#C8D4E3\",\"startlinecolor\":\"#2a3f5f\"},\"baxis\":{\"endlinecolor\":\"#2a3f5f\",\"gridcolor\":\"#C8D4E3\",\"linecolor\":\"#C8D4E3\",\"minorgridcolor\":\"#C8D4E3\",\"startlinecolor\":\"#2a3f5f\"},\"type\":\"carpet\"}],\"table\":[{\"cells\":{\"fill\":{\"color\":\"#EBF0F8\"},\"line\":{\"color\":\"white\"}},\"header\":{\"fill\":{\"color\":\"#C8D4E3\"},\"line\":{\"color\":\"white\"}},\"type\":\"table\"}],\"barpolar\":[{\"marker\":{\"line\":{\"color\":\"white\",\"width\":0.5},\"pattern\":{\"fillmode\":\"overlay\",\"size\":10,\"solidity\":0.2}},\"type\":\"barpolar\"}],\"pie\":[{\"automargin\":true,\"type\":\"pie\"}]},\"layout\":{\"autotypenumbers\":\"strict\",\"colorway\":[\"#636efa\",\"#EF553B\",\"#00cc96\",\"#ab63fa\",\"#FFA15A\",\"#19d3f3\",\"#FF6692\",\"#B6E880\",\"#FF97FF\",\"#FECB52\"],\"font\":{\"color\":\"#2a3f5f\"},\"hovermode\":\"closest\",\"hoverlabel\":{\"align\":\"left\"},\"paper_bgcolor\":\"white\",\"plot_bgcolor\":\"white\",\"polar\":{\"bgcolor\":\"white\",\"angularaxis\":{\"gridcolor\":\"#EBF0F8\",\"linecolor\":\"#EBF0F8\",\"ticks\":\"\"},\"radialaxis\":{\"gridcolor\":\"#EBF0F8\",\"linecolor\":\"#EBF0F8\",\"ticks\":\"\"}},\"ternary\":{\"bgcolor\":\"white\",\"aaxis\":{\"gridcolor\":\"#DFE8F3\",\"linecolor\":\"#A2B1C6\",\"ticks\":\"\"},\"baxis\":{\"gridcolor\":\"#DFE8F3\",\"linecolor\":\"#A2B1C6\",\"ticks\":\"\"},\"caxis\":{\"gridcolor\":\"#DFE8F3\",\"linecolor\":\"#A2B1C6\",\"ticks\":\"\"}},\"coloraxis\":{\"colorbar\":{\"outlinewidth\":0,\"ticks\":\"\"}},\"colorscale\":{\"sequential\":[[0.0,\"#0d0887\"],[0.1111111111111111,\"#46039f\"],[0.2222222222222222,\"#7201a8\"],[0.3333333333333333,\"#9c179e\"],[0.4444444444444444,\"#bd3786\"],[0.5555555555555556,\"#d8576b\"],[0.6666666666666666,\"#ed7953\"],[0.7777777777777778,\"#fb9f3a\"],[0.8888888888888888,\"#fdca26\"],[1.0,\"#f0f921\"]],\"sequentialminus\":[[0.0,\"#0d0887\"],[0.1111111111111111,\"#46039f\"],[0.2222222222222222,\"#7201a8\"],[0.3333333333333333,\"#9c179e\"],[0.4444444444444444,\"#bd3786\"],[0.5555555555555556,\"#d8576b\"],[0.6666666666666666,\"#ed7953\"],[0.7777777777777778,\"#fb9f3a\"],[0.8888888888888888,\"#fdca26\"],[1.0,\"#f0f921\"]],\"diverging\":[[0,\"#8e0152\"],[0.1,\"#c51b7d\"],[0.2,\"#de77ae\"],[0.3,\"#f1b6da\"],[0.4,\"#fde0ef\"],[0.5,\"#f7f7f7\"],[0.6,\"#e6f5d0\"],[0.7,\"#b8e186\"],[0.8,\"#7fbc41\"],[0.9,\"#4d9221\"],[1,\"#276419\"]]},\"xaxis\":{\"gridcolor\":\"#EBF0F8\",\"linecolor\":\"#EBF0F8\",\"ticks\":\"\",\"title\":{\"standoff\":15},\"zerolinecolor\":\"#EBF0F8\",\"automargin\":true,\"zerolinewidth\":2},\"yaxis\":{\"gridcolor\":\"#EBF0F8\",\"linecolor\":\"#EBF0F8\",\"ticks\":\"\",\"title\":{\"standoff\":15},\"zerolinecolor\":\"#EBF0F8\",\"automargin\":true,\"zerolinewidth\":2},\"scene\":{\"xaxis\":{\"backgroundcolor\":\"white\",\"gridcolor\":\"#DFE8F3\",\"linecolor\":\"#EBF0F8\",\"showbackground\":true,\"ticks\":\"\",\"zerolinecolor\":\"#EBF0F8\",\"gridwidth\":2},\"yaxis\":{\"backgroundcolor\":\"white\",\"gridcolor\":\"#DFE8F3\",\"linecolor\":\"#EBF0F8\",\"showbackground\":true,\"ticks\":\"\",\"zerolinecolor\":\"#EBF0F8\",\"gridwidth\":2},\"zaxis\":{\"backgroundcolor\":\"white\",\"gridcolor\":\"#DFE8F3\",\"linecolor\":\"#EBF0F8\",\"showbackground\":true,\"ticks\":\"\",\"zerolinecolor\":\"#EBF0F8\",\"gridwidth\":2}},\"shapedefaults\":{\"line\":{\"color\":\"#2a3f5f\"}},\"annotationdefaults\":{\"arrowcolor\":\"#2a3f5f\",\"arrowhead\":0,\"arrowwidth\":1},\"geo\":{\"bgcolor\":\"white\",\"landcolor\":\"white\",\"subunitcolor\":\"#C8D4E3\",\"showland\":true,\"showlakes\":true,\"lakecolor\":\"white\"},\"title\":{\"x\":0.05},\"mapbox\":{\"style\":\"light\"}}},\"xaxis\":{\"anchor\":\"y\",\"domain\":[0.0,1.0]},\"yaxis\":{\"anchor\":\"x\",\"domain\":[0.0,1.0],\"title\":{\"text\":\"Credit Utilization Ratio\"}},\"legend\":{\"tracegroupgap\":0},\"title\":{\"text\":\"Credit Utilization Ratio Distribution\"},\"boxmode\":\"group\"},                        {\"responsive\": true}                    ).then(function(){\n",
       "                            \n",
       "var gd = document.getElementById('0215dd3c-ffd3-4943-9212-4781b8990767');\n",
       "var x = new MutationObserver(function (mutations, observer) {{\n",
       "        var display = window.getComputedStyle(gd).display;\n",
       "        if (!display || display === 'none') {{\n",
       "            console.log([gd, 'removed!']);\n",
       "            Plotly.purge(gd);\n",
       "            observer.disconnect();\n",
       "        }}\n",
       "}});\n",
       "\n",
       "// Listen for the removal of the full notebook cells\n",
       "var notebookContainer = gd.closest('#notebook-container');\n",
       "if (notebookContainer) {{\n",
       "    x.observe(notebookContainer, {childList: true});\n",
       "}}\n",
       "\n",
       "// Listen for the clearing of the current output cell\n",
       "var outputEl = gd.closest('.output');\n",
       "if (outputEl) {{\n",
       "    x.observe(outputEl, {childList: true});\n",
       "}}\n",
       "\n",
       "                        })                };                });            </script>        </div>"
      ]
     },
     "metadata": {},
     "output_type": "display_data"
    }
   ],
   "source": [
    "credit_utilization_fig = px.box(df, y = \"Credit Utilization Ratio\",\n",
    "                               title = 'Credit Utilization Ratio Distribution')\n",
    "\n",
    "credit_utilization_fig.show()"
   ]
  },
  {
   "cell_type": "code",
   "execution_count": 12,
   "id": "eef97449",
   "metadata": {},
   "outputs": [
    {
     "data": {
      "application/vnd.plotly.v1+json": {
       "config": {
        "plotlyServerURL": "https://plot.ly"
       },
       "data": [
        {
         "alignmentgroup": "True",
         "bingroup": "x",
         "hovertemplate": "Loan Amount=%{x}<br>count=%{y}<extra></extra>",
         "legendgroup": "",
         "marker": {
          "color": "#636efa",
          "pattern": {
           "shape": ""
          }
         },
         "name": "",
         "nbinsx": 20,
         "offsetgroup": "",
         "orientation": "v",
         "showlegend": false,
         "type": "histogram",
         "x": [
          4675000,
          3619000,
          957000,
          4731000,
          3289000,
          1536000,
          2021000,
          1298000,
          4374000,
          4026000,
          127000,
          3237000,
          586000,
          2323000,
          3775000,
          160000,
          1210000,
          3653000,
          1707000,
          524000,
          1481000,
          4959000,
          577000,
          4956000,
          3420000,
          1211000,
          166000,
          2464000,
          3653000,
          1038000,
          1862000,
          2887000,
          1774000,
          3046000,
          1009000,
          4461000,
          2733000,
          1168000,
          2803000,
          2912000,
          711000,
          994000,
          4789000,
          2274000,
          2917000,
          2876000,
          2605000,
          2920000,
          804000,
          2434000,
          360000,
          2250000,
          3248000,
          445000,
          1383000,
          827000,
          1879000,
          3509000,
          2669000,
          2209000,
          4501000,
          482000,
          2958000,
          1373000,
          4484000,
          1870000,
          2543000,
          1759000,
          4875000,
          775000,
          274000,
          4225000,
          2518000,
          4417000,
          3808000,
          2107000,
          4281000,
          1699000,
          2604000,
          3264000,
          3339000,
          1309000,
          3288000,
          943000,
          3557000,
          3968000,
          2609000,
          3111000,
          3055000,
          380000,
          4309000,
          4775000,
          3296000,
          2635000,
          3360000,
          3208000,
          3914000,
          1821000,
          4632000,
          2326000,
          1958000,
          1006000,
          2828000,
          1904000,
          3240000,
          603000,
          2513000,
          3183000,
          2951000,
          4550000,
          1420000,
          1908000,
          3416000,
          3713000,
          753000,
          3960000,
          1959000,
          2082000,
          3992000,
          2640000,
          744000,
          2797000,
          3772000,
          539000,
          2896000,
          1172000,
          2967000,
          417000,
          467000,
          1728000,
          2197000,
          3770000,
          3245000,
          4035000,
          1122000,
          4924000,
          3125000,
          236000,
          1569000,
          2562000,
          2500000,
          1667000,
          2564000,
          455000,
          361000,
          372000,
          2194000,
          1900000,
          836000,
          3132000,
          1189000,
          2759000,
          4446000,
          2402000,
          2932000,
          354000,
          1426000,
          1197000,
          525000,
          4016000,
          524000,
          3483000,
          2446000,
          3167000,
          3933000,
          2922000,
          4996000,
          3289000,
          1810000,
          4508000,
          4782000,
          2514000,
          3811000,
          2107000,
          143000,
          850000,
          1663000,
          4243000,
          1662000,
          900000,
          2633000,
          1440000,
          4111000,
          4508000,
          4465000,
          3932000,
          480000,
          3241000,
          4607000,
          3282000,
          231000,
          2066000,
          2087000,
          3684000,
          3258000,
          3594000,
          1698000,
          4121000,
          1816000,
          4009000,
          236000,
          4288000,
          4685000,
          670000,
          4728000,
          1349000,
          2140000,
          179000,
          4855000,
          3441000,
          4301000,
          2838000,
          819000,
          3368000,
          3865000,
          204000,
          2626000,
          2169000,
          3287000,
          2736000,
          3162000,
          3778000,
          3262000,
          813000,
          2882000,
          4298000,
          3920000,
          289000,
          3498000,
          1902000,
          4527000,
          1547000,
          1286000,
          4755000,
          1737000,
          1503000,
          4711000,
          959000,
          1861000,
          3043000,
          1237000,
          3394000,
          3479000,
          631000,
          4849000,
          3930000,
          3219000,
          109000,
          1209000,
          1298000,
          3554000,
          2179000,
          4374000,
          696000,
          712000,
          3585000,
          4600000,
          2151000,
          1474000,
          346000,
          4291000,
          203000,
          2375000,
          4001000,
          2135000,
          180000,
          2447000,
          728000,
          2768000,
          1113000,
          438000,
          1559000,
          200000,
          641000,
          3413000,
          2162000,
          2190000,
          3358000,
          2053000,
          1557000,
          1292000,
          267000,
          1288000,
          3765000,
          1168000,
          4262000,
          3847000,
          3620000,
          1464000,
          729000,
          3742000,
          516000,
          4129000,
          4203000,
          2309000,
          2009000,
          4312000,
          1717000,
          830000,
          4988000,
          4898000,
          513000,
          2012000,
          4433000,
          343000,
          4337000,
          4725000,
          1957000,
          171000,
          2635000,
          2604000,
          1680000,
          2276000,
          3107000,
          1636000,
          2286000,
          4545000,
          778000,
          1429000,
          1773000,
          2718000,
          4497000,
          1872000,
          508000,
          2220000,
          1251000,
          2306000,
          2873000,
          2247000,
          3674000,
          3226000,
          1048000,
          342000,
          4502000,
          3000000,
          728000,
          761000,
          3484000,
          555000,
          118000,
          997000,
          490000,
          4151000,
          3327000,
          4397000,
          1213000,
          3602000,
          2340000,
          3897000,
          3594000,
          4685000,
          1101000,
          435000,
          1945000,
          2877000,
          2145000,
          4414000,
          4573000,
          705000,
          691000,
          4587000,
          2628000,
          4678000,
          3406000,
          1730000,
          4187000,
          4176000,
          2727000,
          3983000,
          1748000,
          2286000,
          3998000,
          1278000,
          2044000,
          435000,
          3275000,
          4144000,
          1668000,
          4118000,
          429000,
          2478000,
          4385000,
          4485000,
          4322000,
          3698000,
          2476000,
          3246000,
          3167000,
          4946000,
          1899000,
          4057000,
          4471000,
          1734000,
          1421000,
          856000,
          2290000,
          2198000,
          2263000,
          2183000,
          2357000,
          3087000,
          2746000,
          4112000,
          199000,
          4054000,
          2446000,
          1323000,
          4182000,
          908000,
          1769000,
          2504000,
          2730000,
          3573000,
          635000,
          3370000,
          4094000,
          3749000,
          2647000,
          2613000,
          3411000,
          2488000,
          3898000,
          2358000,
          4281000,
          4044000,
          3966000,
          4710000,
          3742000,
          1400000,
          4599000,
          2203000,
          2815000,
          3180000,
          4621000,
          907000,
          3360000,
          1851000,
          2330000,
          2187000,
          3683000,
          2744000,
          3246000,
          2632000,
          1261000,
          2824000,
          758000,
          2657000,
          3838000,
          4894000,
          4792000,
          852000,
          1520000,
          1043000,
          1853000,
          3259000,
          170000,
          936000,
          2175000,
          2081000,
          2967000,
          2862000,
          3708000,
          2773000,
          2339000,
          1225000,
          1998000,
          4210000,
          4598000,
          4778000,
          558000,
          1235000,
          1136000,
          2912000,
          1616000,
          4239000,
          2433000,
          2604000,
          4901000,
          3685000,
          1854000,
          4507000,
          2537000,
          2900000,
          151000,
          4080000,
          4471000,
          361000,
          2377000,
          1795000,
          2846000,
          134000,
          289000,
          1087000,
          4916000,
          989000,
          759000,
          4047000,
          3902000,
          1169000,
          2144000,
          2081000,
          2684000,
          1265000,
          1825000,
          3491000,
          3721000,
          4084000,
          1308000,
          3671000,
          4948000,
          3192000,
          4063000,
          3909000,
          2651000,
          329000,
          1036000,
          1617000,
          1869000,
          4567000,
          444000,
          3381000,
          4694000,
          2213000,
          1190000,
          2418000,
          2320000,
          1932000,
          257000,
          4920000,
          1117000,
          3956000,
          4181000,
          3361000,
          3502000,
          260000,
          3927000,
          3472000,
          3583000,
          3255000,
          4093000,
          1610000,
          903000,
          4273000,
          463000,
          4963000,
          1777000,
          1594000,
          600000,
          1526000,
          2169000,
          4330000,
          3511000,
          4885000,
          693000,
          4418000,
          662000,
          1991000,
          4518000,
          3941000,
          1813000,
          2545000,
          4547000,
          497000,
          1453000,
          2759000,
          1320000,
          1334000,
          3469000,
          1742000,
          4391000,
          2684000,
          1271000,
          842000,
          4746000,
          1142000,
          3135000,
          2277000,
          509000,
          2806000,
          3229000,
          4509000,
          2714000,
          1180000,
          752000,
          656000,
          1321000,
          217000,
          3174000,
          1047000,
          790000,
          1684000,
          813000,
          1780000,
          3493000,
          349000,
          908000,
          4634000,
          4770000,
          4872000,
          3269000,
          326000,
          2068000,
          3966000,
          4884000,
          1498000,
          3472000,
          3683000,
          4423000,
          2348000,
          2619000,
          2081000,
          410000,
          267000,
          1279000,
          2862000,
          3526000,
          2430000,
          559000,
          3359000,
          3508000,
          4347000,
          1242000,
          3542000,
          1626000,
          1516000,
          4511000,
          2516000,
          2534000,
          3435000,
          4050000,
          3211000,
          2762000,
          3708000,
          4761000,
          3761000,
          3033000,
          4888000,
          3407000,
          149000,
          2811000,
          848000,
          1201000,
          857000,
          1401000,
          1347000,
          1003000,
          1056000,
          3874000,
          149000,
          2640000,
          233000,
          822000,
          4055000,
          3587000,
          4193000,
          1081000,
          2047000,
          4062000,
          4229000,
          1430000,
          2955000,
          988000,
          3804000,
          155000,
          2159000,
          350000,
          616000,
          2653000,
          3809000,
          4466000,
          2270000,
          1139000,
          4574000,
          4432000,
          1902000,
          3597000,
          1416000,
          1088000,
          1908000,
          3895000,
          849000,
          843000,
          4645000,
          259000,
          2952000,
          2494000,
          328000,
          1799000,
          649000,
          2655000,
          4609000,
          4145000,
          687000,
          2292000,
          1222000,
          3395000,
          3103000,
          3102000,
          1854000,
          4841000,
          294000,
          2810000,
          494000,
          1993000,
          4126000,
          2898000,
          3266000,
          538000,
          950000,
          1724000,
          1255000,
          1337000,
          3641000,
          2878000,
          1941000,
          1822000,
          3119000,
          1598000,
          2115000,
          1708000,
          2173000,
          1505000,
          4251000,
          1934000,
          4452000,
          2759000,
          4402000,
          2862000,
          3487000,
          2061000,
          1858000,
          1992000,
          2870000,
          1011000,
          325000,
          1541000,
          1190000,
          2411000,
          4933000,
          2190000,
          2111000,
          3550000,
          4345000,
          417000,
          3772000,
          751000,
          1913000,
          3266000,
          630000,
          1837000,
          201000,
          2629000,
          1215000,
          4323000,
          766000,
          3822000,
          2021000,
          3300000,
          1153000,
          3657000,
          3116000,
          2619000,
          4134000,
          4223000,
          426000,
          3189000,
          1341000,
          3436000,
          2684000,
          2685000,
          1531000,
          1786000,
          3269000,
          2332000,
          4176000,
          3275000,
          1131000,
          2803000,
          3690000,
          4333000,
          2141000,
          4096000,
          642000,
          848000,
          619000,
          994000,
          1324000,
          3260000,
          2609000,
          4528000,
          2651000,
          177000,
          540000,
          4199000,
          197000,
          1619000,
          3500000,
          1609000,
          394000,
          4580000,
          408000,
          724000,
          4595000,
          1476000,
          4700000,
          1964000,
          2466000,
          4728000,
          2343000,
          4313000,
          767000,
          4367000,
          3665000,
          1988000,
          2195000,
          1924000,
          3069000,
          4414000,
          3158000,
          149000,
          1769000,
          4310000,
          537000,
          2178000,
          965000,
          1326000,
          2920000,
          2172000,
          945000,
          2878000,
          1195000,
          2976000,
          3014000,
          1500000,
          4407000,
          1927000,
          1535000,
          1861000,
          3525000,
          231000,
          3809000,
          1344000,
          2466000,
          941000,
          1209000,
          1797000,
          4660000,
          2001000,
          1522000,
          1368000,
          2374000,
          665000,
          4246000,
          4578000,
          1805000,
          2572000,
          3266000,
          1332000,
          2612000,
          1556000,
          3654000,
          1641000,
          559000,
          2109000,
          2358000,
          3092000,
          3517000,
          1452000,
          4490000,
          2106000,
          831000,
          1603000,
          3149000,
          800000,
          167000,
          3027000,
          2858000,
          1321000,
          1874000,
          3887000,
          1480000,
          183000,
          4290000,
          406000,
          221000,
          3051000,
          1464000,
          971000,
          2532000,
          3564000,
          135000,
          2129000,
          3482000,
          2283000,
          333000,
          1665000,
          1306000,
          749000,
          1864000,
          364000,
          293000,
          2345000,
          2198000,
          2379000,
          1503000,
          3702000,
          2859000,
          4806000,
          517000,
          2083000,
          4575000,
          3001000,
          3237000,
          1999000,
          503000,
          2779000,
          2800000,
          754000,
          4526000,
          3895000,
          1336000,
          3897000,
          546000,
          2415000,
          4925000,
          4254000,
          4099000,
          4081000,
          108000,
          888000,
          2626000,
          3096000,
          2398000,
          2695000,
          1024000,
          4184000,
          3055000,
          3724000,
          923000,
          2197000,
          906000,
          332000,
          549000,
          2897000,
          1820000,
          4168000,
          4074000,
          2283000,
          1533000,
          3382000,
          4970000,
          4300000,
          2946000,
          4932000,
          3487000,
          2042000,
          3804000,
          4768000,
          822000,
          1654000,
          663000,
          4634000,
          4443000,
          371000,
          4240000,
          4116000,
          2011000,
          1151000,
          2098000,
          1615000,
          744000,
          2555000,
          2447000,
          2072000,
          2441000,
          4567000,
          329000,
          3988000,
          818000,
          204000,
          3109000,
          2277000,
          4351000,
          475000,
          3589000,
          4048000,
          1874000,
          3297000,
          4499000,
          3924000,
          4161000,
          2283000,
          1609000,
          301000,
          2561000,
          3530000,
          1377000,
          2443000,
          1301000,
          4182000
         ],
         "xaxis": "x",
         "yaxis": "y"
        }
       ],
       "layout": {
        "barmode": "relative",
        "legend": {
         "tracegroupgap": 0
        },
        "template": {
         "data": {
          "bar": [
           {
            "error_x": {
             "color": "#2a3f5f"
            },
            "error_y": {
             "color": "#2a3f5f"
            },
            "marker": {
             "line": {
              "color": "white",
              "width": 0.5
             },
             "pattern": {
              "fillmode": "overlay",
              "size": 10,
              "solidity": 0.2
             }
            },
            "type": "bar"
           }
          ],
          "barpolar": [
           {
            "marker": {
             "line": {
              "color": "white",
              "width": 0.5
             },
             "pattern": {
              "fillmode": "overlay",
              "size": 10,
              "solidity": 0.2
             }
            },
            "type": "barpolar"
           }
          ],
          "carpet": [
           {
            "aaxis": {
             "endlinecolor": "#2a3f5f",
             "gridcolor": "#C8D4E3",
             "linecolor": "#C8D4E3",
             "minorgridcolor": "#C8D4E3",
             "startlinecolor": "#2a3f5f"
            },
            "baxis": {
             "endlinecolor": "#2a3f5f",
             "gridcolor": "#C8D4E3",
             "linecolor": "#C8D4E3",
             "minorgridcolor": "#C8D4E3",
             "startlinecolor": "#2a3f5f"
            },
            "type": "carpet"
           }
          ],
          "choropleth": [
           {
            "colorbar": {
             "outlinewidth": 0,
             "ticks": ""
            },
            "type": "choropleth"
           }
          ],
          "contour": [
           {
            "colorbar": {
             "outlinewidth": 0,
             "ticks": ""
            },
            "colorscale": [
             [
              0,
              "#0d0887"
             ],
             [
              0.1111111111111111,
              "#46039f"
             ],
             [
              0.2222222222222222,
              "#7201a8"
             ],
             [
              0.3333333333333333,
              "#9c179e"
             ],
             [
              0.4444444444444444,
              "#bd3786"
             ],
             [
              0.5555555555555556,
              "#d8576b"
             ],
             [
              0.6666666666666666,
              "#ed7953"
             ],
             [
              0.7777777777777778,
              "#fb9f3a"
             ],
             [
              0.8888888888888888,
              "#fdca26"
             ],
             [
              1,
              "#f0f921"
             ]
            ],
            "type": "contour"
           }
          ],
          "contourcarpet": [
           {
            "colorbar": {
             "outlinewidth": 0,
             "ticks": ""
            },
            "type": "contourcarpet"
           }
          ],
          "heatmap": [
           {
            "colorbar": {
             "outlinewidth": 0,
             "ticks": ""
            },
            "colorscale": [
             [
              0,
              "#0d0887"
             ],
             [
              0.1111111111111111,
              "#46039f"
             ],
             [
              0.2222222222222222,
              "#7201a8"
             ],
             [
              0.3333333333333333,
              "#9c179e"
             ],
             [
              0.4444444444444444,
              "#bd3786"
             ],
             [
              0.5555555555555556,
              "#d8576b"
             ],
             [
              0.6666666666666666,
              "#ed7953"
             ],
             [
              0.7777777777777778,
              "#fb9f3a"
             ],
             [
              0.8888888888888888,
              "#fdca26"
             ],
             [
              1,
              "#f0f921"
             ]
            ],
            "type": "heatmap"
           }
          ],
          "heatmapgl": [
           {
            "colorbar": {
             "outlinewidth": 0,
             "ticks": ""
            },
            "colorscale": [
             [
              0,
              "#0d0887"
             ],
             [
              0.1111111111111111,
              "#46039f"
             ],
             [
              0.2222222222222222,
              "#7201a8"
             ],
             [
              0.3333333333333333,
              "#9c179e"
             ],
             [
              0.4444444444444444,
              "#bd3786"
             ],
             [
              0.5555555555555556,
              "#d8576b"
             ],
             [
              0.6666666666666666,
              "#ed7953"
             ],
             [
              0.7777777777777778,
              "#fb9f3a"
             ],
             [
              0.8888888888888888,
              "#fdca26"
             ],
             [
              1,
              "#f0f921"
             ]
            ],
            "type": "heatmapgl"
           }
          ],
          "histogram": [
           {
            "marker": {
             "pattern": {
              "fillmode": "overlay",
              "size": 10,
              "solidity": 0.2
             }
            },
            "type": "histogram"
           }
          ],
          "histogram2d": [
           {
            "colorbar": {
             "outlinewidth": 0,
             "ticks": ""
            },
            "colorscale": [
             [
              0,
              "#0d0887"
             ],
             [
              0.1111111111111111,
              "#46039f"
             ],
             [
              0.2222222222222222,
              "#7201a8"
             ],
             [
              0.3333333333333333,
              "#9c179e"
             ],
             [
              0.4444444444444444,
              "#bd3786"
             ],
             [
              0.5555555555555556,
              "#d8576b"
             ],
             [
              0.6666666666666666,
              "#ed7953"
             ],
             [
              0.7777777777777778,
              "#fb9f3a"
             ],
             [
              0.8888888888888888,
              "#fdca26"
             ],
             [
              1,
              "#f0f921"
             ]
            ],
            "type": "histogram2d"
           }
          ],
          "histogram2dcontour": [
           {
            "colorbar": {
             "outlinewidth": 0,
             "ticks": ""
            },
            "colorscale": [
             [
              0,
              "#0d0887"
             ],
             [
              0.1111111111111111,
              "#46039f"
             ],
             [
              0.2222222222222222,
              "#7201a8"
             ],
             [
              0.3333333333333333,
              "#9c179e"
             ],
             [
              0.4444444444444444,
              "#bd3786"
             ],
             [
              0.5555555555555556,
              "#d8576b"
             ],
             [
              0.6666666666666666,
              "#ed7953"
             ],
             [
              0.7777777777777778,
              "#fb9f3a"
             ],
             [
              0.8888888888888888,
              "#fdca26"
             ],
             [
              1,
              "#f0f921"
             ]
            ],
            "type": "histogram2dcontour"
           }
          ],
          "mesh3d": [
           {
            "colorbar": {
             "outlinewidth": 0,
             "ticks": ""
            },
            "type": "mesh3d"
           }
          ],
          "parcoords": [
           {
            "line": {
             "colorbar": {
              "outlinewidth": 0,
              "ticks": ""
             }
            },
            "type": "parcoords"
           }
          ],
          "pie": [
           {
            "automargin": true,
            "type": "pie"
           }
          ],
          "scatter": [
           {
            "fillpattern": {
             "fillmode": "overlay",
             "size": 10,
             "solidity": 0.2
            },
            "type": "scatter"
           }
          ],
          "scatter3d": [
           {
            "line": {
             "colorbar": {
              "outlinewidth": 0,
              "ticks": ""
             }
            },
            "marker": {
             "colorbar": {
              "outlinewidth": 0,
              "ticks": ""
             }
            },
            "type": "scatter3d"
           }
          ],
          "scattercarpet": [
           {
            "marker": {
             "colorbar": {
              "outlinewidth": 0,
              "ticks": ""
             }
            },
            "type": "scattercarpet"
           }
          ],
          "scattergeo": [
           {
            "marker": {
             "colorbar": {
              "outlinewidth": 0,
              "ticks": ""
             }
            },
            "type": "scattergeo"
           }
          ],
          "scattergl": [
           {
            "marker": {
             "colorbar": {
              "outlinewidth": 0,
              "ticks": ""
             }
            },
            "type": "scattergl"
           }
          ],
          "scattermapbox": [
           {
            "marker": {
             "colorbar": {
              "outlinewidth": 0,
              "ticks": ""
             }
            },
            "type": "scattermapbox"
           }
          ],
          "scatterpolar": [
           {
            "marker": {
             "colorbar": {
              "outlinewidth": 0,
              "ticks": ""
             }
            },
            "type": "scatterpolar"
           }
          ],
          "scatterpolargl": [
           {
            "marker": {
             "colorbar": {
              "outlinewidth": 0,
              "ticks": ""
             }
            },
            "type": "scatterpolargl"
           }
          ],
          "scatterternary": [
           {
            "marker": {
             "colorbar": {
              "outlinewidth": 0,
              "ticks": ""
             }
            },
            "type": "scatterternary"
           }
          ],
          "surface": [
           {
            "colorbar": {
             "outlinewidth": 0,
             "ticks": ""
            },
            "colorscale": [
             [
              0,
              "#0d0887"
             ],
             [
              0.1111111111111111,
              "#46039f"
             ],
             [
              0.2222222222222222,
              "#7201a8"
             ],
             [
              0.3333333333333333,
              "#9c179e"
             ],
             [
              0.4444444444444444,
              "#bd3786"
             ],
             [
              0.5555555555555556,
              "#d8576b"
             ],
             [
              0.6666666666666666,
              "#ed7953"
             ],
             [
              0.7777777777777778,
              "#fb9f3a"
             ],
             [
              0.8888888888888888,
              "#fdca26"
             ],
             [
              1,
              "#f0f921"
             ]
            ],
            "type": "surface"
           }
          ],
          "table": [
           {
            "cells": {
             "fill": {
              "color": "#EBF0F8"
             },
             "line": {
              "color": "white"
             }
            },
            "header": {
             "fill": {
              "color": "#C8D4E3"
             },
             "line": {
              "color": "white"
             }
            },
            "type": "table"
           }
          ]
         },
         "layout": {
          "annotationdefaults": {
           "arrowcolor": "#2a3f5f",
           "arrowhead": 0,
           "arrowwidth": 1
          },
          "autotypenumbers": "strict",
          "coloraxis": {
           "colorbar": {
            "outlinewidth": 0,
            "ticks": ""
           }
          },
          "colorscale": {
           "diverging": [
            [
             0,
             "#8e0152"
            ],
            [
             0.1,
             "#c51b7d"
            ],
            [
             0.2,
             "#de77ae"
            ],
            [
             0.3,
             "#f1b6da"
            ],
            [
             0.4,
             "#fde0ef"
            ],
            [
             0.5,
             "#f7f7f7"
            ],
            [
             0.6,
             "#e6f5d0"
            ],
            [
             0.7,
             "#b8e186"
            ],
            [
             0.8,
             "#7fbc41"
            ],
            [
             0.9,
             "#4d9221"
            ],
            [
             1,
             "#276419"
            ]
           ],
           "sequential": [
            [
             0,
             "#0d0887"
            ],
            [
             0.1111111111111111,
             "#46039f"
            ],
            [
             0.2222222222222222,
             "#7201a8"
            ],
            [
             0.3333333333333333,
             "#9c179e"
            ],
            [
             0.4444444444444444,
             "#bd3786"
            ],
            [
             0.5555555555555556,
             "#d8576b"
            ],
            [
             0.6666666666666666,
             "#ed7953"
            ],
            [
             0.7777777777777778,
             "#fb9f3a"
            ],
            [
             0.8888888888888888,
             "#fdca26"
            ],
            [
             1,
             "#f0f921"
            ]
           ],
           "sequentialminus": [
            [
             0,
             "#0d0887"
            ],
            [
             0.1111111111111111,
             "#46039f"
            ],
            [
             0.2222222222222222,
             "#7201a8"
            ],
            [
             0.3333333333333333,
             "#9c179e"
            ],
            [
             0.4444444444444444,
             "#bd3786"
            ],
            [
             0.5555555555555556,
             "#d8576b"
            ],
            [
             0.6666666666666666,
             "#ed7953"
            ],
            [
             0.7777777777777778,
             "#fb9f3a"
            ],
            [
             0.8888888888888888,
             "#fdca26"
            ],
            [
             1,
             "#f0f921"
            ]
           ]
          },
          "colorway": [
           "#636efa",
           "#EF553B",
           "#00cc96",
           "#ab63fa",
           "#FFA15A",
           "#19d3f3",
           "#FF6692",
           "#B6E880",
           "#FF97FF",
           "#FECB52"
          ],
          "font": {
           "color": "#2a3f5f"
          },
          "geo": {
           "bgcolor": "white",
           "lakecolor": "white",
           "landcolor": "white",
           "showlakes": true,
           "showland": true,
           "subunitcolor": "#C8D4E3"
          },
          "hoverlabel": {
           "align": "left"
          },
          "hovermode": "closest",
          "mapbox": {
           "style": "light"
          },
          "paper_bgcolor": "white",
          "plot_bgcolor": "white",
          "polar": {
           "angularaxis": {
            "gridcolor": "#EBF0F8",
            "linecolor": "#EBF0F8",
            "ticks": ""
           },
           "bgcolor": "white",
           "radialaxis": {
            "gridcolor": "#EBF0F8",
            "linecolor": "#EBF0F8",
            "ticks": ""
           }
          },
          "scene": {
           "xaxis": {
            "backgroundcolor": "white",
            "gridcolor": "#DFE8F3",
            "gridwidth": 2,
            "linecolor": "#EBF0F8",
            "showbackground": true,
            "ticks": "",
            "zerolinecolor": "#EBF0F8"
           },
           "yaxis": {
            "backgroundcolor": "white",
            "gridcolor": "#DFE8F3",
            "gridwidth": 2,
            "linecolor": "#EBF0F8",
            "showbackground": true,
            "ticks": "",
            "zerolinecolor": "#EBF0F8"
           },
           "zaxis": {
            "backgroundcolor": "white",
            "gridcolor": "#DFE8F3",
            "gridwidth": 2,
            "linecolor": "#EBF0F8",
            "showbackground": true,
            "ticks": "",
            "zerolinecolor": "#EBF0F8"
           }
          },
          "shapedefaults": {
           "line": {
            "color": "#2a3f5f"
           }
          },
          "ternary": {
           "aaxis": {
            "gridcolor": "#DFE8F3",
            "linecolor": "#A2B1C6",
            "ticks": ""
           },
           "baxis": {
            "gridcolor": "#DFE8F3",
            "linecolor": "#A2B1C6",
            "ticks": ""
           },
           "bgcolor": "white",
           "caxis": {
            "gridcolor": "#DFE8F3",
            "linecolor": "#A2B1C6",
            "ticks": ""
           }
          },
          "title": {
           "x": 0.05
          },
          "xaxis": {
           "automargin": true,
           "gridcolor": "#EBF0F8",
           "linecolor": "#EBF0F8",
           "ticks": "",
           "title": {
            "standoff": 15
           },
           "zerolinecolor": "#EBF0F8",
           "zerolinewidth": 2
          },
          "yaxis": {
           "automargin": true,
           "gridcolor": "#EBF0F8",
           "linecolor": "#EBF0F8",
           "ticks": "",
           "title": {
            "standoff": 15
           },
           "zerolinecolor": "#EBF0F8",
           "zerolinewidth": 2
          }
         }
        },
        "title": {
         "text": "Loan Amount Distribution"
        },
        "xaxis": {
         "anchor": "y",
         "domain": [
          0,
          1
         ],
         "title": {
          "text": "Loan Amount"
         }
        },
        "yaxis": {
         "anchor": "x",
         "domain": [
          0,
          1
         ],
         "title": {
          "text": "count"
         }
        }
       }
      },
      "text/html": [
       "<div>                            <div id=\"944adfb7-1693-4ce5-ab75-6396d8158fcc\" class=\"plotly-graph-div\" style=\"height:525px; width:100%;\"></div>            <script type=\"text/javascript\">                require([\"plotly\"], function(Plotly) {                    window.PLOTLYENV=window.PLOTLYENV || {};                                    if (document.getElementById(\"944adfb7-1693-4ce5-ab75-6396d8158fcc\")) {                    Plotly.newPlot(                        \"944adfb7-1693-4ce5-ab75-6396d8158fcc\",                        [{\"alignmentgroup\":\"True\",\"bingroup\":\"x\",\"hovertemplate\":\"Loan Amount=%{x}<br>count=%{y}<extra></extra>\",\"legendgroup\":\"\",\"marker\":{\"color\":\"#636efa\",\"pattern\":{\"shape\":\"\"}},\"name\":\"\",\"nbinsx\":20,\"offsetgroup\":\"\",\"orientation\":\"v\",\"showlegend\":false,\"x\":[4675000,3619000,957000,4731000,3289000,1536000,2021000,1298000,4374000,4026000,127000,3237000,586000,2323000,3775000,160000,1210000,3653000,1707000,524000,1481000,4959000,577000,4956000,3420000,1211000,166000,2464000,3653000,1038000,1862000,2887000,1774000,3046000,1009000,4461000,2733000,1168000,2803000,2912000,711000,994000,4789000,2274000,2917000,2876000,2605000,2920000,804000,2434000,360000,2250000,3248000,445000,1383000,827000,1879000,3509000,2669000,2209000,4501000,482000,2958000,1373000,4484000,1870000,2543000,1759000,4875000,775000,274000,4225000,2518000,4417000,3808000,2107000,4281000,1699000,2604000,3264000,3339000,1309000,3288000,943000,3557000,3968000,2609000,3111000,3055000,380000,4309000,4775000,3296000,2635000,3360000,3208000,3914000,1821000,4632000,2326000,1958000,1006000,2828000,1904000,3240000,603000,2513000,3183000,2951000,4550000,1420000,1908000,3416000,3713000,753000,3960000,1959000,2082000,3992000,2640000,744000,2797000,3772000,539000,2896000,1172000,2967000,417000,467000,1728000,2197000,3770000,3245000,4035000,1122000,4924000,3125000,236000,1569000,2562000,2500000,1667000,2564000,455000,361000,372000,2194000,1900000,836000,3132000,1189000,2759000,4446000,2402000,2932000,354000,1426000,1197000,525000,4016000,524000,3483000,2446000,3167000,3933000,2922000,4996000,3289000,1810000,4508000,4782000,2514000,3811000,2107000,143000,850000,1663000,4243000,1662000,900000,2633000,1440000,4111000,4508000,4465000,3932000,480000,3241000,4607000,3282000,231000,2066000,2087000,3684000,3258000,3594000,1698000,4121000,1816000,4009000,236000,4288000,4685000,670000,4728000,1349000,2140000,179000,4855000,3441000,4301000,2838000,819000,3368000,3865000,204000,2626000,2169000,3287000,2736000,3162000,3778000,3262000,813000,2882000,4298000,3920000,289000,3498000,1902000,4527000,1547000,1286000,4755000,1737000,1503000,4711000,959000,1861000,3043000,1237000,3394000,3479000,631000,4849000,3930000,3219000,109000,1209000,1298000,3554000,2179000,4374000,696000,712000,3585000,4600000,2151000,1474000,346000,4291000,203000,2375000,4001000,2135000,180000,2447000,728000,2768000,1113000,438000,1559000,200000,641000,3413000,2162000,2190000,3358000,2053000,1557000,1292000,267000,1288000,3765000,1168000,4262000,3847000,3620000,1464000,729000,3742000,516000,4129000,4203000,2309000,2009000,4312000,1717000,830000,4988000,4898000,513000,2012000,4433000,343000,4337000,4725000,1957000,171000,2635000,2604000,1680000,2276000,3107000,1636000,2286000,4545000,778000,1429000,1773000,2718000,4497000,1872000,508000,2220000,1251000,2306000,2873000,2247000,3674000,3226000,1048000,342000,4502000,3000000,728000,761000,3484000,555000,118000,997000,490000,4151000,3327000,4397000,1213000,3602000,2340000,3897000,3594000,4685000,1101000,435000,1945000,2877000,2145000,4414000,4573000,705000,691000,4587000,2628000,4678000,3406000,1730000,4187000,4176000,2727000,3983000,1748000,2286000,3998000,1278000,2044000,435000,3275000,4144000,1668000,4118000,429000,2478000,4385000,4485000,4322000,3698000,2476000,3246000,3167000,4946000,1899000,4057000,4471000,1734000,1421000,856000,2290000,2198000,2263000,2183000,2357000,3087000,2746000,4112000,199000,4054000,2446000,1323000,4182000,908000,1769000,2504000,2730000,3573000,635000,3370000,4094000,3749000,2647000,2613000,3411000,2488000,3898000,2358000,4281000,4044000,3966000,4710000,3742000,1400000,4599000,2203000,2815000,3180000,4621000,907000,3360000,1851000,2330000,2187000,3683000,2744000,3246000,2632000,1261000,2824000,758000,2657000,3838000,4894000,4792000,852000,1520000,1043000,1853000,3259000,170000,936000,2175000,2081000,2967000,2862000,3708000,2773000,2339000,1225000,1998000,4210000,4598000,4778000,558000,1235000,1136000,2912000,1616000,4239000,2433000,2604000,4901000,3685000,1854000,4507000,2537000,2900000,151000,4080000,4471000,361000,2377000,1795000,2846000,134000,289000,1087000,4916000,989000,759000,4047000,3902000,1169000,2144000,2081000,2684000,1265000,1825000,3491000,3721000,4084000,1308000,3671000,4948000,3192000,4063000,3909000,2651000,329000,1036000,1617000,1869000,4567000,444000,3381000,4694000,2213000,1190000,2418000,2320000,1932000,257000,4920000,1117000,3956000,4181000,3361000,3502000,260000,3927000,3472000,3583000,3255000,4093000,1610000,903000,4273000,463000,4963000,1777000,1594000,600000,1526000,2169000,4330000,3511000,4885000,693000,4418000,662000,1991000,4518000,3941000,1813000,2545000,4547000,497000,1453000,2759000,1320000,1334000,3469000,1742000,4391000,2684000,1271000,842000,4746000,1142000,3135000,2277000,509000,2806000,3229000,4509000,2714000,1180000,752000,656000,1321000,217000,3174000,1047000,790000,1684000,813000,1780000,3493000,349000,908000,4634000,4770000,4872000,3269000,326000,2068000,3966000,4884000,1498000,3472000,3683000,4423000,2348000,2619000,2081000,410000,267000,1279000,2862000,3526000,2430000,559000,3359000,3508000,4347000,1242000,3542000,1626000,1516000,4511000,2516000,2534000,3435000,4050000,3211000,2762000,3708000,4761000,3761000,3033000,4888000,3407000,149000,2811000,848000,1201000,857000,1401000,1347000,1003000,1056000,3874000,149000,2640000,233000,822000,4055000,3587000,4193000,1081000,2047000,4062000,4229000,1430000,2955000,988000,3804000,155000,2159000,350000,616000,2653000,3809000,4466000,2270000,1139000,4574000,4432000,1902000,3597000,1416000,1088000,1908000,3895000,849000,843000,4645000,259000,2952000,2494000,328000,1799000,649000,2655000,4609000,4145000,687000,2292000,1222000,3395000,3103000,3102000,1854000,4841000,294000,2810000,494000,1993000,4126000,2898000,3266000,538000,950000,1724000,1255000,1337000,3641000,2878000,1941000,1822000,3119000,1598000,2115000,1708000,2173000,1505000,4251000,1934000,4452000,2759000,4402000,2862000,3487000,2061000,1858000,1992000,2870000,1011000,325000,1541000,1190000,2411000,4933000,2190000,2111000,3550000,4345000,417000,3772000,751000,1913000,3266000,630000,1837000,201000,2629000,1215000,4323000,766000,3822000,2021000,3300000,1153000,3657000,3116000,2619000,4134000,4223000,426000,3189000,1341000,3436000,2684000,2685000,1531000,1786000,3269000,2332000,4176000,3275000,1131000,2803000,3690000,4333000,2141000,4096000,642000,848000,619000,994000,1324000,3260000,2609000,4528000,2651000,177000,540000,4199000,197000,1619000,3500000,1609000,394000,4580000,408000,724000,4595000,1476000,4700000,1964000,2466000,4728000,2343000,4313000,767000,4367000,3665000,1988000,2195000,1924000,3069000,4414000,3158000,149000,1769000,4310000,537000,2178000,965000,1326000,2920000,2172000,945000,2878000,1195000,2976000,3014000,1500000,4407000,1927000,1535000,1861000,3525000,231000,3809000,1344000,2466000,941000,1209000,1797000,4660000,2001000,1522000,1368000,2374000,665000,4246000,4578000,1805000,2572000,3266000,1332000,2612000,1556000,3654000,1641000,559000,2109000,2358000,3092000,3517000,1452000,4490000,2106000,831000,1603000,3149000,800000,167000,3027000,2858000,1321000,1874000,3887000,1480000,183000,4290000,406000,221000,3051000,1464000,971000,2532000,3564000,135000,2129000,3482000,2283000,333000,1665000,1306000,749000,1864000,364000,293000,2345000,2198000,2379000,1503000,3702000,2859000,4806000,517000,2083000,4575000,3001000,3237000,1999000,503000,2779000,2800000,754000,4526000,3895000,1336000,3897000,546000,2415000,4925000,4254000,4099000,4081000,108000,888000,2626000,3096000,2398000,2695000,1024000,4184000,3055000,3724000,923000,2197000,906000,332000,549000,2897000,1820000,4168000,4074000,2283000,1533000,3382000,4970000,4300000,2946000,4932000,3487000,2042000,3804000,4768000,822000,1654000,663000,4634000,4443000,371000,4240000,4116000,2011000,1151000,2098000,1615000,744000,2555000,2447000,2072000,2441000,4567000,329000,3988000,818000,204000,3109000,2277000,4351000,475000,3589000,4048000,1874000,3297000,4499000,3924000,4161000,2283000,1609000,301000,2561000,3530000,1377000,2443000,1301000,4182000],\"xaxis\":\"x\",\"yaxis\":\"y\",\"type\":\"histogram\"}],                        {\"template\":{\"data\":{\"histogram2dcontour\":[{\"type\":\"histogram2dcontour\",\"colorbar\":{\"outlinewidth\":0,\"ticks\":\"\"},\"colorscale\":[[0.0,\"#0d0887\"],[0.1111111111111111,\"#46039f\"],[0.2222222222222222,\"#7201a8\"],[0.3333333333333333,\"#9c179e\"],[0.4444444444444444,\"#bd3786\"],[0.5555555555555556,\"#d8576b\"],[0.6666666666666666,\"#ed7953\"],[0.7777777777777778,\"#fb9f3a\"],[0.8888888888888888,\"#fdca26\"],[1.0,\"#f0f921\"]]}],\"choropleth\":[{\"type\":\"choropleth\",\"colorbar\":{\"outlinewidth\":0,\"ticks\":\"\"}}],\"histogram2d\":[{\"type\":\"histogram2d\",\"colorbar\":{\"outlinewidth\":0,\"ticks\":\"\"},\"colorscale\":[[0.0,\"#0d0887\"],[0.1111111111111111,\"#46039f\"],[0.2222222222222222,\"#7201a8\"],[0.3333333333333333,\"#9c179e\"],[0.4444444444444444,\"#bd3786\"],[0.5555555555555556,\"#d8576b\"],[0.6666666666666666,\"#ed7953\"],[0.7777777777777778,\"#fb9f3a\"],[0.8888888888888888,\"#fdca26\"],[1.0,\"#f0f921\"]]}],\"heatmap\":[{\"type\":\"heatmap\",\"colorbar\":{\"outlinewidth\":0,\"ticks\":\"\"},\"colorscale\":[[0.0,\"#0d0887\"],[0.1111111111111111,\"#46039f\"],[0.2222222222222222,\"#7201a8\"],[0.3333333333333333,\"#9c179e\"],[0.4444444444444444,\"#bd3786\"],[0.5555555555555556,\"#d8576b\"],[0.6666666666666666,\"#ed7953\"],[0.7777777777777778,\"#fb9f3a\"],[0.8888888888888888,\"#fdca26\"],[1.0,\"#f0f921\"]]}],\"heatmapgl\":[{\"type\":\"heatmapgl\",\"colorbar\":{\"outlinewidth\":0,\"ticks\":\"\"},\"colorscale\":[[0.0,\"#0d0887\"],[0.1111111111111111,\"#46039f\"],[0.2222222222222222,\"#7201a8\"],[0.3333333333333333,\"#9c179e\"],[0.4444444444444444,\"#bd3786\"],[0.5555555555555556,\"#d8576b\"],[0.6666666666666666,\"#ed7953\"],[0.7777777777777778,\"#fb9f3a\"],[0.8888888888888888,\"#fdca26\"],[1.0,\"#f0f921\"]]}],\"contourcarpet\":[{\"type\":\"contourcarpet\",\"colorbar\":{\"outlinewidth\":0,\"ticks\":\"\"}}],\"contour\":[{\"type\":\"contour\",\"colorbar\":{\"outlinewidth\":0,\"ticks\":\"\"},\"colorscale\":[[0.0,\"#0d0887\"],[0.1111111111111111,\"#46039f\"],[0.2222222222222222,\"#7201a8\"],[0.3333333333333333,\"#9c179e\"],[0.4444444444444444,\"#bd3786\"],[0.5555555555555556,\"#d8576b\"],[0.6666666666666666,\"#ed7953\"],[0.7777777777777778,\"#fb9f3a\"],[0.8888888888888888,\"#fdca26\"],[1.0,\"#f0f921\"]]}],\"surface\":[{\"type\":\"surface\",\"colorbar\":{\"outlinewidth\":0,\"ticks\":\"\"},\"colorscale\":[[0.0,\"#0d0887\"],[0.1111111111111111,\"#46039f\"],[0.2222222222222222,\"#7201a8\"],[0.3333333333333333,\"#9c179e\"],[0.4444444444444444,\"#bd3786\"],[0.5555555555555556,\"#d8576b\"],[0.6666666666666666,\"#ed7953\"],[0.7777777777777778,\"#fb9f3a\"],[0.8888888888888888,\"#fdca26\"],[1.0,\"#f0f921\"]]}],\"mesh3d\":[{\"type\":\"mesh3d\",\"colorbar\":{\"outlinewidth\":0,\"ticks\":\"\"}}],\"scatter\":[{\"fillpattern\":{\"fillmode\":\"overlay\",\"size\":10,\"solidity\":0.2},\"type\":\"scatter\"}],\"parcoords\":[{\"type\":\"parcoords\",\"line\":{\"colorbar\":{\"outlinewidth\":0,\"ticks\":\"\"}}}],\"scatterpolargl\":[{\"type\":\"scatterpolargl\",\"marker\":{\"colorbar\":{\"outlinewidth\":0,\"ticks\":\"\"}}}],\"bar\":[{\"error_x\":{\"color\":\"#2a3f5f\"},\"error_y\":{\"color\":\"#2a3f5f\"},\"marker\":{\"line\":{\"color\":\"white\",\"width\":0.5},\"pattern\":{\"fillmode\":\"overlay\",\"size\":10,\"solidity\":0.2}},\"type\":\"bar\"}],\"scattergeo\":[{\"type\":\"scattergeo\",\"marker\":{\"colorbar\":{\"outlinewidth\":0,\"ticks\":\"\"}}}],\"scatterpolar\":[{\"type\":\"scatterpolar\",\"marker\":{\"colorbar\":{\"outlinewidth\":0,\"ticks\":\"\"}}}],\"histogram\":[{\"marker\":{\"pattern\":{\"fillmode\":\"overlay\",\"size\":10,\"solidity\":0.2}},\"type\":\"histogram\"}],\"scattergl\":[{\"type\":\"scattergl\",\"marker\":{\"colorbar\":{\"outlinewidth\":0,\"ticks\":\"\"}}}],\"scatter3d\":[{\"type\":\"scatter3d\",\"line\":{\"colorbar\":{\"outlinewidth\":0,\"ticks\":\"\"}},\"marker\":{\"colorbar\":{\"outlinewidth\":0,\"ticks\":\"\"}}}],\"scattermapbox\":[{\"type\":\"scattermapbox\",\"marker\":{\"colorbar\":{\"outlinewidth\":0,\"ticks\":\"\"}}}],\"scatterternary\":[{\"type\":\"scatterternary\",\"marker\":{\"colorbar\":{\"outlinewidth\":0,\"ticks\":\"\"}}}],\"scattercarpet\":[{\"type\":\"scattercarpet\",\"marker\":{\"colorbar\":{\"outlinewidth\":0,\"ticks\":\"\"}}}],\"carpet\":[{\"aaxis\":{\"endlinecolor\":\"#2a3f5f\",\"gridcolor\":\"#C8D4E3\",\"linecolor\":\"#C8D4E3\",\"minorgridcolor\":\"#C8D4E3\",\"startlinecolor\":\"#2a3f5f\"},\"baxis\":{\"endlinecolor\":\"#2a3f5f\",\"gridcolor\":\"#C8D4E3\",\"linecolor\":\"#C8D4E3\",\"minorgridcolor\":\"#C8D4E3\",\"startlinecolor\":\"#2a3f5f\"},\"type\":\"carpet\"}],\"table\":[{\"cells\":{\"fill\":{\"color\":\"#EBF0F8\"},\"line\":{\"color\":\"white\"}},\"header\":{\"fill\":{\"color\":\"#C8D4E3\"},\"line\":{\"color\":\"white\"}},\"type\":\"table\"}],\"barpolar\":[{\"marker\":{\"line\":{\"color\":\"white\",\"width\":0.5},\"pattern\":{\"fillmode\":\"overlay\",\"size\":10,\"solidity\":0.2}},\"type\":\"barpolar\"}],\"pie\":[{\"automargin\":true,\"type\":\"pie\"}]},\"layout\":{\"autotypenumbers\":\"strict\",\"colorway\":[\"#636efa\",\"#EF553B\",\"#00cc96\",\"#ab63fa\",\"#FFA15A\",\"#19d3f3\",\"#FF6692\",\"#B6E880\",\"#FF97FF\",\"#FECB52\"],\"font\":{\"color\":\"#2a3f5f\"},\"hovermode\":\"closest\",\"hoverlabel\":{\"align\":\"left\"},\"paper_bgcolor\":\"white\",\"plot_bgcolor\":\"white\",\"polar\":{\"bgcolor\":\"white\",\"angularaxis\":{\"gridcolor\":\"#EBF0F8\",\"linecolor\":\"#EBF0F8\",\"ticks\":\"\"},\"radialaxis\":{\"gridcolor\":\"#EBF0F8\",\"linecolor\":\"#EBF0F8\",\"ticks\":\"\"}},\"ternary\":{\"bgcolor\":\"white\",\"aaxis\":{\"gridcolor\":\"#DFE8F3\",\"linecolor\":\"#A2B1C6\",\"ticks\":\"\"},\"baxis\":{\"gridcolor\":\"#DFE8F3\",\"linecolor\":\"#A2B1C6\",\"ticks\":\"\"},\"caxis\":{\"gridcolor\":\"#DFE8F3\",\"linecolor\":\"#A2B1C6\",\"ticks\":\"\"}},\"coloraxis\":{\"colorbar\":{\"outlinewidth\":0,\"ticks\":\"\"}},\"colorscale\":{\"sequential\":[[0.0,\"#0d0887\"],[0.1111111111111111,\"#46039f\"],[0.2222222222222222,\"#7201a8\"],[0.3333333333333333,\"#9c179e\"],[0.4444444444444444,\"#bd3786\"],[0.5555555555555556,\"#d8576b\"],[0.6666666666666666,\"#ed7953\"],[0.7777777777777778,\"#fb9f3a\"],[0.8888888888888888,\"#fdca26\"],[1.0,\"#f0f921\"]],\"sequentialminus\":[[0.0,\"#0d0887\"],[0.1111111111111111,\"#46039f\"],[0.2222222222222222,\"#7201a8\"],[0.3333333333333333,\"#9c179e\"],[0.4444444444444444,\"#bd3786\"],[0.5555555555555556,\"#d8576b\"],[0.6666666666666666,\"#ed7953\"],[0.7777777777777778,\"#fb9f3a\"],[0.8888888888888888,\"#fdca26\"],[1.0,\"#f0f921\"]],\"diverging\":[[0,\"#8e0152\"],[0.1,\"#c51b7d\"],[0.2,\"#de77ae\"],[0.3,\"#f1b6da\"],[0.4,\"#fde0ef\"],[0.5,\"#f7f7f7\"],[0.6,\"#e6f5d0\"],[0.7,\"#b8e186\"],[0.8,\"#7fbc41\"],[0.9,\"#4d9221\"],[1,\"#276419\"]]},\"xaxis\":{\"gridcolor\":\"#EBF0F8\",\"linecolor\":\"#EBF0F8\",\"ticks\":\"\",\"title\":{\"standoff\":15},\"zerolinecolor\":\"#EBF0F8\",\"automargin\":true,\"zerolinewidth\":2},\"yaxis\":{\"gridcolor\":\"#EBF0F8\",\"linecolor\":\"#EBF0F8\",\"ticks\":\"\",\"title\":{\"standoff\":15},\"zerolinecolor\":\"#EBF0F8\",\"automargin\":true,\"zerolinewidth\":2},\"scene\":{\"xaxis\":{\"backgroundcolor\":\"white\",\"gridcolor\":\"#DFE8F3\",\"linecolor\":\"#EBF0F8\",\"showbackground\":true,\"ticks\":\"\",\"zerolinecolor\":\"#EBF0F8\",\"gridwidth\":2},\"yaxis\":{\"backgroundcolor\":\"white\",\"gridcolor\":\"#DFE8F3\",\"linecolor\":\"#EBF0F8\",\"showbackground\":true,\"ticks\":\"\",\"zerolinecolor\":\"#EBF0F8\",\"gridwidth\":2},\"zaxis\":{\"backgroundcolor\":\"white\",\"gridcolor\":\"#DFE8F3\",\"linecolor\":\"#EBF0F8\",\"showbackground\":true,\"ticks\":\"\",\"zerolinecolor\":\"#EBF0F8\",\"gridwidth\":2}},\"shapedefaults\":{\"line\":{\"color\":\"#2a3f5f\"}},\"annotationdefaults\":{\"arrowcolor\":\"#2a3f5f\",\"arrowhead\":0,\"arrowwidth\":1},\"geo\":{\"bgcolor\":\"white\",\"landcolor\":\"white\",\"subunitcolor\":\"#C8D4E3\",\"showland\":true,\"showlakes\":true,\"lakecolor\":\"white\"},\"title\":{\"x\":0.05},\"mapbox\":{\"style\":\"light\"}}},\"xaxis\":{\"anchor\":\"y\",\"domain\":[0.0,1.0],\"title\":{\"text\":\"Loan Amount\"}},\"yaxis\":{\"anchor\":\"x\",\"domain\":[0.0,1.0],\"title\":{\"text\":\"count\"}},\"legend\":{\"tracegroupgap\":0},\"title\":{\"text\":\"Loan Amount Distribution\"},\"barmode\":\"relative\"},                        {\"responsive\": true}                    ).then(function(){\n",
       "                            \n",
       "var gd = document.getElementById('944adfb7-1693-4ce5-ab75-6396d8158fcc');\n",
       "var x = new MutationObserver(function (mutations, observer) {{\n",
       "        var display = window.getComputedStyle(gd).display;\n",
       "        if (!display || display === 'none') {{\n",
       "            console.log([gd, 'removed!']);\n",
       "            Plotly.purge(gd);\n",
       "            observer.disconnect();\n",
       "        }}\n",
       "}});\n",
       "\n",
       "// Listen for the removal of the full notebook cells\n",
       "var notebookContainer = gd.closest('#notebook-container');\n",
       "if (notebookContainer) {{\n",
       "    x.observe(notebookContainer, {childList: true});\n",
       "}}\n",
       "\n",
       "// Listen for the clearing of the current output cell\n",
       "var outputEl = gd.closest('.output');\n",
       "if (outputEl) {{\n",
       "    x.observe(outputEl, {childList: true});\n",
       "}}\n",
       "\n",
       "                        })                };                });            </script>        </div>"
      ]
     },
     "metadata": {},
     "output_type": "display_data"
    }
   ],
   "source": [
    "# now let have  a look on the distribution of the lpoan amount in the data\n",
    "\n",
    "loan_amount_fig = px.histogram(df, x = 'Loan Amount',\n",
    "                              nbins=20,\n",
    "                              title='Loan Amount Distribution')\n",
    "\n",
    "loan_amount_fig.show()"
   ]
  },
  {
   "cell_type": "code",
   "execution_count": 13,
   "id": "7c56898b",
   "metadata": {},
   "outputs": [
    {
     "data": {
      "application/vnd.plotly.v1+json": {
       "config": {
        "plotlyServerURL": "https://plot.ly"
       },
       "data": [
        {
         "coloraxis": "coloraxis",
         "hovertemplate": "x: %{x}<br>y: %{y}<br>color: %{z}<extra></extra>",
         "name": "0",
         "type": "heatmap",
         "x": [
          "Credit Utilization Ratio",
          "Payment History",
          "Number of Credit Accounts",
          "Loan Amount",
          "Interest Rate",
          "Loan Term"
         ],
         "xaxis": "x",
         "y": [
          "Credit Utilization Ratio",
          "Payment History",
          "Number of Credit Accounts",
          "Loan Amount",
          "Interest Rate",
          "Loan Term"
         ],
         "yaxis": "y",
         "z": [
          [
           1,
           0.0021141964664825558,
           -0.0018417352448918448,
           -0.014918441087073266,
           0.04823694488220739,
           -0.02292437660519626
          ],
          [
           0.0021141964664825558,
           1,
           0.025022343665911207,
           -0.01908376738110175,
           -0.017618250959028903,
           -0.045531973089473786
          ],
          [
           -0.0018417352448918448,
           0.025022343665911207,
           1,
           0.03223218947381575,
           -0.0010828602014753936,
           0.012793615844397942
          ],
          [
           -0.014918441087073266,
           -0.01908376738110175,
           0.03223218947381575,
           1,
           0.04528807708804023,
           0.014282992331967325
          ],
          [
           0.04823694488220739,
           -0.017618250959028903,
           -0.0010828602014753936,
           0.04528807708804023,
           1,
           0.028189737847988432
          ],
          [
           -0.02292437660519626,
           -0.045531973089473786,
           0.012793615844397942,
           0.014282992331967325,
           0.028189737847988432,
           1
          ]
         ]
        }
       ],
       "layout": {
        "coloraxis": {
         "colorscale": [
          [
           0,
           "#0d0887"
          ],
          [
           0.1111111111111111,
           "#46039f"
          ],
          [
           0.2222222222222222,
           "#7201a8"
          ],
          [
           0.3333333333333333,
           "#9c179e"
          ],
          [
           0.4444444444444444,
           "#bd3786"
          ],
          [
           0.5555555555555556,
           "#d8576b"
          ],
          [
           0.6666666666666666,
           "#ed7953"
          ],
          [
           0.7777777777777778,
           "#fb9f3a"
          ],
          [
           0.8888888888888888,
           "#fdca26"
          ],
          [
           1,
           "#f0f921"
          ]
         ]
        },
        "template": {
         "data": {
          "bar": [
           {
            "error_x": {
             "color": "#2a3f5f"
            },
            "error_y": {
             "color": "#2a3f5f"
            },
            "marker": {
             "line": {
              "color": "white",
              "width": 0.5
             },
             "pattern": {
              "fillmode": "overlay",
              "size": 10,
              "solidity": 0.2
             }
            },
            "type": "bar"
           }
          ],
          "barpolar": [
           {
            "marker": {
             "line": {
              "color": "white",
              "width": 0.5
             },
             "pattern": {
              "fillmode": "overlay",
              "size": 10,
              "solidity": 0.2
             }
            },
            "type": "barpolar"
           }
          ],
          "carpet": [
           {
            "aaxis": {
             "endlinecolor": "#2a3f5f",
             "gridcolor": "#C8D4E3",
             "linecolor": "#C8D4E3",
             "minorgridcolor": "#C8D4E3",
             "startlinecolor": "#2a3f5f"
            },
            "baxis": {
             "endlinecolor": "#2a3f5f",
             "gridcolor": "#C8D4E3",
             "linecolor": "#C8D4E3",
             "minorgridcolor": "#C8D4E3",
             "startlinecolor": "#2a3f5f"
            },
            "type": "carpet"
           }
          ],
          "choropleth": [
           {
            "colorbar": {
             "outlinewidth": 0,
             "ticks": ""
            },
            "type": "choropleth"
           }
          ],
          "contour": [
           {
            "colorbar": {
             "outlinewidth": 0,
             "ticks": ""
            },
            "colorscale": [
             [
              0,
              "#0d0887"
             ],
             [
              0.1111111111111111,
              "#46039f"
             ],
             [
              0.2222222222222222,
              "#7201a8"
             ],
             [
              0.3333333333333333,
              "#9c179e"
             ],
             [
              0.4444444444444444,
              "#bd3786"
             ],
             [
              0.5555555555555556,
              "#d8576b"
             ],
             [
              0.6666666666666666,
              "#ed7953"
             ],
             [
              0.7777777777777778,
              "#fb9f3a"
             ],
             [
              0.8888888888888888,
              "#fdca26"
             ],
             [
              1,
              "#f0f921"
             ]
            ],
            "type": "contour"
           }
          ],
          "contourcarpet": [
           {
            "colorbar": {
             "outlinewidth": 0,
             "ticks": ""
            },
            "type": "contourcarpet"
           }
          ],
          "heatmap": [
           {
            "colorbar": {
             "outlinewidth": 0,
             "ticks": ""
            },
            "colorscale": [
             [
              0,
              "#0d0887"
             ],
             [
              0.1111111111111111,
              "#46039f"
             ],
             [
              0.2222222222222222,
              "#7201a8"
             ],
             [
              0.3333333333333333,
              "#9c179e"
             ],
             [
              0.4444444444444444,
              "#bd3786"
             ],
             [
              0.5555555555555556,
              "#d8576b"
             ],
             [
              0.6666666666666666,
              "#ed7953"
             ],
             [
              0.7777777777777778,
              "#fb9f3a"
             ],
             [
              0.8888888888888888,
              "#fdca26"
             ],
             [
              1,
              "#f0f921"
             ]
            ],
            "type": "heatmap"
           }
          ],
          "heatmapgl": [
           {
            "colorbar": {
             "outlinewidth": 0,
             "ticks": ""
            },
            "colorscale": [
             [
              0,
              "#0d0887"
             ],
             [
              0.1111111111111111,
              "#46039f"
             ],
             [
              0.2222222222222222,
              "#7201a8"
             ],
             [
              0.3333333333333333,
              "#9c179e"
             ],
             [
              0.4444444444444444,
              "#bd3786"
             ],
             [
              0.5555555555555556,
              "#d8576b"
             ],
             [
              0.6666666666666666,
              "#ed7953"
             ],
             [
              0.7777777777777778,
              "#fb9f3a"
             ],
             [
              0.8888888888888888,
              "#fdca26"
             ],
             [
              1,
              "#f0f921"
             ]
            ],
            "type": "heatmapgl"
           }
          ],
          "histogram": [
           {
            "marker": {
             "pattern": {
              "fillmode": "overlay",
              "size": 10,
              "solidity": 0.2
             }
            },
            "type": "histogram"
           }
          ],
          "histogram2d": [
           {
            "colorbar": {
             "outlinewidth": 0,
             "ticks": ""
            },
            "colorscale": [
             [
              0,
              "#0d0887"
             ],
             [
              0.1111111111111111,
              "#46039f"
             ],
             [
              0.2222222222222222,
              "#7201a8"
             ],
             [
              0.3333333333333333,
              "#9c179e"
             ],
             [
              0.4444444444444444,
              "#bd3786"
             ],
             [
              0.5555555555555556,
              "#d8576b"
             ],
             [
              0.6666666666666666,
              "#ed7953"
             ],
             [
              0.7777777777777778,
              "#fb9f3a"
             ],
             [
              0.8888888888888888,
              "#fdca26"
             ],
             [
              1,
              "#f0f921"
             ]
            ],
            "type": "histogram2d"
           }
          ],
          "histogram2dcontour": [
           {
            "colorbar": {
             "outlinewidth": 0,
             "ticks": ""
            },
            "colorscale": [
             [
              0,
              "#0d0887"
             ],
             [
              0.1111111111111111,
              "#46039f"
             ],
             [
              0.2222222222222222,
              "#7201a8"
             ],
             [
              0.3333333333333333,
              "#9c179e"
             ],
             [
              0.4444444444444444,
              "#bd3786"
             ],
             [
              0.5555555555555556,
              "#d8576b"
             ],
             [
              0.6666666666666666,
              "#ed7953"
             ],
             [
              0.7777777777777778,
              "#fb9f3a"
             ],
             [
              0.8888888888888888,
              "#fdca26"
             ],
             [
              1,
              "#f0f921"
             ]
            ],
            "type": "histogram2dcontour"
           }
          ],
          "mesh3d": [
           {
            "colorbar": {
             "outlinewidth": 0,
             "ticks": ""
            },
            "type": "mesh3d"
           }
          ],
          "parcoords": [
           {
            "line": {
             "colorbar": {
              "outlinewidth": 0,
              "ticks": ""
             }
            },
            "type": "parcoords"
           }
          ],
          "pie": [
           {
            "automargin": true,
            "type": "pie"
           }
          ],
          "scatter": [
           {
            "fillpattern": {
             "fillmode": "overlay",
             "size": 10,
             "solidity": 0.2
            },
            "type": "scatter"
           }
          ],
          "scatter3d": [
           {
            "line": {
             "colorbar": {
              "outlinewidth": 0,
              "ticks": ""
             }
            },
            "marker": {
             "colorbar": {
              "outlinewidth": 0,
              "ticks": ""
             }
            },
            "type": "scatter3d"
           }
          ],
          "scattercarpet": [
           {
            "marker": {
             "colorbar": {
              "outlinewidth": 0,
              "ticks": ""
             }
            },
            "type": "scattercarpet"
           }
          ],
          "scattergeo": [
           {
            "marker": {
             "colorbar": {
              "outlinewidth": 0,
              "ticks": ""
             }
            },
            "type": "scattergeo"
           }
          ],
          "scattergl": [
           {
            "marker": {
             "colorbar": {
              "outlinewidth": 0,
              "ticks": ""
             }
            },
            "type": "scattergl"
           }
          ],
          "scattermapbox": [
           {
            "marker": {
             "colorbar": {
              "outlinewidth": 0,
              "ticks": ""
             }
            },
            "type": "scattermapbox"
           }
          ],
          "scatterpolar": [
           {
            "marker": {
             "colorbar": {
              "outlinewidth": 0,
              "ticks": ""
             }
            },
            "type": "scatterpolar"
           }
          ],
          "scatterpolargl": [
           {
            "marker": {
             "colorbar": {
              "outlinewidth": 0,
              "ticks": ""
             }
            },
            "type": "scatterpolargl"
           }
          ],
          "scatterternary": [
           {
            "marker": {
             "colorbar": {
              "outlinewidth": 0,
              "ticks": ""
             }
            },
            "type": "scatterternary"
           }
          ],
          "surface": [
           {
            "colorbar": {
             "outlinewidth": 0,
             "ticks": ""
            },
            "colorscale": [
             [
              0,
              "#0d0887"
             ],
             [
              0.1111111111111111,
              "#46039f"
             ],
             [
              0.2222222222222222,
              "#7201a8"
             ],
             [
              0.3333333333333333,
              "#9c179e"
             ],
             [
              0.4444444444444444,
              "#bd3786"
             ],
             [
              0.5555555555555556,
              "#d8576b"
             ],
             [
              0.6666666666666666,
              "#ed7953"
             ],
             [
              0.7777777777777778,
              "#fb9f3a"
             ],
             [
              0.8888888888888888,
              "#fdca26"
             ],
             [
              1,
              "#f0f921"
             ]
            ],
            "type": "surface"
           }
          ],
          "table": [
           {
            "cells": {
             "fill": {
              "color": "#EBF0F8"
             },
             "line": {
              "color": "white"
             }
            },
            "header": {
             "fill": {
              "color": "#C8D4E3"
             },
             "line": {
              "color": "white"
             }
            },
            "type": "table"
           }
          ]
         },
         "layout": {
          "annotationdefaults": {
           "arrowcolor": "#2a3f5f",
           "arrowhead": 0,
           "arrowwidth": 1
          },
          "autotypenumbers": "strict",
          "coloraxis": {
           "colorbar": {
            "outlinewidth": 0,
            "ticks": ""
           }
          },
          "colorscale": {
           "diverging": [
            [
             0,
             "#8e0152"
            ],
            [
             0.1,
             "#c51b7d"
            ],
            [
             0.2,
             "#de77ae"
            ],
            [
             0.3,
             "#f1b6da"
            ],
            [
             0.4,
             "#fde0ef"
            ],
            [
             0.5,
             "#f7f7f7"
            ],
            [
             0.6,
             "#e6f5d0"
            ],
            [
             0.7,
             "#b8e186"
            ],
            [
             0.8,
             "#7fbc41"
            ],
            [
             0.9,
             "#4d9221"
            ],
            [
             1,
             "#276419"
            ]
           ],
           "sequential": [
            [
             0,
             "#0d0887"
            ],
            [
             0.1111111111111111,
             "#46039f"
            ],
            [
             0.2222222222222222,
             "#7201a8"
            ],
            [
             0.3333333333333333,
             "#9c179e"
            ],
            [
             0.4444444444444444,
             "#bd3786"
            ],
            [
             0.5555555555555556,
             "#d8576b"
            ],
            [
             0.6666666666666666,
             "#ed7953"
            ],
            [
             0.7777777777777778,
             "#fb9f3a"
            ],
            [
             0.8888888888888888,
             "#fdca26"
            ],
            [
             1,
             "#f0f921"
            ]
           ],
           "sequentialminus": [
            [
             0,
             "#0d0887"
            ],
            [
             0.1111111111111111,
             "#46039f"
            ],
            [
             0.2222222222222222,
             "#7201a8"
            ],
            [
             0.3333333333333333,
             "#9c179e"
            ],
            [
             0.4444444444444444,
             "#bd3786"
            ],
            [
             0.5555555555555556,
             "#d8576b"
            ],
            [
             0.6666666666666666,
             "#ed7953"
            ],
            [
             0.7777777777777778,
             "#fb9f3a"
            ],
            [
             0.8888888888888888,
             "#fdca26"
            ],
            [
             1,
             "#f0f921"
            ]
           ]
          },
          "colorway": [
           "#636efa",
           "#EF553B",
           "#00cc96",
           "#ab63fa",
           "#FFA15A",
           "#19d3f3",
           "#FF6692",
           "#B6E880",
           "#FF97FF",
           "#FECB52"
          ],
          "font": {
           "color": "#2a3f5f"
          },
          "geo": {
           "bgcolor": "white",
           "lakecolor": "white",
           "landcolor": "white",
           "showlakes": true,
           "showland": true,
           "subunitcolor": "#C8D4E3"
          },
          "hoverlabel": {
           "align": "left"
          },
          "hovermode": "closest",
          "mapbox": {
           "style": "light"
          },
          "paper_bgcolor": "white",
          "plot_bgcolor": "white",
          "polar": {
           "angularaxis": {
            "gridcolor": "#EBF0F8",
            "linecolor": "#EBF0F8",
            "ticks": ""
           },
           "bgcolor": "white",
           "radialaxis": {
            "gridcolor": "#EBF0F8",
            "linecolor": "#EBF0F8",
            "ticks": ""
           }
          },
          "scene": {
           "xaxis": {
            "backgroundcolor": "white",
            "gridcolor": "#DFE8F3",
            "gridwidth": 2,
            "linecolor": "#EBF0F8",
            "showbackground": true,
            "ticks": "",
            "zerolinecolor": "#EBF0F8"
           },
           "yaxis": {
            "backgroundcolor": "white",
            "gridcolor": "#DFE8F3",
            "gridwidth": 2,
            "linecolor": "#EBF0F8",
            "showbackground": true,
            "ticks": "",
            "zerolinecolor": "#EBF0F8"
           },
           "zaxis": {
            "backgroundcolor": "white",
            "gridcolor": "#DFE8F3",
            "gridwidth": 2,
            "linecolor": "#EBF0F8",
            "showbackground": true,
            "ticks": "",
            "zerolinecolor": "#EBF0F8"
           }
          },
          "shapedefaults": {
           "line": {
            "color": "#2a3f5f"
           }
          },
          "ternary": {
           "aaxis": {
            "gridcolor": "#DFE8F3",
            "linecolor": "#A2B1C6",
            "ticks": ""
           },
           "baxis": {
            "gridcolor": "#DFE8F3",
            "linecolor": "#A2B1C6",
            "ticks": ""
           },
           "bgcolor": "white",
           "caxis": {
            "gridcolor": "#DFE8F3",
            "linecolor": "#A2B1C6",
            "ticks": ""
           }
          },
          "title": {
           "x": 0.05
          },
          "xaxis": {
           "automargin": true,
           "gridcolor": "#EBF0F8",
           "linecolor": "#EBF0F8",
           "ticks": "",
           "title": {
            "standoff": 15
           },
           "zerolinecolor": "#EBF0F8",
           "zerolinewidth": 2
          },
          "yaxis": {
           "automargin": true,
           "gridcolor": "#EBF0F8",
           "linecolor": "#EBF0F8",
           "ticks": "",
           "title": {
            "standoff": 15
           },
           "zerolinecolor": "#EBF0F8",
           "zerolinewidth": 2
          }
         }
        },
        "title": {
         "text": "Correlation Heatmap"
        },
        "xaxis": {
         "anchor": "y",
         "constrain": "domain",
         "domain": [
          0,
          1
         ],
         "scaleanchor": "y"
        },
        "yaxis": {
         "anchor": "x",
         "autorange": "reversed",
         "constrain": "domain",
         "domain": [
          0,
          1
         ]
        }
       }
      },
      "text/html": [
       "<div>                            <div id=\"cbda6cb2-9f86-45f5-a31a-4b3ff8f52fb1\" class=\"plotly-graph-div\" style=\"height:525px; width:100%;\"></div>            <script type=\"text/javascript\">                require([\"plotly\"], function(Plotly) {                    window.PLOTLYENV=window.PLOTLYENV || {};                                    if (document.getElementById(\"cbda6cb2-9f86-45f5-a31a-4b3ff8f52fb1\")) {                    Plotly.newPlot(                        \"cbda6cb2-9f86-45f5-a31a-4b3ff8f52fb1\",                        [{\"coloraxis\":\"coloraxis\",\"name\":\"0\",\"x\":[\"Credit Utilization Ratio\",\"Payment History\",\"Number of Credit Accounts\",\"Loan Amount\",\"Interest Rate\",\"Loan Term\"],\"y\":[\"Credit Utilization Ratio\",\"Payment History\",\"Number of Credit Accounts\",\"Loan Amount\",\"Interest Rate\",\"Loan Term\"],\"z\":[[1.0,0.0021141964664825558,-0.0018417352448918448,-0.014918441087073266,0.04823694488220739,-0.02292437660519626],[0.0021141964664825558,1.0,0.025022343665911207,-0.01908376738110175,-0.017618250959028903,-0.045531973089473786],[-0.0018417352448918448,0.025022343665911207,1.0,0.03223218947381575,-0.0010828602014753936,0.012793615844397942],[-0.014918441087073266,-0.01908376738110175,0.03223218947381575,1.0,0.04528807708804023,0.014282992331967325],[0.04823694488220739,-0.017618250959028903,-0.0010828602014753936,0.04528807708804023,1.0,0.028189737847988432],[-0.02292437660519626,-0.045531973089473786,0.012793615844397942,0.014282992331967325,0.028189737847988432,1.0]],\"type\":\"heatmap\",\"xaxis\":\"x\",\"yaxis\":\"y\",\"hovertemplate\":\"x: %{x}<br>y: %{y}<br>color: %{z}<extra></extra>\"}],                        {\"template\":{\"data\":{\"histogram2dcontour\":[{\"type\":\"histogram2dcontour\",\"colorbar\":{\"outlinewidth\":0,\"ticks\":\"\"},\"colorscale\":[[0.0,\"#0d0887\"],[0.1111111111111111,\"#46039f\"],[0.2222222222222222,\"#7201a8\"],[0.3333333333333333,\"#9c179e\"],[0.4444444444444444,\"#bd3786\"],[0.5555555555555556,\"#d8576b\"],[0.6666666666666666,\"#ed7953\"],[0.7777777777777778,\"#fb9f3a\"],[0.8888888888888888,\"#fdca26\"],[1.0,\"#f0f921\"]]}],\"choropleth\":[{\"type\":\"choropleth\",\"colorbar\":{\"outlinewidth\":0,\"ticks\":\"\"}}],\"histogram2d\":[{\"type\":\"histogram2d\",\"colorbar\":{\"outlinewidth\":0,\"ticks\":\"\"},\"colorscale\":[[0.0,\"#0d0887\"],[0.1111111111111111,\"#46039f\"],[0.2222222222222222,\"#7201a8\"],[0.3333333333333333,\"#9c179e\"],[0.4444444444444444,\"#bd3786\"],[0.5555555555555556,\"#d8576b\"],[0.6666666666666666,\"#ed7953\"],[0.7777777777777778,\"#fb9f3a\"],[0.8888888888888888,\"#fdca26\"],[1.0,\"#f0f921\"]]}],\"heatmap\":[{\"type\":\"heatmap\",\"colorbar\":{\"outlinewidth\":0,\"ticks\":\"\"},\"colorscale\":[[0.0,\"#0d0887\"],[0.1111111111111111,\"#46039f\"],[0.2222222222222222,\"#7201a8\"],[0.3333333333333333,\"#9c179e\"],[0.4444444444444444,\"#bd3786\"],[0.5555555555555556,\"#d8576b\"],[0.6666666666666666,\"#ed7953\"],[0.7777777777777778,\"#fb9f3a\"],[0.8888888888888888,\"#fdca26\"],[1.0,\"#f0f921\"]]}],\"heatmapgl\":[{\"type\":\"heatmapgl\",\"colorbar\":{\"outlinewidth\":0,\"ticks\":\"\"},\"colorscale\":[[0.0,\"#0d0887\"],[0.1111111111111111,\"#46039f\"],[0.2222222222222222,\"#7201a8\"],[0.3333333333333333,\"#9c179e\"],[0.4444444444444444,\"#bd3786\"],[0.5555555555555556,\"#d8576b\"],[0.6666666666666666,\"#ed7953\"],[0.7777777777777778,\"#fb9f3a\"],[0.8888888888888888,\"#fdca26\"],[1.0,\"#f0f921\"]]}],\"contourcarpet\":[{\"type\":\"contourcarpet\",\"colorbar\":{\"outlinewidth\":0,\"ticks\":\"\"}}],\"contour\":[{\"type\":\"contour\",\"colorbar\":{\"outlinewidth\":0,\"ticks\":\"\"},\"colorscale\":[[0.0,\"#0d0887\"],[0.1111111111111111,\"#46039f\"],[0.2222222222222222,\"#7201a8\"],[0.3333333333333333,\"#9c179e\"],[0.4444444444444444,\"#bd3786\"],[0.5555555555555556,\"#d8576b\"],[0.6666666666666666,\"#ed7953\"],[0.7777777777777778,\"#fb9f3a\"],[0.8888888888888888,\"#fdca26\"],[1.0,\"#f0f921\"]]}],\"surface\":[{\"type\":\"surface\",\"colorbar\":{\"outlinewidth\":0,\"ticks\":\"\"},\"colorscale\":[[0.0,\"#0d0887\"],[0.1111111111111111,\"#46039f\"],[0.2222222222222222,\"#7201a8\"],[0.3333333333333333,\"#9c179e\"],[0.4444444444444444,\"#bd3786\"],[0.5555555555555556,\"#d8576b\"],[0.6666666666666666,\"#ed7953\"],[0.7777777777777778,\"#fb9f3a\"],[0.8888888888888888,\"#fdca26\"],[1.0,\"#f0f921\"]]}],\"mesh3d\":[{\"type\":\"mesh3d\",\"colorbar\":{\"outlinewidth\":0,\"ticks\":\"\"}}],\"scatter\":[{\"fillpattern\":{\"fillmode\":\"overlay\",\"size\":10,\"solidity\":0.2},\"type\":\"scatter\"}],\"parcoords\":[{\"type\":\"parcoords\",\"line\":{\"colorbar\":{\"outlinewidth\":0,\"ticks\":\"\"}}}],\"scatterpolargl\":[{\"type\":\"scatterpolargl\",\"marker\":{\"colorbar\":{\"outlinewidth\":0,\"ticks\":\"\"}}}],\"bar\":[{\"error_x\":{\"color\":\"#2a3f5f\"},\"error_y\":{\"color\":\"#2a3f5f\"},\"marker\":{\"line\":{\"color\":\"white\",\"width\":0.5},\"pattern\":{\"fillmode\":\"overlay\",\"size\":10,\"solidity\":0.2}},\"type\":\"bar\"}],\"scattergeo\":[{\"type\":\"scattergeo\",\"marker\":{\"colorbar\":{\"outlinewidth\":0,\"ticks\":\"\"}}}],\"scatterpolar\":[{\"type\":\"scatterpolar\",\"marker\":{\"colorbar\":{\"outlinewidth\":0,\"ticks\":\"\"}}}],\"histogram\":[{\"marker\":{\"pattern\":{\"fillmode\":\"overlay\",\"size\":10,\"solidity\":0.2}},\"type\":\"histogram\"}],\"scattergl\":[{\"type\":\"scattergl\",\"marker\":{\"colorbar\":{\"outlinewidth\":0,\"ticks\":\"\"}}}],\"scatter3d\":[{\"type\":\"scatter3d\",\"line\":{\"colorbar\":{\"outlinewidth\":0,\"ticks\":\"\"}},\"marker\":{\"colorbar\":{\"outlinewidth\":0,\"ticks\":\"\"}}}],\"scattermapbox\":[{\"type\":\"scattermapbox\",\"marker\":{\"colorbar\":{\"outlinewidth\":0,\"ticks\":\"\"}}}],\"scatterternary\":[{\"type\":\"scatterternary\",\"marker\":{\"colorbar\":{\"outlinewidth\":0,\"ticks\":\"\"}}}],\"scattercarpet\":[{\"type\":\"scattercarpet\",\"marker\":{\"colorbar\":{\"outlinewidth\":0,\"ticks\":\"\"}}}],\"carpet\":[{\"aaxis\":{\"endlinecolor\":\"#2a3f5f\",\"gridcolor\":\"#C8D4E3\",\"linecolor\":\"#C8D4E3\",\"minorgridcolor\":\"#C8D4E3\",\"startlinecolor\":\"#2a3f5f\"},\"baxis\":{\"endlinecolor\":\"#2a3f5f\",\"gridcolor\":\"#C8D4E3\",\"linecolor\":\"#C8D4E3\",\"minorgridcolor\":\"#C8D4E3\",\"startlinecolor\":\"#2a3f5f\"},\"type\":\"carpet\"}],\"table\":[{\"cells\":{\"fill\":{\"color\":\"#EBF0F8\"},\"line\":{\"color\":\"white\"}},\"header\":{\"fill\":{\"color\":\"#C8D4E3\"},\"line\":{\"color\":\"white\"}},\"type\":\"table\"}],\"barpolar\":[{\"marker\":{\"line\":{\"color\":\"white\",\"width\":0.5},\"pattern\":{\"fillmode\":\"overlay\",\"size\":10,\"solidity\":0.2}},\"type\":\"barpolar\"}],\"pie\":[{\"automargin\":true,\"type\":\"pie\"}]},\"layout\":{\"autotypenumbers\":\"strict\",\"colorway\":[\"#636efa\",\"#EF553B\",\"#00cc96\",\"#ab63fa\",\"#FFA15A\",\"#19d3f3\",\"#FF6692\",\"#B6E880\",\"#FF97FF\",\"#FECB52\"],\"font\":{\"color\":\"#2a3f5f\"},\"hovermode\":\"closest\",\"hoverlabel\":{\"align\":\"left\"},\"paper_bgcolor\":\"white\",\"plot_bgcolor\":\"white\",\"polar\":{\"bgcolor\":\"white\",\"angularaxis\":{\"gridcolor\":\"#EBF0F8\",\"linecolor\":\"#EBF0F8\",\"ticks\":\"\"},\"radialaxis\":{\"gridcolor\":\"#EBF0F8\",\"linecolor\":\"#EBF0F8\",\"ticks\":\"\"}},\"ternary\":{\"bgcolor\":\"white\",\"aaxis\":{\"gridcolor\":\"#DFE8F3\",\"linecolor\":\"#A2B1C6\",\"ticks\":\"\"},\"baxis\":{\"gridcolor\":\"#DFE8F3\",\"linecolor\":\"#A2B1C6\",\"ticks\":\"\"},\"caxis\":{\"gridcolor\":\"#DFE8F3\",\"linecolor\":\"#A2B1C6\",\"ticks\":\"\"}},\"coloraxis\":{\"colorbar\":{\"outlinewidth\":0,\"ticks\":\"\"}},\"colorscale\":{\"sequential\":[[0.0,\"#0d0887\"],[0.1111111111111111,\"#46039f\"],[0.2222222222222222,\"#7201a8\"],[0.3333333333333333,\"#9c179e\"],[0.4444444444444444,\"#bd3786\"],[0.5555555555555556,\"#d8576b\"],[0.6666666666666666,\"#ed7953\"],[0.7777777777777778,\"#fb9f3a\"],[0.8888888888888888,\"#fdca26\"],[1.0,\"#f0f921\"]],\"sequentialminus\":[[0.0,\"#0d0887\"],[0.1111111111111111,\"#46039f\"],[0.2222222222222222,\"#7201a8\"],[0.3333333333333333,\"#9c179e\"],[0.4444444444444444,\"#bd3786\"],[0.5555555555555556,\"#d8576b\"],[0.6666666666666666,\"#ed7953\"],[0.7777777777777778,\"#fb9f3a\"],[0.8888888888888888,\"#fdca26\"],[1.0,\"#f0f921\"]],\"diverging\":[[0,\"#8e0152\"],[0.1,\"#c51b7d\"],[0.2,\"#de77ae\"],[0.3,\"#f1b6da\"],[0.4,\"#fde0ef\"],[0.5,\"#f7f7f7\"],[0.6,\"#e6f5d0\"],[0.7,\"#b8e186\"],[0.8,\"#7fbc41\"],[0.9,\"#4d9221\"],[1,\"#276419\"]]},\"xaxis\":{\"gridcolor\":\"#EBF0F8\",\"linecolor\":\"#EBF0F8\",\"ticks\":\"\",\"title\":{\"standoff\":15},\"zerolinecolor\":\"#EBF0F8\",\"automargin\":true,\"zerolinewidth\":2},\"yaxis\":{\"gridcolor\":\"#EBF0F8\",\"linecolor\":\"#EBF0F8\",\"ticks\":\"\",\"title\":{\"standoff\":15},\"zerolinecolor\":\"#EBF0F8\",\"automargin\":true,\"zerolinewidth\":2},\"scene\":{\"xaxis\":{\"backgroundcolor\":\"white\",\"gridcolor\":\"#DFE8F3\",\"linecolor\":\"#EBF0F8\",\"showbackground\":true,\"ticks\":\"\",\"zerolinecolor\":\"#EBF0F8\",\"gridwidth\":2},\"yaxis\":{\"backgroundcolor\":\"white\",\"gridcolor\":\"#DFE8F3\",\"linecolor\":\"#EBF0F8\",\"showbackground\":true,\"ticks\":\"\",\"zerolinecolor\":\"#EBF0F8\",\"gridwidth\":2},\"zaxis\":{\"backgroundcolor\":\"white\",\"gridcolor\":\"#DFE8F3\",\"linecolor\":\"#EBF0F8\",\"showbackground\":true,\"ticks\":\"\",\"zerolinecolor\":\"#EBF0F8\",\"gridwidth\":2}},\"shapedefaults\":{\"line\":{\"color\":\"#2a3f5f\"}},\"annotationdefaults\":{\"arrowcolor\":\"#2a3f5f\",\"arrowhead\":0,\"arrowwidth\":1},\"geo\":{\"bgcolor\":\"white\",\"landcolor\":\"white\",\"subunitcolor\":\"#C8D4E3\",\"showland\":true,\"showlakes\":true,\"lakecolor\":\"white\"},\"title\":{\"x\":0.05},\"mapbox\":{\"style\":\"light\"}}},\"xaxis\":{\"anchor\":\"y\",\"domain\":[0.0,1.0],\"scaleanchor\":\"y\",\"constrain\":\"domain\"},\"yaxis\":{\"anchor\":\"x\",\"domain\":[0.0,1.0],\"autorange\":\"reversed\",\"constrain\":\"domain\"},\"coloraxis\":{\"colorscale\":[[0.0,\"#0d0887\"],[0.1111111111111111,\"#46039f\"],[0.2222222222222222,\"#7201a8\"],[0.3333333333333333,\"#9c179e\"],[0.4444444444444444,\"#bd3786\"],[0.5555555555555556,\"#d8576b\"],[0.6666666666666666,\"#ed7953\"],[0.7777777777777778,\"#fb9f3a\"],[0.8888888888888888,\"#fdca26\"],[1.0,\"#f0f921\"]]},\"title\":{\"text\":\"Correlation Heatmap\"}},                        {\"responsive\": true}                    ).then(function(){\n",
       "                            \n",
       "var gd = document.getElementById('cbda6cb2-9f86-45f5-a31a-4b3ff8f52fb1');\n",
       "var x = new MutationObserver(function (mutations, observer) {{\n",
       "        var display = window.getComputedStyle(gd).display;\n",
       "        if (!display || display === 'none') {{\n",
       "            console.log([gd, 'removed!']);\n",
       "            Plotly.purge(gd);\n",
       "            observer.disconnect();\n",
       "        }}\n",
       "}});\n",
       "\n",
       "// Listen for the removal of the full notebook cells\n",
       "var notebookContainer = gd.closest('#notebook-container');\n",
       "if (notebookContainer) {{\n",
       "    x.observe(notebookContainer, {childList: true});\n",
       "}}\n",
       "\n",
       "// Listen for the clearing of the current output cell\n",
       "var outputEl = gd.closest('.output');\n",
       "if (outputEl) {{\n",
       "    x.observe(outputEl, {childList: true});\n",
       "}}\n",
       "\n",
       "                        })                };                });            </script>        </div>"
      ]
     },
     "metadata": {},
     "output_type": "display_data"
    }
   ],
   "source": [
    "# now let's have a look at the correaltion in the data\n",
    "\n",
    "numeric_df = df[['Credit Utilization Ratio',\n",
    "                'Payment History',\n",
    "                'Number of Credit Accounts',\n",
    "                'Loan Amount', 'Interest Rate',\n",
    "                'Loan Term']]\n",
    "\n",
    "correlation_fig = px.imshow(numeric_df.corr(),\n",
    "                           title = \"Correlation Heatmap\")\n",
    "\n",
    "correlation_fig.show()"
   ]
  },
  {
   "cell_type": "code",
   "execution_count": 14,
   "id": "ef29e582",
   "metadata": {},
   "outputs": [],
   "source": [
    "education_level_mapping = {'High School': 1, 'Bachelor': 2, 'Master':3, 'Phd': 4}\n",
    "employment_status_mapping = {'Unemployed': 0, 'Employed': 1, 'Self-Employed': 2}"
   ]
  },
  {
   "cell_type": "code",
   "execution_count": 15,
   "id": "3fc03718",
   "metadata": {},
   "outputs": [],
   "source": [
    "# apply to the categorical featurers\n",
    "df['Education Level'] = df['Education Level'].map(education_level_mapping)\n",
    "df['Employment Status'] = df['Employment Status'].map(employment_status_mapping)"
   ]
  },
  {
   "cell_type": "code",
   "execution_count": 21,
   "id": "7c8c81d1",
   "metadata": {},
   "outputs": [
    {
     "name": "stdout",
     "output_type": "stream",
     "text": [
      "   Age  Gender Marital Status  Education Level  Employment Status  \\\n",
      "0   60    Male        Married              3.0                  1   \n",
      "1   25    Male        Married              1.0                  0   \n",
      "2   30  Female         Single              3.0                  1   \n",
      "3   58  Female        Married              NaN                  0   \n",
      "4   32    Male        Married              2.0                  2   \n",
      "\n",
      "   Credit Utilization Ratio  Payment History  Number of Credit Accounts  \\\n",
      "0                      0.22           2685.0                          2   \n",
      "1                      0.20           2371.0                          9   \n",
      "2                      0.22           2771.0                          6   \n",
      "3                      0.12           1371.0                          2   \n",
      "4                      0.99            828.0                          2   \n",
      "\n",
      "   Loan Amount  Interest Rate  Loan Term   Type of Loan  Credit Score  \n",
      "0      4675000           2.65         48  Personal Loan       940.516  \n",
      "1      3619000           5.19         60      Auto Loan       831.360  \n",
      "2       957000           2.76         12      Auto Loan       971.216  \n",
      "3      4731000           6.57         60      Auto Loan           NaN  \n",
      "4      3289000           6.28         36  Personal Loan       290.797  \n"
     ]
    }
   ],
   "source": [
    "# calculate credit scores using the complete FICO formula\n",
    "\n",
    "credit_scores = []\n",
    "\n",
    "for index, row in df.iterrows():\n",
    "    payment_history = row['Payment History']\n",
    "    credit_utilization_ratio = row['Credit Utilization Ratio']\n",
    "    number_of_credit_accounts = row['Number of Credit Accounts']\n",
    "    education_level = row['Education Level']\n",
    "    employment_status = row['Employment Status']\n",
    "    \n",
    "    # apply the FICO formula to calculate the credit score\n",
    "    credit_score = (payment_history * 0.35) + (credit_utilization_ratio *0.30) + (number_of_credit_accounts *0.15) + (education_level * 0.10) + (employment_status * 0.10)\n",
    "    credit_scores.append(credit_score)\n",
    "    \n",
    "df['Credit Score'] = credit_scores\n",
    "\n",
    "print(df.head())"
   ]
  },
  {
   "cell_type": "code",
   "execution_count": 23,
   "id": "045c864c",
   "metadata": {},
   "outputs": [],
   "source": [
    "df = df.dropna()"
   ]
  },
  {
   "cell_type": "code",
   "execution_count": 24,
   "id": "202859c2",
   "metadata": {},
   "outputs": [
    {
     "name": "stderr",
     "output_type": "stream",
     "text": [
      "C:\\Users\\gajendra singh\\anaconda3\\Lib\\site-packages\\sklearn\\cluster\\_kmeans.py:1436: UserWarning:\n",
      "\n",
      "KMeans is known to have a memory leak on Windows with MKL, when there are less chunks than available threads. You can avoid it by setting the environment variable OMP_NUM_THREADS=3.\n",
      "\n"
     ]
    }
   ],
   "source": [
    "from sklearn.cluster import KMeans\n",
    "\n",
    "X = df[[\"Credit Score\"]]\n",
    "\n",
    "kmeans = KMeans(n_clusters=4, n_init=10, random_state=42)\n",
    "\n",
    "kmeans.fit(X)\n",
    "df['Segment'] = kmeans.labels_"
   ]
  },
  {
   "cell_type": "code",
   "execution_count": 26,
   "id": "a5627ebd",
   "metadata": {},
   "outputs": [
    {
     "data": {
      "text/html": [
       "<div>\n",
       "<style scoped>\n",
       "    .dataframe tbody tr th:only-of-type {\n",
       "        vertical-align: middle;\n",
       "    }\n",
       "\n",
       "    .dataframe tbody tr th {\n",
       "        vertical-align: top;\n",
       "    }\n",
       "\n",
       "    .dataframe thead th {\n",
       "        text-align: right;\n",
       "    }\n",
       "</style>\n",
       "<table border=\"1\" class=\"dataframe\">\n",
       "  <thead>\n",
       "    <tr style=\"text-align: right;\">\n",
       "      <th></th>\n",
       "      <th>Age</th>\n",
       "      <th>Gender</th>\n",
       "      <th>Marital Status</th>\n",
       "      <th>Education Level</th>\n",
       "      <th>Employment Status</th>\n",
       "      <th>Credit Utilization Ratio</th>\n",
       "      <th>Payment History</th>\n",
       "      <th>Number of Credit Accounts</th>\n",
       "      <th>Loan Amount</th>\n",
       "      <th>Interest Rate</th>\n",
       "      <th>Loan Term</th>\n",
       "      <th>Type of Loan</th>\n",
       "      <th>Credit Score</th>\n",
       "      <th>Segment</th>\n",
       "    </tr>\n",
       "  </thead>\n",
       "  <tbody>\n",
       "    <tr>\n",
       "      <th>0</th>\n",
       "      <td>60</td>\n",
       "      <td>Male</td>\n",
       "      <td>Married</td>\n",
       "      <td>3.0</td>\n",
       "      <td>1</td>\n",
       "      <td>0.22</td>\n",
       "      <td>2685.0</td>\n",
       "      <td>2</td>\n",
       "      <td>4675000</td>\n",
       "      <td>2.65</td>\n",
       "      <td>48</td>\n",
       "      <td>Personal Loan</td>\n",
       "      <td>940.516</td>\n",
       "      <td>2</td>\n",
       "    </tr>\n",
       "    <tr>\n",
       "      <th>1</th>\n",
       "      <td>25</td>\n",
       "      <td>Male</td>\n",
       "      <td>Married</td>\n",
       "      <td>1.0</td>\n",
       "      <td>0</td>\n",
       "      <td>0.20</td>\n",
       "      <td>2371.0</td>\n",
       "      <td>9</td>\n",
       "      <td>3619000</td>\n",
       "      <td>5.19</td>\n",
       "      <td>60</td>\n",
       "      <td>Auto Loan</td>\n",
       "      <td>831.360</td>\n",
       "      <td>2</td>\n",
       "    </tr>\n",
       "    <tr>\n",
       "      <th>2</th>\n",
       "      <td>30</td>\n",
       "      <td>Female</td>\n",
       "      <td>Single</td>\n",
       "      <td>3.0</td>\n",
       "      <td>1</td>\n",
       "      <td>0.22</td>\n",
       "      <td>2771.0</td>\n",
       "      <td>6</td>\n",
       "      <td>957000</td>\n",
       "      <td>2.76</td>\n",
       "      <td>12</td>\n",
       "      <td>Auto Loan</td>\n",
       "      <td>971.216</td>\n",
       "      <td>2</td>\n",
       "    </tr>\n",
       "    <tr>\n",
       "      <th>4</th>\n",
       "      <td>32</td>\n",
       "      <td>Male</td>\n",
       "      <td>Married</td>\n",
       "      <td>2.0</td>\n",
       "      <td>2</td>\n",
       "      <td>0.99</td>\n",
       "      <td>828.0</td>\n",
       "      <td>2</td>\n",
       "      <td>3289000</td>\n",
       "      <td>6.28</td>\n",
       "      <td>36</td>\n",
       "      <td>Personal Loan</td>\n",
       "      <td>290.797</td>\n",
       "      <td>1</td>\n",
       "    </tr>\n",
       "    <tr>\n",
       "      <th>5</th>\n",
       "      <td>42</td>\n",
       "      <td>Male</td>\n",
       "      <td>Divorced</td>\n",
       "      <td>3.0</td>\n",
       "      <td>0</td>\n",
       "      <td>0.94</td>\n",
       "      <td>2342.0</td>\n",
       "      <td>2</td>\n",
       "      <td>1536000</td>\n",
       "      <td>11.15</td>\n",
       "      <td>24</td>\n",
       "      <td>Personal Loan</td>\n",
       "      <td>820.582</td>\n",
       "      <td>2</td>\n",
       "    </tr>\n",
       "    <tr>\n",
       "      <th>...</th>\n",
       "      <td>...</td>\n",
       "      <td>...</td>\n",
       "      <td>...</td>\n",
       "      <td>...</td>\n",
       "      <td>...</td>\n",
       "      <td>...</td>\n",
       "      <td>...</td>\n",
       "      <td>...</td>\n",
       "      <td>...</td>\n",
       "      <td>...</td>\n",
       "      <td>...</td>\n",
       "      <td>...</td>\n",
       "      <td>...</td>\n",
       "      <td>...</td>\n",
       "    </tr>\n",
       "    <tr>\n",
       "      <th>994</th>\n",
       "      <td>53</td>\n",
       "      <td>Female</td>\n",
       "      <td>Single</td>\n",
       "      <td>3.0</td>\n",
       "      <td>1</td>\n",
       "      <td>0.40</td>\n",
       "      <td>2028.0</td>\n",
       "      <td>4</td>\n",
       "      <td>2561000</td>\n",
       "      <td>3.26</td>\n",
       "      <td>36</td>\n",
       "      <td>Home Loan</td>\n",
       "      <td>710.920</td>\n",
       "      <td>0</td>\n",
       "    </tr>\n",
       "    <tr>\n",
       "      <th>995</th>\n",
       "      <td>59</td>\n",
       "      <td>Male</td>\n",
       "      <td>Divorced</td>\n",
       "      <td>1.0</td>\n",
       "      <td>1</td>\n",
       "      <td>0.74</td>\n",
       "      <td>1285.0</td>\n",
       "      <td>8</td>\n",
       "      <td>3530000</td>\n",
       "      <td>12.99</td>\n",
       "      <td>48</td>\n",
       "      <td>Auto Loan</td>\n",
       "      <td>451.372</td>\n",
       "      <td>1</td>\n",
       "    </tr>\n",
       "    <tr>\n",
       "      <th>996</th>\n",
       "      <td>64</td>\n",
       "      <td>Male</td>\n",
       "      <td>Divorced</td>\n",
       "      <td>2.0</td>\n",
       "      <td>0</td>\n",
       "      <td>0.77</td>\n",
       "      <td>1857.0</td>\n",
       "      <td>2</td>\n",
       "      <td>1377000</td>\n",
       "      <td>18.02</td>\n",
       "      <td>60</td>\n",
       "      <td>Home Loan</td>\n",
       "      <td>650.681</td>\n",
       "      <td>0</td>\n",
       "    </tr>\n",
       "    <tr>\n",
       "      <th>997</th>\n",
       "      <td>63</td>\n",
       "      <td>Female</td>\n",
       "      <td>Single</td>\n",
       "      <td>3.0</td>\n",
       "      <td>2</td>\n",
       "      <td>0.18</td>\n",
       "      <td>2628.0</td>\n",
       "      <td>10</td>\n",
       "      <td>2443000</td>\n",
       "      <td>18.95</td>\n",
       "      <td>12</td>\n",
       "      <td>Personal Loan</td>\n",
       "      <td>921.854</td>\n",
       "      <td>2</td>\n",
       "    </tr>\n",
       "    <tr>\n",
       "      <th>999</th>\n",
       "      <td>37</td>\n",
       "      <td>Female</td>\n",
       "      <td>Married</td>\n",
       "      <td>3.0</td>\n",
       "      <td>2</td>\n",
       "      <td>0.17</td>\n",
       "      <td>1028.0</td>\n",
       "      <td>5</td>\n",
       "      <td>4182000</td>\n",
       "      <td>9.34</td>\n",
       "      <td>24</td>\n",
       "      <td>Auto Loan</td>\n",
       "      <td>361.101</td>\n",
       "      <td>1</td>\n",
       "    </tr>\n",
       "  </tbody>\n",
       "</table>\n",
       "<p>755 rows × 14 columns</p>\n",
       "</div>"
      ],
      "text/plain": [
       "     Age  Gender Marital Status  Education Level  Employment Status  \\\n",
       "0     60    Male        Married              3.0                  1   \n",
       "1     25    Male        Married              1.0                  0   \n",
       "2     30  Female         Single              3.0                  1   \n",
       "4     32    Male        Married              2.0                  2   \n",
       "5     42    Male       Divorced              3.0                  0   \n",
       "..   ...     ...            ...              ...                ...   \n",
       "994   53  Female         Single              3.0                  1   \n",
       "995   59    Male       Divorced              1.0                  1   \n",
       "996   64    Male       Divorced              2.0                  0   \n",
       "997   63  Female         Single              3.0                  2   \n",
       "999   37  Female        Married              3.0                  2   \n",
       "\n",
       "     Credit Utilization Ratio  Payment History  Number of Credit Accounts  \\\n",
       "0                        0.22           2685.0                          2   \n",
       "1                        0.20           2371.0                          9   \n",
       "2                        0.22           2771.0                          6   \n",
       "4                        0.99            828.0                          2   \n",
       "5                        0.94           2342.0                          2   \n",
       "..                        ...              ...                        ...   \n",
       "994                      0.40           2028.0                          4   \n",
       "995                      0.74           1285.0                          8   \n",
       "996                      0.77           1857.0                          2   \n",
       "997                      0.18           2628.0                         10   \n",
       "999                      0.17           1028.0                          5   \n",
       "\n",
       "     Loan Amount  Interest Rate  Loan Term   Type of Loan  Credit Score  \\\n",
       "0        4675000           2.65         48  Personal Loan       940.516   \n",
       "1        3619000           5.19         60      Auto Loan       831.360   \n",
       "2         957000           2.76         12      Auto Loan       971.216   \n",
       "4        3289000           6.28         36  Personal Loan       290.797   \n",
       "5        1536000          11.15         24  Personal Loan       820.582   \n",
       "..           ...            ...        ...            ...           ...   \n",
       "994      2561000           3.26         36      Home Loan       710.920   \n",
       "995      3530000          12.99         48      Auto Loan       451.372   \n",
       "996      1377000          18.02         60      Home Loan       650.681   \n",
       "997      2443000          18.95         12  Personal Loan       921.854   \n",
       "999      4182000           9.34         24      Auto Loan       361.101   \n",
       "\n",
       "     Segment  \n",
       "0          2  \n",
       "1          2  \n",
       "2          2  \n",
       "4          1  \n",
       "5          2  \n",
       "..       ...  \n",
       "994        0  \n",
       "995        1  \n",
       "996        0  \n",
       "997        2  \n",
       "999        1  \n",
       "\n",
       "[755 rows x 14 columns]"
      ]
     },
     "execution_count": 26,
     "metadata": {},
     "output_type": "execute_result"
    }
   ],
   "source": [
    "df"
   ]
  },
  {
   "cell_type": "code",
   "execution_count": 28,
   "id": "d70a13a5",
   "metadata": {},
   "outputs": [
    {
     "data": {
      "application/vnd.plotly.v1+json": {
       "config": {
        "plotlyServerURL": "https://plot.ly"
       },
       "data": [
        {
         "hovertemplate": "Segment=2<br>index=%{x}<br>Credit Score=%{y}<extra></extra>",
         "legendgroup": "2",
         "marker": {
          "color": "green",
          "symbol": "circle"
         },
         "mode": "markers",
         "name": "2",
         "orientation": "v",
         "showlegend": true,
         "type": "scatter",
         "x": [
          0,
          1,
          2,
          5,
          6,
          14,
          26,
          48,
          60,
          67,
          72,
          73,
          74,
          97,
          103,
          104,
          108,
          117,
          118,
          125,
          129,
          147,
          148,
          149,
          153,
          154,
          169,
          173,
          175,
          178,
          192,
          200,
          203,
          213,
          220,
          221,
          224,
          233,
          240,
          247,
          249,
          250,
          264,
          278,
          284,
          286,
          298,
          300,
          302,
          308,
          311,
          313,
          316,
          328,
          340,
          341,
          345,
          351,
          352,
          355,
          356,
          357,
          362,
          364,
          365,
          372,
          378,
          394,
          398,
          407,
          409,
          416,
          418,
          420,
          426,
          428,
          433,
          439,
          447,
          451,
          458,
          464,
          468,
          470,
          477,
          484,
          488,
          491,
          492,
          494,
          504,
          507,
          513,
          529,
          533,
          538,
          544,
          545,
          547,
          548,
          553,
          555,
          560,
          563,
          564,
          566,
          568,
          583,
          587,
          589,
          594,
          598,
          612,
          614,
          619,
          622,
          626,
          637,
          639,
          640,
          661,
          667,
          669,
          681,
          689,
          690,
          695,
          697,
          699,
          702,
          721,
          722,
          730,
          737,
          746,
          749,
          752,
          755,
          763,
          765,
          766,
          769,
          774,
          782,
          788,
          791,
          801,
          802,
          807,
          812,
          821,
          822,
          823,
          842,
          846,
          855,
          856,
          858,
          859,
          860,
          874,
          875,
          880,
          895,
          899,
          901,
          913,
          921,
          926,
          939,
          945,
          948,
          949,
          970,
          972,
          985,
          991,
          992,
          997
         ],
         "xaxis": "x",
         "y": [
          940.5159999999998,
          831.3599999999999,
          971.2159999999999,
          820.5819999999999,
          980.4459999999999,
          831.5499999999998,
          831.7939999999999,
          840.6270000000001,
          921.644,
          801.8870000000001,
          881.3990000000001,
          981.5859999999998,
          961.208,
          1002.1469999999999,
          981.645,
          850.979,
          890.9039999999999,
          820.6550000000001,
          801.4350000000001,
          821.068,
          1001.8410000000001,
          901.581,
          911.551,
          911.2049999999999,
          811.725,
          921.798,
          841.4990000000001,
          941.6829999999999,
          820.346,
          821.069,
          861.3299999999998,
          940.558,
          800.6730000000001,
          810.9630000000001,
          1001.514,
          900.688,
          861.3939999999999,
          880.9420000000001,
          860.8469999999999,
          900.7479999999999,
          990.792,
          950.713,
          1001.1869999999999,
          981.959,
          881.143,
          931.151,
          930.5279999999999,
          831.6279999999999,
          870.808,
          820.7230000000001,
          831.1129999999998,
          1001.509,
          871.036,
          920.2239999999999,
          911.492,
          961.0519999999999,
          871.063,
          941.588,
          900.799,
          821.7719999999999,
          981.5729999999999,
          981.601,
          951.216,
          780.904,
          921.63,
          961.454,
          861.483,
          900.3559999999999,
          890.9119999999999,
          921.0559999999999,
          861.786,
          801.63,
          961.276,
          780.978,
          930.6479999999999,
          881.474,
          920.4719999999999,
          861.424,
          931.3149999999999,
          981.2479999999998,
          800.905,
          991.3240000000001,
          940.262,
          891.484,
          891.6979999999999,
          861.7990000000001,
          1000.5329999999999,
          841.106,
          981.8589999999999,
          860.5409999999999,
          781.7239999999999,
          820.153,
          881.951,
          881.5140000000001,
          1000.418,
          801.48,
          921.47,
          941.2299999999998,
          881.839,
          811.98,
          810.4879999999999,
          821.461,
          820.4819999999999,
          900.991,
          900.4629999999999,
          961.9699999999999,
          1001.059,
          970.5759999999999,
          901.526,
          920.3369999999999,
          800.85,
          970.5669999999998,
          921.455,
          981.2799999999999,
          801.226,
          980.906,
          1001.285,
          870.554,
          821.008,
          981.5219999999998,
          960.54,
          871.72,
          940.919,
          940.867,
          830.728,
          1001.1469999999999,
          891.4680000000001,
          971.0219999999999,
          861.872,
          920.9279999999999,
          780.637,
          881.511,
          891.2789999999999,
          911.5599999999998,
          861.813,
          800.7460000000001,
          800.996,
          921.512,
          931.308,
          901.4549999999999,
          860.5889999999999,
          951.3129999999999,
          971.0799999999999,
          982.1789999999999,
          931.458,
          950.8660000000001,
          791.5389999999999,
          880.854,
          861.9430000000001,
          950.207,
          991.475,
          981.15,
          971.5469999999999,
          930.7470000000001,
          880.9680000000001,
          990.658,
          900.888,
          951.8720000000001,
          820.068,
          900.8999999999999,
          891.387,
          850.761,
          960.852,
          991.289,
          842.17,
          930.866,
          921.408,
          841.7590000000001,
          891.457,
          980.9419999999999,
          920.539,
          950.7420000000001,
          850.797,
          840.62,
          791.8629999999999,
          831.5439999999999,
          850.8510000000001,
          980.947,
          921.8539999999999
         ],
         "yaxis": "y"
        },
        {
         "hovertemplate": "Segment=1<br>index=%{x}<br>Credit Score=%{y}<extra></extra>",
         "legendgroup": "1",
         "marker": {
          "color": "blue",
          "symbol": "circle"
         },
         "mode": "markers",
         "name": "1",
         "orientation": "v",
         "showlegend": true,
         "type": "scatter",
         "x": [
          4,
          7,
          12,
          16,
          24,
          34,
          49,
          52,
          58,
          59,
          68,
          84,
          86,
          88,
          89,
          90,
          92,
          95,
          101,
          115,
          123,
          145,
          146,
          157,
          161,
          170,
          176,
          182,
          191,
          208,
          215,
          217,
          218,
          226,
          229,
          230,
          237,
          241,
          246,
          259,
          260,
          263,
          268,
          269,
          270,
          279,
          287,
          289,
          291,
          296,
          305,
          315,
          320,
          323,
          329,
          330,
          333,
          334,
          336,
          338,
          349,
          353,
          359,
          368,
          371,
          377,
          385,
          388,
          391,
          393,
          399,
          403,
          404,
          406,
          408,
          415,
          429,
          430,
          432,
          434,
          443,
          446,
          450,
          456,
          459,
          460,
          469,
          471,
          475,
          478,
          480,
          482,
          485,
          487,
          497,
          514,
          515,
          516,
          518,
          519,
          520,
          522,
          527,
          530,
          532,
          535,
          537,
          539,
          554,
          561,
          562,
          565,
          567,
          573,
          574,
          584,
          593,
          599,
          600,
          602,
          605,
          607,
          609,
          610,
          615,
          618,
          629,
          630,
          632,
          656,
          659,
          678,
          679,
          686,
          693,
          694,
          696,
          700,
          705,
          718,
          723,
          724,
          726,
          727,
          728,
          731,
          740,
          741,
          742,
          745,
          750,
          751,
          754,
          757,
          771,
          772,
          775,
          781,
          808,
          810,
          816,
          818,
          825,
          826,
          827,
          828,
          832,
          838,
          845,
          850,
          852,
          854,
          861,
          862,
          863,
          865,
          870,
          873,
          878,
          889,
          906,
          907,
          910,
          911,
          917,
          919,
          931,
          932,
          941,
          950,
          952,
          954,
          961,
          963,
          967,
          978,
          979,
          981,
          983,
          989,
          995,
          999
         ],
         "xaxis": "x",
         "y": [
          290.79699999999997,
          501.59799999999996,
          390.97900000000004,
          271.801,
          301.116,
          330.424,
          431.385,
          391.974,
          510.83700000000005,
          341.30999999999995,
          391.651,
          311.72900000000004,
          441.882,
          360.725,
          391.395,
          461.78700000000003,
          331.725,
          350.63599999999997,
          511.50000000000006,
          410.60599999999994,
          431.92299999999994,
          491.8109999999999,
          400.76099999999997,
          441.59700000000004,
          330.92900000000003,
          310.944,
          501.59999999999997,
          281.133,
          511.572,
          290.776,
          411.18,
          461.38399999999996,
          501.1029999999999,
          390.94199999999995,
          490.7269999999999,
          331.438,
          271.132,
          410.795,
          320.795,
          340.58399999999995,
          460.48799999999994,
          510.74399999999997,
          501.4789999999999,
          401.08500000000004,
          381.69300000000004,
          491.27399999999994,
          491.29999999999995,
          480.65099999999995,
          300.634,
          500.4399999999999,
          471.26,
          421.637,
          281.219,
          321.814,
          461.35499999999996,
          340.938,
          400.128,
          311.448,
          510.942,
          431.10099999999994,
          481.39799999999997,
          401.684,
          321.46500000000003,
          421.80400000000003,
          370.81899999999996,
          270.592,
          290.64399999999995,
          321.115,
          491.162,
          300.31199999999995,
          271.84299999999996,
          400.106,
          301.26500000000004,
          481.01800000000003,
          321.46599999999995,
          450.96199999999993,
          450.5179999999999,
          450.70699999999994,
          331.53999999999996,
          410.77299999999997,
          450.51199999999994,
          480.33399999999995,
          411.88399999999996,
          481.617,
          280.83500000000004,
          391.645,
          372.001,
          410.7269999999999,
          311.38000000000005,
          480.546,
          401.133,
          520.4,
          520.634,
          400.363,
          421.376,
          371.66499999999996,
          320.33399999999995,
          301.78399999999993,
          381.46999999999997,
          401.664,
          322.14,
          280.985,
          321.471,
          430.55899999999997,
          301.55,
          390.41499999999996,
          350.86799999999994,
          361.145,
          420.37399999999997,
          411.54499999999996,
          470.919,
          511.826,
          390.41499999999996,
          480.957,
          381.19500000000005,
          320.38599999999997,
          451.5319999999999,
          331.11799999999994,
          441.90200000000004,
          410.40599999999995,
          381.731,
          321.923,
          300.93799999999993,
          322.09499999999997,
          351.554,
          301.486,
          420.718,
          381.286,
          351.561,
          441.507,
          330.908,
          390.97599999999994,
          391.844,
          410.78299999999996,
          400.94999999999993,
          420.83799999999997,
          481.941,
          351.019,
          430.32199999999995,
          391.68199999999996,
          301.435,
          371.57500000000005,
          371.87,
          421.1650000000001,
          361.33099999999996,
          451.1929999999999,
          500.3209999999999,
          271.36899999999997,
          321.135,
          500.80899999999997,
          511.40099999999995,
          271.321,
          311.579,
          281.90999999999997,
          270.77099999999996,
          370.401,
          461.69599999999997,
          281.481,
          481.58899999999994,
          400.423,
          421.336,
          470.99100000000004,
          350.9200000000001,
          290.889,
          441.408,
          351.987,
          321.815,
          330.514,
          430.42199999999997,
          440.796,
          451.1809999999999,
          460.27699999999993,
          281.63599999999997,
          480.792,
          420.68399999999997,
          390.37699999999995,
          391.68100000000004,
          401.152,
          270.7939999999999,
          441.835,
          400.28599999999994,
          270.513,
          510.752,
          351.416,
          310.81800000000004,
          461.216,
          280.944,
          480.37699999999995,
          521.591,
          490.6859999999999,
          451.64799999999997,
          442.038,
          290.38599999999997,
          330.091,
          491.294,
          351.32300000000004,
          321.981,
          330.982,
          451.60599999999994,
          461.14000000000004,
          451.37199999999996,
          361.10099999999994
         ],
         "yaxis": "y"
        },
        {
         "hovertemplate": "Segment=3<br>index=%{x}<br>Credit Score=%{y}<extra></extra>",
         "legendgroup": "3",
         "marker": {
          "color": "yellow",
          "symbol": "circle"
         },
         "mode": "markers",
         "name": "3",
         "orientation": "v",
         "showlegend": true,
         "type": "scatter",
         "x": [
          10,
          11,
          27,
          30,
          31,
          33,
          46,
          47,
          50,
          53,
          56,
          57,
          61,
          65,
          76,
          78,
          85,
          93,
          96,
          98,
          99,
          105,
          109,
          110,
          113,
          122,
          126,
          128,
          152,
          158,
          166,
          168,
          172,
          184,
          187,
          188,
          194,
          196,
          202,
          210,
          214,
          216,
          219,
          222,
          232,
          238,
          239,
          248,
          252,
          256,
          258,
          261,
          266,
          267,
          273,
          275,
          276,
          282,
          283,
          290,
          318,
          324,
          327,
          337,
          339,
          344,
          348,
          361,
          366,
          367,
          369,
          375,
          379,
          389,
          400,
          413,
          414,
          422,
          424,
          427,
          435,
          436,
          438,
          452,
          453,
          455,
          462,
          463,
          472,
          476,
          486,
          493,
          495,
          505,
          511,
          512,
          521,
          523,
          524,
          531,
          534,
          540,
          541,
          542,
          550,
          558,
          575,
          578,
          582,
          585,
          586,
          592,
          613,
          621,
          624,
          625,
          627,
          634,
          636,
          645,
          650,
          662,
          666,
          670,
          674,
          682,
          687,
          691,
          704,
          709,
          714,
          716,
          719,
          720,
          729,
          732,
          739,
          743,
          747,
          758,
          764,
          767,
          783,
          784,
          797,
          800,
          805,
          811,
          817,
          824,
          830,
          835,
          837,
          839,
          849,
          857,
          864,
          866,
          871,
          876,
          877,
          879,
          887,
          897,
          900,
          904,
          905,
          914,
          915,
          924,
          927,
          929,
          935,
          936,
          937,
          946,
          956,
          964,
          969,
          973,
          974,
          975,
          982,
          986,
          990
         ],
         "xaxis": "x",
         "y": [
          201.53699999999998,
          250.80299999999997,
          190.87199999999999,
          50.993,
          30.763999999999996,
          81.049,
          1.1139999999999999,
          31.331999999999997,
          80.316,
          151.78,
          231.70499999999996,
          100.73499999999999,
          161.313,
          120.68799999999997,
          150.68799999999996,
          1.131,
          181.17299999999994,
          81.366,
          240.57,
          180.54999999999995,
          20.977,
          161.62199999999999,
          30.438999999999997,
          60.779999999999994,
          1.799,
          50.595,
          231.058,
          211.63099999999997,
          70.729,
          180.63499999999996,
          141.44899999999998,
          191.14299999999997,
          101.238,
          211.262,
          171.354,
          150.70799999999997,
          190.876,
          111.80499999999998,
          210.88699999999997,
          170.77800000000002,
          231.439,
          170.814,
          251.68499999999997,
          191.225,
          231.14299999999997,
          150.96099999999996,
          72.04299999999999,
          151.052,
          261.41400000000004,
          260.474,
          170.20299999999997,
          0.572,
          70.99700000000001,
          170.93,
          90.377,
          190.33399999999997,
          251.79199999999997,
          181.81799999999996,
          170.58999999999997,
          212.082,
          212.12800000000001,
          151.58199999999997,
          261.15,
          20.775000000000002,
          120.73499999999999,
          171.54000000000002,
          41.425,
          131.17899999999997,
          240.97099999999998,
          210.93800000000002,
          171.658,
          221.312,
          171.47699999999998,
          200.784,
          250.96299999999994,
          130.40099999999998,
          190.278,
          130.706,
          91.83399999999997,
          140.766,
          41.757000000000005,
          90.68299999999999,
          241.41699999999994,
          190.50699999999998,
          21.285,
          61.436,
          180.34599999999998,
          31.589,
          50.715,
          41.845,
          190.97099999999998,
          181.046,
          251.84899999999996,
          31.008,
          110.86699999999998,
          11.461999999999998,
          231.357,
          111.78799999999998,
          91.84799999999998,
          131.35999999999999,
          181.41199999999995,
          41.883,
          151.32199999999997,
          191.13299999999995,
          51.494,
          80.98499999999999,
          81.747,
          211.82999999999998,
          151.022,
          30.551,
          121.571,
          251.20799999999997,
          111.44799999999998,
          231.54199999999997,
          251.24099999999996,
          150.635,
          180.50399999999996,
          201.49099999999996,
          1.8499999999999999,
          51.174,
          240.29199999999997,
          201.07299999999998,
          211.84400000000002,
          31.447999999999997,
          161.36799999999997,
          241.51799999999997,
          150.564,
          0.741,
          120.43899999999998,
          81.67999999999999,
          51.335,
          241.53699999999995,
          160.79199999999997,
          190.88699999999997,
          261.416,
          170.53699999999998,
          221.533,
          241.22,
          0.665,
          180.71499999999995,
          91.59699999999998,
          111.28599999999999,
          110.636,
          1.424,
          150.74099999999996,
          50.53,
          121.13099999999999,
          11.429,
          101.547,
          251.54599999999996,
          110.77399999999999,
          201.804,
          61.111000000000004,
          221.04099999999997,
          100.408,
          200.552,
          40.760000000000005,
          121.20999999999998,
          110.60799999999999,
          251.48099999999997,
          191.41199999999998,
          100.881,
          120.48599999999999,
          230.72799999999998,
          31.557,
          81.77,
          231.35899999999998,
          50.564,
          150.72399999999996,
          60.366,
          180.71999999999997,
          211.009,
          201.068,
          1.3970000000000002,
          181.01299999999995,
          260.13,
          40.375,
          71.17299999999999,
          161.47399999999996,
          180.596,
          100.31400000000001,
          231.26299999999998,
          40.583000000000006,
          30.723,
          91.318
         ],
         "yaxis": "y"
        },
        {
         "hovertemplate": "Segment=0<br>index=%{x}<br>Credit Score=%{y}<extra></extra>",
         "legendgroup": "0",
         "marker": {
          "color": "red",
          "symbol": "circle"
         },
         "mode": "markers",
         "name": "0",
         "orientation": "v",
         "showlegend": true,
         "type": "scatter",
         "x": [
          13,
          15,
          17,
          19,
          23,
          25,
          32,
          35,
          38,
          39,
          40,
          42,
          45,
          62,
          66,
          70,
          83,
          94,
          100,
          102,
          106,
          119,
          121,
          124,
          127,
          131,
          133,
          138,
          139,
          150,
          155,
          159,
          162,
          164,
          167,
          177,
          181,
          183,
          186,
          190,
          193,
          195,
          197,
          198,
          199,
          201,
          206,
          209,
          211,
          223,
          225,
          228,
          231,
          234,
          236,
          243,
          244,
          265,
          280,
          281,
          285,
          294,
          295,
          307,
          310,
          312,
          321,
          326,
          335,
          342,
          346,
          363,
          374,
          381,
          386,
          387,
          392,
          395,
          396,
          401,
          402,
          419,
          421,
          423,
          440,
          441,
          442,
          445,
          461,
          466,
          473,
          479,
          483,
          489,
          490,
          498,
          503,
          509,
          510,
          536,
          557,
          559,
          571,
          572,
          576,
          577,
          579,
          580,
          581,
          606,
          616,
          617,
          623,
          633,
          641,
          643,
          646,
          648,
          651,
          652,
          655,
          657,
          660,
          663,
          664,
          671,
          672,
          676,
          677,
          683,
          684,
          685,
          688,
          692,
          703,
          708,
          711,
          712,
          717,
          734,
          735,
          738,
          760,
          768,
          779,
          785,
          790,
          792,
          796,
          798,
          799,
          803,
          804,
          815,
          829,
          834,
          836,
          840,
          843,
          851,
          853,
          868,
          872,
          882,
          883,
          888,
          890,
          891,
          893,
          903,
          912,
          916,
          922,
          928,
          933,
          938,
          942,
          944,
          955,
          958,
          960,
          962,
          966,
          968,
          976,
          984,
          988,
          994,
          996
         ],
         "xaxis": "x",
         "y": [
          700.9480000000001,
          750.5649999999999,
          551.0799999999999,
          700.732,
          720.986,
          640.912,
          601.061,
          550.4119999999999,
          551.737,
          651.674,
          601.672,
          591.5380000000001,
          531.213,
          611.084,
          761.485,
          731.738,
          550.7749999999999,
          680.419,
          571.627,
          741.8360000000001,
          540.4319999999999,
          601.632,
          730.9230000000001,
          771.005,
          691.7529999999999,
          650.681,
          600.7370000000001,
          691.1619999999998,
          580.434,
          591.571,
          731.1629999999999,
          631.978,
          571.6669999999999,
          601.663,
          671.644,
          691.997,
          591.0010000000001,
          760.6539999999999,
          740.8249999999999,
          531.8430000000001,
          750.718,
          711.523,
          710.816,
          610.6999999999999,
          651.728,
          721.019,
          582.038,
          750.838,
          761.4309999999998,
          681.71,
          591.7610000000001,
          590.9180000000001,
          581.855,
          620.885,
          721.784,
          580.977,
          730.802,
          691.0559999999999,
          721.76,
          770.8180000000001,
          720.6159999999999,
          570.5609999999999,
          691.3009999999999,
          730.6650000000001,
          771.245,
          630.9590000000001,
          581.885,
          770.95,
          630.9050000000001,
          701.372,
          741.868,
          731.562,
          580.7409999999999,
          740.9300000000001,
          660.156,
          541.9549999999999,
          660.955,
          730.5790000000001,
          681.588,
          610.9879999999999,
          671.189,
          711.3729999999999,
          581.883,
          531.0160000000001,
          561.4,
          690.8219999999999,
          660.6800000000001,
          731.419,
          670.8629999999999,
          561.979,
          571.269,
          671.159,
          701.2900000000001,
          671.369,
          660.467,
          772.1310000000001,
          571.086,
          770.607,
          721.8439999999999,
          541.14,
          621.605,
          631.0600000000001,
          541.3929999999999,
          751.4289999999999,
          730.3530000000001,
          531.181,
          660.903,
          711.84,
          611.0759999999999,
          671.621,
          600.965,
          770.541,
          531.3599999999999,
          620.922,
          550.99,
          590.552,
          640.2739999999999,
          680.1829999999999,
          680.952,
          561.7220000000001,
          531.6670000000001,
          531.3129999999999,
          621.068,
          561.605,
          531.516,
          641.078,
          742.043,
          600.213,
          660.587,
          680.548,
          620.6769999999999,
          690.794,
          701.5459999999999,
          681.6479999999999,
          730.3240000000001,
          541.614,
          690.9739999999999,
          710.322,
          700.951,
          771.7490000000001,
          660.2180000000001,
          581.7139999999999,
          610.658,
          681.1399999999999,
          661.4920000000001,
          750.698,
          740.6750000000001,
          600.6800000000001,
          680.523,
          710.798,
          660.7900000000001,
          651.9479999999999,
          680.381,
          721.5219999999999,
          700.5530000000001,
          631.7930000000001,
          700.913,
          701.0889999999999,
          581.429,
          571.445,
          631.8760000000001,
          641.398,
          620.591,
          580.8449999999999,
          740.535,
          740.2819999999999,
          531.252,
          731.351,
          731.036,
          571.197,
          630.8939999999999,
          620.944,
          651.4,
          601.605,
          531.2669999999999,
          541.1419999999999,
          721.286,
          650.3739999999999,
          601.379,
          670.748,
          710.936,
          730.7710000000001,
          610.755,
          550.5569999999999,
          751.043,
          730.91,
          771.5400000000001,
          710.92,
          650.6809999999999
         ],
         "yaxis": "y"
        }
       ],
       "layout": {
        "legend": {
         "title": {
          "text": "Segment"
         },
         "tracegroupgap": 0
        },
        "margin": {
         "t": 60
        },
        "template": {
         "data": {
          "bar": [
           {
            "error_x": {
             "color": "#2a3f5f"
            },
            "error_y": {
             "color": "#2a3f5f"
            },
            "marker": {
             "line": {
              "color": "white",
              "width": 0.5
             },
             "pattern": {
              "fillmode": "overlay",
              "size": 10,
              "solidity": 0.2
             }
            },
            "type": "bar"
           }
          ],
          "barpolar": [
           {
            "marker": {
             "line": {
              "color": "white",
              "width": 0.5
             },
             "pattern": {
              "fillmode": "overlay",
              "size": 10,
              "solidity": 0.2
             }
            },
            "type": "barpolar"
           }
          ],
          "carpet": [
           {
            "aaxis": {
             "endlinecolor": "#2a3f5f",
             "gridcolor": "#C8D4E3",
             "linecolor": "#C8D4E3",
             "minorgridcolor": "#C8D4E3",
             "startlinecolor": "#2a3f5f"
            },
            "baxis": {
             "endlinecolor": "#2a3f5f",
             "gridcolor": "#C8D4E3",
             "linecolor": "#C8D4E3",
             "minorgridcolor": "#C8D4E3",
             "startlinecolor": "#2a3f5f"
            },
            "type": "carpet"
           }
          ],
          "choropleth": [
           {
            "colorbar": {
             "outlinewidth": 0,
             "ticks": ""
            },
            "type": "choropleth"
           }
          ],
          "contour": [
           {
            "colorbar": {
             "outlinewidth": 0,
             "ticks": ""
            },
            "colorscale": [
             [
              0,
              "#0d0887"
             ],
             [
              0.1111111111111111,
              "#46039f"
             ],
             [
              0.2222222222222222,
              "#7201a8"
             ],
             [
              0.3333333333333333,
              "#9c179e"
             ],
             [
              0.4444444444444444,
              "#bd3786"
             ],
             [
              0.5555555555555556,
              "#d8576b"
             ],
             [
              0.6666666666666666,
              "#ed7953"
             ],
             [
              0.7777777777777778,
              "#fb9f3a"
             ],
             [
              0.8888888888888888,
              "#fdca26"
             ],
             [
              1,
              "#f0f921"
             ]
            ],
            "type": "contour"
           }
          ],
          "contourcarpet": [
           {
            "colorbar": {
             "outlinewidth": 0,
             "ticks": ""
            },
            "type": "contourcarpet"
           }
          ],
          "heatmap": [
           {
            "colorbar": {
             "outlinewidth": 0,
             "ticks": ""
            },
            "colorscale": [
             [
              0,
              "#0d0887"
             ],
             [
              0.1111111111111111,
              "#46039f"
             ],
             [
              0.2222222222222222,
              "#7201a8"
             ],
             [
              0.3333333333333333,
              "#9c179e"
             ],
             [
              0.4444444444444444,
              "#bd3786"
             ],
             [
              0.5555555555555556,
              "#d8576b"
             ],
             [
              0.6666666666666666,
              "#ed7953"
             ],
             [
              0.7777777777777778,
              "#fb9f3a"
             ],
             [
              0.8888888888888888,
              "#fdca26"
             ],
             [
              1,
              "#f0f921"
             ]
            ],
            "type": "heatmap"
           }
          ],
          "heatmapgl": [
           {
            "colorbar": {
             "outlinewidth": 0,
             "ticks": ""
            },
            "colorscale": [
             [
              0,
              "#0d0887"
             ],
             [
              0.1111111111111111,
              "#46039f"
             ],
             [
              0.2222222222222222,
              "#7201a8"
             ],
             [
              0.3333333333333333,
              "#9c179e"
             ],
             [
              0.4444444444444444,
              "#bd3786"
             ],
             [
              0.5555555555555556,
              "#d8576b"
             ],
             [
              0.6666666666666666,
              "#ed7953"
             ],
             [
              0.7777777777777778,
              "#fb9f3a"
             ],
             [
              0.8888888888888888,
              "#fdca26"
             ],
             [
              1,
              "#f0f921"
             ]
            ],
            "type": "heatmapgl"
           }
          ],
          "histogram": [
           {
            "marker": {
             "pattern": {
              "fillmode": "overlay",
              "size": 10,
              "solidity": 0.2
             }
            },
            "type": "histogram"
           }
          ],
          "histogram2d": [
           {
            "colorbar": {
             "outlinewidth": 0,
             "ticks": ""
            },
            "colorscale": [
             [
              0,
              "#0d0887"
             ],
             [
              0.1111111111111111,
              "#46039f"
             ],
             [
              0.2222222222222222,
              "#7201a8"
             ],
             [
              0.3333333333333333,
              "#9c179e"
             ],
             [
              0.4444444444444444,
              "#bd3786"
             ],
             [
              0.5555555555555556,
              "#d8576b"
             ],
             [
              0.6666666666666666,
              "#ed7953"
             ],
             [
              0.7777777777777778,
              "#fb9f3a"
             ],
             [
              0.8888888888888888,
              "#fdca26"
             ],
             [
              1,
              "#f0f921"
             ]
            ],
            "type": "histogram2d"
           }
          ],
          "histogram2dcontour": [
           {
            "colorbar": {
             "outlinewidth": 0,
             "ticks": ""
            },
            "colorscale": [
             [
              0,
              "#0d0887"
             ],
             [
              0.1111111111111111,
              "#46039f"
             ],
             [
              0.2222222222222222,
              "#7201a8"
             ],
             [
              0.3333333333333333,
              "#9c179e"
             ],
             [
              0.4444444444444444,
              "#bd3786"
             ],
             [
              0.5555555555555556,
              "#d8576b"
             ],
             [
              0.6666666666666666,
              "#ed7953"
             ],
             [
              0.7777777777777778,
              "#fb9f3a"
             ],
             [
              0.8888888888888888,
              "#fdca26"
             ],
             [
              1,
              "#f0f921"
             ]
            ],
            "type": "histogram2dcontour"
           }
          ],
          "mesh3d": [
           {
            "colorbar": {
             "outlinewidth": 0,
             "ticks": ""
            },
            "type": "mesh3d"
           }
          ],
          "parcoords": [
           {
            "line": {
             "colorbar": {
              "outlinewidth": 0,
              "ticks": ""
             }
            },
            "type": "parcoords"
           }
          ],
          "pie": [
           {
            "automargin": true,
            "type": "pie"
           }
          ],
          "scatter": [
           {
            "fillpattern": {
             "fillmode": "overlay",
             "size": 10,
             "solidity": 0.2
            },
            "type": "scatter"
           }
          ],
          "scatter3d": [
           {
            "line": {
             "colorbar": {
              "outlinewidth": 0,
              "ticks": ""
             }
            },
            "marker": {
             "colorbar": {
              "outlinewidth": 0,
              "ticks": ""
             }
            },
            "type": "scatter3d"
           }
          ],
          "scattercarpet": [
           {
            "marker": {
             "colorbar": {
              "outlinewidth": 0,
              "ticks": ""
             }
            },
            "type": "scattercarpet"
           }
          ],
          "scattergeo": [
           {
            "marker": {
             "colorbar": {
              "outlinewidth": 0,
              "ticks": ""
             }
            },
            "type": "scattergeo"
           }
          ],
          "scattergl": [
           {
            "marker": {
             "colorbar": {
              "outlinewidth": 0,
              "ticks": ""
             }
            },
            "type": "scattergl"
           }
          ],
          "scattermapbox": [
           {
            "marker": {
             "colorbar": {
              "outlinewidth": 0,
              "ticks": ""
             }
            },
            "type": "scattermapbox"
           }
          ],
          "scatterpolar": [
           {
            "marker": {
             "colorbar": {
              "outlinewidth": 0,
              "ticks": ""
             }
            },
            "type": "scatterpolar"
           }
          ],
          "scatterpolargl": [
           {
            "marker": {
             "colorbar": {
              "outlinewidth": 0,
              "ticks": ""
             }
            },
            "type": "scatterpolargl"
           }
          ],
          "scatterternary": [
           {
            "marker": {
             "colorbar": {
              "outlinewidth": 0,
              "ticks": ""
             }
            },
            "type": "scatterternary"
           }
          ],
          "surface": [
           {
            "colorbar": {
             "outlinewidth": 0,
             "ticks": ""
            },
            "colorscale": [
             [
              0,
              "#0d0887"
             ],
             [
              0.1111111111111111,
              "#46039f"
             ],
             [
              0.2222222222222222,
              "#7201a8"
             ],
             [
              0.3333333333333333,
              "#9c179e"
             ],
             [
              0.4444444444444444,
              "#bd3786"
             ],
             [
              0.5555555555555556,
              "#d8576b"
             ],
             [
              0.6666666666666666,
              "#ed7953"
             ],
             [
              0.7777777777777778,
              "#fb9f3a"
             ],
             [
              0.8888888888888888,
              "#fdca26"
             ],
             [
              1,
              "#f0f921"
             ]
            ],
            "type": "surface"
           }
          ],
          "table": [
           {
            "cells": {
             "fill": {
              "color": "#EBF0F8"
             },
             "line": {
              "color": "white"
             }
            },
            "header": {
             "fill": {
              "color": "#C8D4E3"
             },
             "line": {
              "color": "white"
             }
            },
            "type": "table"
           }
          ]
         },
         "layout": {
          "annotationdefaults": {
           "arrowcolor": "#2a3f5f",
           "arrowhead": 0,
           "arrowwidth": 1
          },
          "autotypenumbers": "strict",
          "coloraxis": {
           "colorbar": {
            "outlinewidth": 0,
            "ticks": ""
           }
          },
          "colorscale": {
           "diverging": [
            [
             0,
             "#8e0152"
            ],
            [
             0.1,
             "#c51b7d"
            ],
            [
             0.2,
             "#de77ae"
            ],
            [
             0.3,
             "#f1b6da"
            ],
            [
             0.4,
             "#fde0ef"
            ],
            [
             0.5,
             "#f7f7f7"
            ],
            [
             0.6,
             "#e6f5d0"
            ],
            [
             0.7,
             "#b8e186"
            ],
            [
             0.8,
             "#7fbc41"
            ],
            [
             0.9,
             "#4d9221"
            ],
            [
             1,
             "#276419"
            ]
           ],
           "sequential": [
            [
             0,
             "#0d0887"
            ],
            [
             0.1111111111111111,
             "#46039f"
            ],
            [
             0.2222222222222222,
             "#7201a8"
            ],
            [
             0.3333333333333333,
             "#9c179e"
            ],
            [
             0.4444444444444444,
             "#bd3786"
            ],
            [
             0.5555555555555556,
             "#d8576b"
            ],
            [
             0.6666666666666666,
             "#ed7953"
            ],
            [
             0.7777777777777778,
             "#fb9f3a"
            ],
            [
             0.8888888888888888,
             "#fdca26"
            ],
            [
             1,
             "#f0f921"
            ]
           ],
           "sequentialminus": [
            [
             0,
             "#0d0887"
            ],
            [
             0.1111111111111111,
             "#46039f"
            ],
            [
             0.2222222222222222,
             "#7201a8"
            ],
            [
             0.3333333333333333,
             "#9c179e"
            ],
            [
             0.4444444444444444,
             "#bd3786"
            ],
            [
             0.5555555555555556,
             "#d8576b"
            ],
            [
             0.6666666666666666,
             "#ed7953"
            ],
            [
             0.7777777777777778,
             "#fb9f3a"
            ],
            [
             0.8888888888888888,
             "#fdca26"
            ],
            [
             1,
             "#f0f921"
            ]
           ]
          },
          "colorway": [
           "#636efa",
           "#EF553B",
           "#00cc96",
           "#ab63fa",
           "#FFA15A",
           "#19d3f3",
           "#FF6692",
           "#B6E880",
           "#FF97FF",
           "#FECB52"
          ],
          "font": {
           "color": "#2a3f5f"
          },
          "geo": {
           "bgcolor": "white",
           "lakecolor": "white",
           "landcolor": "white",
           "showlakes": true,
           "showland": true,
           "subunitcolor": "#C8D4E3"
          },
          "hoverlabel": {
           "align": "left"
          },
          "hovermode": "closest",
          "mapbox": {
           "style": "light"
          },
          "paper_bgcolor": "white",
          "plot_bgcolor": "white",
          "polar": {
           "angularaxis": {
            "gridcolor": "#EBF0F8",
            "linecolor": "#EBF0F8",
            "ticks": ""
           },
           "bgcolor": "white",
           "radialaxis": {
            "gridcolor": "#EBF0F8",
            "linecolor": "#EBF0F8",
            "ticks": ""
           }
          },
          "scene": {
           "xaxis": {
            "backgroundcolor": "white",
            "gridcolor": "#DFE8F3",
            "gridwidth": 2,
            "linecolor": "#EBF0F8",
            "showbackground": true,
            "ticks": "",
            "zerolinecolor": "#EBF0F8"
           },
           "yaxis": {
            "backgroundcolor": "white",
            "gridcolor": "#DFE8F3",
            "gridwidth": 2,
            "linecolor": "#EBF0F8",
            "showbackground": true,
            "ticks": "",
            "zerolinecolor": "#EBF0F8"
           },
           "zaxis": {
            "backgroundcolor": "white",
            "gridcolor": "#DFE8F3",
            "gridwidth": 2,
            "linecolor": "#EBF0F8",
            "showbackground": true,
            "ticks": "",
            "zerolinecolor": "#EBF0F8"
           }
          },
          "shapedefaults": {
           "line": {
            "color": "#2a3f5f"
           }
          },
          "ternary": {
           "aaxis": {
            "gridcolor": "#DFE8F3",
            "linecolor": "#A2B1C6",
            "ticks": ""
           },
           "baxis": {
            "gridcolor": "#DFE8F3",
            "linecolor": "#A2B1C6",
            "ticks": ""
           },
           "bgcolor": "white",
           "caxis": {
            "gridcolor": "#DFE8F3",
            "linecolor": "#A2B1C6",
            "ticks": ""
           }
          },
          "title": {
           "x": 0.05
          },
          "xaxis": {
           "automargin": true,
           "gridcolor": "#EBF0F8",
           "linecolor": "#EBF0F8",
           "ticks": "",
           "title": {
            "standoff": 15
           },
           "zerolinecolor": "#EBF0F8",
           "zerolinewidth": 2
          },
          "yaxis": {
           "automargin": true,
           "gridcolor": "#EBF0F8",
           "linecolor": "#EBF0F8",
           "ticks": "",
           "title": {
            "standoff": 15
           },
           "zerolinecolor": "#EBF0F8",
           "zerolinewidth": 2
          }
         }
        },
        "title": {
         "text": "Customer Segmentation based on Credit Scores"
        },
        "xaxis": {
         "anchor": "y",
         "domain": [
          0,
          1
         ],
         "title": {
          "text": "Customer Index"
         }
        },
        "yaxis": {
         "anchor": "x",
         "domain": [
          0,
          1
         ],
         "title": {
          "text": "Credit Score"
         }
        }
       }
      },
      "text/html": [
       "<div>                            <div id=\"c0289b2e-b4bf-49a0-abac-79258f6a9e7c\" class=\"plotly-graph-div\" style=\"height:525px; width:100%;\"></div>            <script type=\"text/javascript\">                require([\"plotly\"], function(Plotly) {                    window.PLOTLYENV=window.PLOTLYENV || {};                                    if (document.getElementById(\"c0289b2e-b4bf-49a0-abac-79258f6a9e7c\")) {                    Plotly.newPlot(                        \"c0289b2e-b4bf-49a0-abac-79258f6a9e7c\",                        [{\"hovertemplate\":\"Segment=2<br>index=%{x}<br>Credit Score=%{y}<extra></extra>\",\"legendgroup\":\"2\",\"marker\":{\"color\":\"green\",\"symbol\":\"circle\"},\"mode\":\"markers\",\"name\":\"2\",\"orientation\":\"v\",\"showlegend\":true,\"x\":[0,1,2,5,6,14,26,48,60,67,72,73,74,97,103,104,108,117,118,125,129,147,148,149,153,154,169,173,175,178,192,200,203,213,220,221,224,233,240,247,249,250,264,278,284,286,298,300,302,308,311,313,316,328,340,341,345,351,352,355,356,357,362,364,365,372,378,394,398,407,409,416,418,420,426,428,433,439,447,451,458,464,468,470,477,484,488,491,492,494,504,507,513,529,533,538,544,545,547,548,553,555,560,563,564,566,568,583,587,589,594,598,612,614,619,622,626,637,639,640,661,667,669,681,689,690,695,697,699,702,721,722,730,737,746,749,752,755,763,765,766,769,774,782,788,791,801,802,807,812,821,822,823,842,846,855,856,858,859,860,874,875,880,895,899,901,913,921,926,939,945,948,949,970,972,985,991,992,997],\"xaxis\":\"x\",\"y\":[940.5159999999998,831.3599999999999,971.2159999999999,820.5819999999999,980.4459999999999,831.5499999999998,831.7939999999999,840.6270000000001,921.644,801.8870000000001,881.3990000000001,981.5859999999998,961.208,1002.1469999999999,981.645,850.979,890.9039999999999,820.6550000000001,801.4350000000001,821.068,1001.8410000000001,901.581,911.551,911.2049999999999,811.725,921.798,841.4990000000001,941.6829999999999,820.346,821.069,861.3299999999998,940.558,800.6730000000001,810.9630000000001,1001.514,900.688,861.3939999999999,880.9420000000001,860.8469999999999,900.7479999999999,990.792,950.713,1001.1869999999999,981.959,881.143,931.151,930.5279999999999,831.6279999999999,870.808,820.7230000000001,831.1129999999998,1001.509,871.036,920.2239999999999,911.492,961.0519999999999,871.063,941.588,900.799,821.7719999999999,981.5729999999999,981.601,951.216,780.904,921.63,961.454,861.483,900.3559999999999,890.9119999999999,921.0559999999999,861.786,801.63,961.276,780.978,930.6479999999999,881.474,920.4719999999999,861.424,931.3149999999999,981.2479999999998,800.905,991.3240000000001,940.262,891.484,891.6979999999999,861.7990000000001,1000.5329999999999,841.106,981.8589999999999,860.5409999999999,781.7239999999999,820.153,881.951,881.5140000000001,1000.418,801.48,921.47,941.2299999999998,881.839,811.98,810.4879999999999,821.461,820.4819999999999,900.991,900.4629999999999,961.9699999999999,1001.059,970.5759999999999,901.526,920.3369999999999,800.85,970.5669999999998,921.455,981.2799999999999,801.226,980.906,1001.285,870.554,821.008,981.5219999999998,960.54,871.72,940.919,940.867,830.728,1001.1469999999999,891.4680000000001,971.0219999999999,861.872,920.9279999999999,780.637,881.511,891.2789999999999,911.5599999999998,861.813,800.7460000000001,800.996,921.512,931.308,901.4549999999999,860.5889999999999,951.3129999999999,971.0799999999999,982.1789999999999,931.458,950.8660000000001,791.5389999999999,880.854,861.9430000000001,950.207,991.475,981.15,971.5469999999999,930.7470000000001,880.9680000000001,990.658,900.888,951.8720000000001,820.068,900.8999999999999,891.387,850.761,960.852,991.289,842.17,930.866,921.408,841.7590000000001,891.457,980.9419999999999,920.539,950.7420000000001,850.797,840.62,791.8629999999999,831.5439999999999,850.8510000000001,980.947,921.8539999999999],\"yaxis\":\"y\",\"type\":\"scatter\"},{\"hovertemplate\":\"Segment=1<br>index=%{x}<br>Credit Score=%{y}<extra></extra>\",\"legendgroup\":\"1\",\"marker\":{\"color\":\"blue\",\"symbol\":\"circle\"},\"mode\":\"markers\",\"name\":\"1\",\"orientation\":\"v\",\"showlegend\":true,\"x\":[4,7,12,16,24,34,49,52,58,59,68,84,86,88,89,90,92,95,101,115,123,145,146,157,161,170,176,182,191,208,215,217,218,226,229,230,237,241,246,259,260,263,268,269,270,279,287,289,291,296,305,315,320,323,329,330,333,334,336,338,349,353,359,368,371,377,385,388,391,393,399,403,404,406,408,415,429,430,432,434,443,446,450,456,459,460,469,471,475,478,480,482,485,487,497,514,515,516,518,519,520,522,527,530,532,535,537,539,554,561,562,565,567,573,574,584,593,599,600,602,605,607,609,610,615,618,629,630,632,656,659,678,679,686,693,694,696,700,705,718,723,724,726,727,728,731,740,741,742,745,750,751,754,757,771,772,775,781,808,810,816,818,825,826,827,828,832,838,845,850,852,854,861,862,863,865,870,873,878,889,906,907,910,911,917,919,931,932,941,950,952,954,961,963,967,978,979,981,983,989,995,999],\"xaxis\":\"x\",\"y\":[290.79699999999997,501.59799999999996,390.97900000000004,271.801,301.116,330.424,431.385,391.974,510.83700000000005,341.30999999999995,391.651,311.72900000000004,441.882,360.725,391.395,461.78700000000003,331.725,350.63599999999997,511.50000000000006,410.60599999999994,431.92299999999994,491.8109999999999,400.76099999999997,441.59700000000004,330.92900000000003,310.944,501.59999999999997,281.133,511.572,290.776,411.18,461.38399999999996,501.1029999999999,390.94199999999995,490.7269999999999,331.438,271.132,410.795,320.795,340.58399999999995,460.48799999999994,510.74399999999997,501.4789999999999,401.08500000000004,381.69300000000004,491.27399999999994,491.29999999999995,480.65099999999995,300.634,500.4399999999999,471.26,421.637,281.219,321.814,461.35499999999996,340.938,400.128,311.448,510.942,431.10099999999994,481.39799999999997,401.684,321.46500000000003,421.80400000000003,370.81899999999996,270.592,290.64399999999995,321.115,491.162,300.31199999999995,271.84299999999996,400.106,301.26500000000004,481.01800000000003,321.46599999999995,450.96199999999993,450.5179999999999,450.70699999999994,331.53999999999996,410.77299999999997,450.51199999999994,480.33399999999995,411.88399999999996,481.617,280.83500000000004,391.645,372.001,410.7269999999999,311.38000000000005,480.546,401.133,520.4,520.634,400.363,421.376,371.66499999999996,320.33399999999995,301.78399999999993,381.46999999999997,401.664,322.14,280.985,321.471,430.55899999999997,301.55,390.41499999999996,350.86799999999994,361.145,420.37399999999997,411.54499999999996,470.919,511.826,390.41499999999996,480.957,381.19500000000005,320.38599999999997,451.5319999999999,331.11799999999994,441.90200000000004,410.40599999999995,381.731,321.923,300.93799999999993,322.09499999999997,351.554,301.486,420.718,381.286,351.561,441.507,330.908,390.97599999999994,391.844,410.78299999999996,400.94999999999993,420.83799999999997,481.941,351.019,430.32199999999995,391.68199999999996,301.435,371.57500000000005,371.87,421.1650000000001,361.33099999999996,451.1929999999999,500.3209999999999,271.36899999999997,321.135,500.80899999999997,511.40099999999995,271.321,311.579,281.90999999999997,270.77099999999996,370.401,461.69599999999997,281.481,481.58899999999994,400.423,421.336,470.99100000000004,350.9200000000001,290.889,441.408,351.987,321.815,330.514,430.42199999999997,440.796,451.1809999999999,460.27699999999993,281.63599999999997,480.792,420.68399999999997,390.37699999999995,391.68100000000004,401.152,270.7939999999999,441.835,400.28599999999994,270.513,510.752,351.416,310.81800000000004,461.216,280.944,480.37699999999995,521.591,490.6859999999999,451.64799999999997,442.038,290.38599999999997,330.091,491.294,351.32300000000004,321.981,330.982,451.60599999999994,461.14000000000004,451.37199999999996,361.10099999999994],\"yaxis\":\"y\",\"type\":\"scatter\"},{\"hovertemplate\":\"Segment=3<br>index=%{x}<br>Credit Score=%{y}<extra></extra>\",\"legendgroup\":\"3\",\"marker\":{\"color\":\"yellow\",\"symbol\":\"circle\"},\"mode\":\"markers\",\"name\":\"3\",\"orientation\":\"v\",\"showlegend\":true,\"x\":[10,11,27,30,31,33,46,47,50,53,56,57,61,65,76,78,85,93,96,98,99,105,109,110,113,122,126,128,152,158,166,168,172,184,187,188,194,196,202,210,214,216,219,222,232,238,239,248,252,256,258,261,266,267,273,275,276,282,283,290,318,324,327,337,339,344,348,361,366,367,369,375,379,389,400,413,414,422,424,427,435,436,438,452,453,455,462,463,472,476,486,493,495,505,511,512,521,523,524,531,534,540,541,542,550,558,575,578,582,585,586,592,613,621,624,625,627,634,636,645,650,662,666,670,674,682,687,691,704,709,714,716,719,720,729,732,739,743,747,758,764,767,783,784,797,800,805,811,817,824,830,835,837,839,849,857,864,866,871,876,877,879,887,897,900,904,905,914,915,924,927,929,935,936,937,946,956,964,969,973,974,975,982,986,990],\"xaxis\":\"x\",\"y\":[201.53699999999998,250.80299999999997,190.87199999999999,50.993,30.763999999999996,81.049,1.1139999999999999,31.331999999999997,80.316,151.78,231.70499999999996,100.73499999999999,161.313,120.68799999999997,150.68799999999996,1.131,181.17299999999994,81.366,240.57,180.54999999999995,20.977,161.62199999999999,30.438999999999997,60.779999999999994,1.799,50.595,231.058,211.63099999999997,70.729,180.63499999999996,141.44899999999998,191.14299999999997,101.238,211.262,171.354,150.70799999999997,190.876,111.80499999999998,210.88699999999997,170.77800000000002,231.439,170.814,251.68499999999997,191.225,231.14299999999997,150.96099999999996,72.04299999999999,151.052,261.41400000000004,260.474,170.20299999999997,0.572,70.99700000000001,170.93,90.377,190.33399999999997,251.79199999999997,181.81799999999996,170.58999999999997,212.082,212.12800000000001,151.58199999999997,261.15,20.775000000000002,120.73499999999999,171.54000000000002,41.425,131.17899999999997,240.97099999999998,210.93800000000002,171.658,221.312,171.47699999999998,200.784,250.96299999999994,130.40099999999998,190.278,130.706,91.83399999999997,140.766,41.757000000000005,90.68299999999999,241.41699999999994,190.50699999999998,21.285,61.436,180.34599999999998,31.589,50.715,41.845,190.97099999999998,181.046,251.84899999999996,31.008,110.86699999999998,11.461999999999998,231.357,111.78799999999998,91.84799999999998,131.35999999999999,181.41199999999995,41.883,151.32199999999997,191.13299999999995,51.494,80.98499999999999,81.747,211.82999999999998,151.022,30.551,121.571,251.20799999999997,111.44799999999998,231.54199999999997,251.24099999999996,150.635,180.50399999999996,201.49099999999996,1.8499999999999999,51.174,240.29199999999997,201.07299999999998,211.84400000000002,31.447999999999997,161.36799999999997,241.51799999999997,150.564,0.741,120.43899999999998,81.67999999999999,51.335,241.53699999999995,160.79199999999997,190.88699999999997,261.416,170.53699999999998,221.533,241.22,0.665,180.71499999999995,91.59699999999998,111.28599999999999,110.636,1.424,150.74099999999996,50.53,121.13099999999999,11.429,101.547,251.54599999999996,110.77399999999999,201.804,61.111000000000004,221.04099999999997,100.408,200.552,40.760000000000005,121.20999999999998,110.60799999999999,251.48099999999997,191.41199999999998,100.881,120.48599999999999,230.72799999999998,31.557,81.77,231.35899999999998,50.564,150.72399999999996,60.366,180.71999999999997,211.009,201.068,1.3970000000000002,181.01299999999995,260.13,40.375,71.17299999999999,161.47399999999996,180.596,100.31400000000001,231.26299999999998,40.583000000000006,30.723,91.318],\"yaxis\":\"y\",\"type\":\"scatter\"},{\"hovertemplate\":\"Segment=0<br>index=%{x}<br>Credit Score=%{y}<extra></extra>\",\"legendgroup\":\"0\",\"marker\":{\"color\":\"red\",\"symbol\":\"circle\"},\"mode\":\"markers\",\"name\":\"0\",\"orientation\":\"v\",\"showlegend\":true,\"x\":[13,15,17,19,23,25,32,35,38,39,40,42,45,62,66,70,83,94,100,102,106,119,121,124,127,131,133,138,139,150,155,159,162,164,167,177,181,183,186,190,193,195,197,198,199,201,206,209,211,223,225,228,231,234,236,243,244,265,280,281,285,294,295,307,310,312,321,326,335,342,346,363,374,381,386,387,392,395,396,401,402,419,421,423,440,441,442,445,461,466,473,479,483,489,490,498,503,509,510,536,557,559,571,572,576,577,579,580,581,606,616,617,623,633,641,643,646,648,651,652,655,657,660,663,664,671,672,676,677,683,684,685,688,692,703,708,711,712,717,734,735,738,760,768,779,785,790,792,796,798,799,803,804,815,829,834,836,840,843,851,853,868,872,882,883,888,890,891,893,903,912,916,922,928,933,938,942,944,955,958,960,962,966,968,976,984,988,994,996],\"xaxis\":\"x\",\"y\":[700.9480000000001,750.5649999999999,551.0799999999999,700.732,720.986,640.912,601.061,550.4119999999999,551.737,651.674,601.672,591.5380000000001,531.213,611.084,761.485,731.738,550.7749999999999,680.419,571.627,741.8360000000001,540.4319999999999,601.632,730.9230000000001,771.005,691.7529999999999,650.681,600.7370000000001,691.1619999999998,580.434,591.571,731.1629999999999,631.978,571.6669999999999,601.663,671.644,691.997,591.0010000000001,760.6539999999999,740.8249999999999,531.8430000000001,750.718,711.523,710.816,610.6999999999999,651.728,721.019,582.038,750.838,761.4309999999998,681.71,591.7610000000001,590.9180000000001,581.855,620.885,721.784,580.977,730.802,691.0559999999999,721.76,770.8180000000001,720.6159999999999,570.5609999999999,691.3009999999999,730.6650000000001,771.245,630.9590000000001,581.885,770.95,630.9050000000001,701.372,741.868,731.562,580.7409999999999,740.9300000000001,660.156,541.9549999999999,660.955,730.5790000000001,681.588,610.9879999999999,671.189,711.3729999999999,581.883,531.0160000000001,561.4,690.8219999999999,660.6800000000001,731.419,670.8629999999999,561.979,571.269,671.159,701.2900000000001,671.369,660.467,772.1310000000001,571.086,770.607,721.8439999999999,541.14,621.605,631.0600000000001,541.3929999999999,751.4289999999999,730.3530000000001,531.181,660.903,711.84,611.0759999999999,671.621,600.965,770.541,531.3599999999999,620.922,550.99,590.552,640.2739999999999,680.1829999999999,680.952,561.7220000000001,531.6670000000001,531.3129999999999,621.068,561.605,531.516,641.078,742.043,600.213,660.587,680.548,620.6769999999999,690.794,701.5459999999999,681.6479999999999,730.3240000000001,541.614,690.9739999999999,710.322,700.951,771.7490000000001,660.2180000000001,581.7139999999999,610.658,681.1399999999999,661.4920000000001,750.698,740.6750000000001,600.6800000000001,680.523,710.798,660.7900000000001,651.9479999999999,680.381,721.5219999999999,700.5530000000001,631.7930000000001,700.913,701.0889999999999,581.429,571.445,631.8760000000001,641.398,620.591,580.8449999999999,740.535,740.2819999999999,531.252,731.351,731.036,571.197,630.8939999999999,620.944,651.4,601.605,531.2669999999999,541.1419999999999,721.286,650.3739999999999,601.379,670.748,710.936,730.7710000000001,610.755,550.5569999999999,751.043,730.91,771.5400000000001,710.92,650.6809999999999],\"yaxis\":\"y\",\"type\":\"scatter\"}],                        {\"template\":{\"data\":{\"histogram2dcontour\":[{\"type\":\"histogram2dcontour\",\"colorbar\":{\"outlinewidth\":0,\"ticks\":\"\"},\"colorscale\":[[0.0,\"#0d0887\"],[0.1111111111111111,\"#46039f\"],[0.2222222222222222,\"#7201a8\"],[0.3333333333333333,\"#9c179e\"],[0.4444444444444444,\"#bd3786\"],[0.5555555555555556,\"#d8576b\"],[0.6666666666666666,\"#ed7953\"],[0.7777777777777778,\"#fb9f3a\"],[0.8888888888888888,\"#fdca26\"],[1.0,\"#f0f921\"]]}],\"choropleth\":[{\"type\":\"choropleth\",\"colorbar\":{\"outlinewidth\":0,\"ticks\":\"\"}}],\"histogram2d\":[{\"type\":\"histogram2d\",\"colorbar\":{\"outlinewidth\":0,\"ticks\":\"\"},\"colorscale\":[[0.0,\"#0d0887\"],[0.1111111111111111,\"#46039f\"],[0.2222222222222222,\"#7201a8\"],[0.3333333333333333,\"#9c179e\"],[0.4444444444444444,\"#bd3786\"],[0.5555555555555556,\"#d8576b\"],[0.6666666666666666,\"#ed7953\"],[0.7777777777777778,\"#fb9f3a\"],[0.8888888888888888,\"#fdca26\"],[1.0,\"#f0f921\"]]}],\"heatmap\":[{\"type\":\"heatmap\",\"colorbar\":{\"outlinewidth\":0,\"ticks\":\"\"},\"colorscale\":[[0.0,\"#0d0887\"],[0.1111111111111111,\"#46039f\"],[0.2222222222222222,\"#7201a8\"],[0.3333333333333333,\"#9c179e\"],[0.4444444444444444,\"#bd3786\"],[0.5555555555555556,\"#d8576b\"],[0.6666666666666666,\"#ed7953\"],[0.7777777777777778,\"#fb9f3a\"],[0.8888888888888888,\"#fdca26\"],[1.0,\"#f0f921\"]]}],\"heatmapgl\":[{\"type\":\"heatmapgl\",\"colorbar\":{\"outlinewidth\":0,\"ticks\":\"\"},\"colorscale\":[[0.0,\"#0d0887\"],[0.1111111111111111,\"#46039f\"],[0.2222222222222222,\"#7201a8\"],[0.3333333333333333,\"#9c179e\"],[0.4444444444444444,\"#bd3786\"],[0.5555555555555556,\"#d8576b\"],[0.6666666666666666,\"#ed7953\"],[0.7777777777777778,\"#fb9f3a\"],[0.8888888888888888,\"#fdca26\"],[1.0,\"#f0f921\"]]}],\"contourcarpet\":[{\"type\":\"contourcarpet\",\"colorbar\":{\"outlinewidth\":0,\"ticks\":\"\"}}],\"contour\":[{\"type\":\"contour\",\"colorbar\":{\"outlinewidth\":0,\"ticks\":\"\"},\"colorscale\":[[0.0,\"#0d0887\"],[0.1111111111111111,\"#46039f\"],[0.2222222222222222,\"#7201a8\"],[0.3333333333333333,\"#9c179e\"],[0.4444444444444444,\"#bd3786\"],[0.5555555555555556,\"#d8576b\"],[0.6666666666666666,\"#ed7953\"],[0.7777777777777778,\"#fb9f3a\"],[0.8888888888888888,\"#fdca26\"],[1.0,\"#f0f921\"]]}],\"surface\":[{\"type\":\"surface\",\"colorbar\":{\"outlinewidth\":0,\"ticks\":\"\"},\"colorscale\":[[0.0,\"#0d0887\"],[0.1111111111111111,\"#46039f\"],[0.2222222222222222,\"#7201a8\"],[0.3333333333333333,\"#9c179e\"],[0.4444444444444444,\"#bd3786\"],[0.5555555555555556,\"#d8576b\"],[0.6666666666666666,\"#ed7953\"],[0.7777777777777778,\"#fb9f3a\"],[0.8888888888888888,\"#fdca26\"],[1.0,\"#f0f921\"]]}],\"mesh3d\":[{\"type\":\"mesh3d\",\"colorbar\":{\"outlinewidth\":0,\"ticks\":\"\"}}],\"scatter\":[{\"fillpattern\":{\"fillmode\":\"overlay\",\"size\":10,\"solidity\":0.2},\"type\":\"scatter\"}],\"parcoords\":[{\"type\":\"parcoords\",\"line\":{\"colorbar\":{\"outlinewidth\":0,\"ticks\":\"\"}}}],\"scatterpolargl\":[{\"type\":\"scatterpolargl\",\"marker\":{\"colorbar\":{\"outlinewidth\":0,\"ticks\":\"\"}}}],\"bar\":[{\"error_x\":{\"color\":\"#2a3f5f\"},\"error_y\":{\"color\":\"#2a3f5f\"},\"marker\":{\"line\":{\"color\":\"white\",\"width\":0.5},\"pattern\":{\"fillmode\":\"overlay\",\"size\":10,\"solidity\":0.2}},\"type\":\"bar\"}],\"scattergeo\":[{\"type\":\"scattergeo\",\"marker\":{\"colorbar\":{\"outlinewidth\":0,\"ticks\":\"\"}}}],\"scatterpolar\":[{\"type\":\"scatterpolar\",\"marker\":{\"colorbar\":{\"outlinewidth\":0,\"ticks\":\"\"}}}],\"histogram\":[{\"marker\":{\"pattern\":{\"fillmode\":\"overlay\",\"size\":10,\"solidity\":0.2}},\"type\":\"histogram\"}],\"scattergl\":[{\"type\":\"scattergl\",\"marker\":{\"colorbar\":{\"outlinewidth\":0,\"ticks\":\"\"}}}],\"scatter3d\":[{\"type\":\"scatter3d\",\"line\":{\"colorbar\":{\"outlinewidth\":0,\"ticks\":\"\"}},\"marker\":{\"colorbar\":{\"outlinewidth\":0,\"ticks\":\"\"}}}],\"scattermapbox\":[{\"type\":\"scattermapbox\",\"marker\":{\"colorbar\":{\"outlinewidth\":0,\"ticks\":\"\"}}}],\"scatterternary\":[{\"type\":\"scatterternary\",\"marker\":{\"colorbar\":{\"outlinewidth\":0,\"ticks\":\"\"}}}],\"scattercarpet\":[{\"type\":\"scattercarpet\",\"marker\":{\"colorbar\":{\"outlinewidth\":0,\"ticks\":\"\"}}}],\"carpet\":[{\"aaxis\":{\"endlinecolor\":\"#2a3f5f\",\"gridcolor\":\"#C8D4E3\",\"linecolor\":\"#C8D4E3\",\"minorgridcolor\":\"#C8D4E3\",\"startlinecolor\":\"#2a3f5f\"},\"baxis\":{\"endlinecolor\":\"#2a3f5f\",\"gridcolor\":\"#C8D4E3\",\"linecolor\":\"#C8D4E3\",\"minorgridcolor\":\"#C8D4E3\",\"startlinecolor\":\"#2a3f5f\"},\"type\":\"carpet\"}],\"table\":[{\"cells\":{\"fill\":{\"color\":\"#EBF0F8\"},\"line\":{\"color\":\"white\"}},\"header\":{\"fill\":{\"color\":\"#C8D4E3\"},\"line\":{\"color\":\"white\"}},\"type\":\"table\"}],\"barpolar\":[{\"marker\":{\"line\":{\"color\":\"white\",\"width\":0.5},\"pattern\":{\"fillmode\":\"overlay\",\"size\":10,\"solidity\":0.2}},\"type\":\"barpolar\"}],\"pie\":[{\"automargin\":true,\"type\":\"pie\"}]},\"layout\":{\"autotypenumbers\":\"strict\",\"colorway\":[\"#636efa\",\"#EF553B\",\"#00cc96\",\"#ab63fa\",\"#FFA15A\",\"#19d3f3\",\"#FF6692\",\"#B6E880\",\"#FF97FF\",\"#FECB52\"],\"font\":{\"color\":\"#2a3f5f\"},\"hovermode\":\"closest\",\"hoverlabel\":{\"align\":\"left\"},\"paper_bgcolor\":\"white\",\"plot_bgcolor\":\"white\",\"polar\":{\"bgcolor\":\"white\",\"angularaxis\":{\"gridcolor\":\"#EBF0F8\",\"linecolor\":\"#EBF0F8\",\"ticks\":\"\"},\"radialaxis\":{\"gridcolor\":\"#EBF0F8\",\"linecolor\":\"#EBF0F8\",\"ticks\":\"\"}},\"ternary\":{\"bgcolor\":\"white\",\"aaxis\":{\"gridcolor\":\"#DFE8F3\",\"linecolor\":\"#A2B1C6\",\"ticks\":\"\"},\"baxis\":{\"gridcolor\":\"#DFE8F3\",\"linecolor\":\"#A2B1C6\",\"ticks\":\"\"},\"caxis\":{\"gridcolor\":\"#DFE8F3\",\"linecolor\":\"#A2B1C6\",\"ticks\":\"\"}},\"coloraxis\":{\"colorbar\":{\"outlinewidth\":0,\"ticks\":\"\"}},\"colorscale\":{\"sequential\":[[0.0,\"#0d0887\"],[0.1111111111111111,\"#46039f\"],[0.2222222222222222,\"#7201a8\"],[0.3333333333333333,\"#9c179e\"],[0.4444444444444444,\"#bd3786\"],[0.5555555555555556,\"#d8576b\"],[0.6666666666666666,\"#ed7953\"],[0.7777777777777778,\"#fb9f3a\"],[0.8888888888888888,\"#fdca26\"],[1.0,\"#f0f921\"]],\"sequentialminus\":[[0.0,\"#0d0887\"],[0.1111111111111111,\"#46039f\"],[0.2222222222222222,\"#7201a8\"],[0.3333333333333333,\"#9c179e\"],[0.4444444444444444,\"#bd3786\"],[0.5555555555555556,\"#d8576b\"],[0.6666666666666666,\"#ed7953\"],[0.7777777777777778,\"#fb9f3a\"],[0.8888888888888888,\"#fdca26\"],[1.0,\"#f0f921\"]],\"diverging\":[[0,\"#8e0152\"],[0.1,\"#c51b7d\"],[0.2,\"#de77ae\"],[0.3,\"#f1b6da\"],[0.4,\"#fde0ef\"],[0.5,\"#f7f7f7\"],[0.6,\"#e6f5d0\"],[0.7,\"#b8e186\"],[0.8,\"#7fbc41\"],[0.9,\"#4d9221\"],[1,\"#276419\"]]},\"xaxis\":{\"gridcolor\":\"#EBF0F8\",\"linecolor\":\"#EBF0F8\",\"ticks\":\"\",\"title\":{\"standoff\":15},\"zerolinecolor\":\"#EBF0F8\",\"automargin\":true,\"zerolinewidth\":2},\"yaxis\":{\"gridcolor\":\"#EBF0F8\",\"linecolor\":\"#EBF0F8\",\"ticks\":\"\",\"title\":{\"standoff\":15},\"zerolinecolor\":\"#EBF0F8\",\"automargin\":true,\"zerolinewidth\":2},\"scene\":{\"xaxis\":{\"backgroundcolor\":\"white\",\"gridcolor\":\"#DFE8F3\",\"linecolor\":\"#EBF0F8\",\"showbackground\":true,\"ticks\":\"\",\"zerolinecolor\":\"#EBF0F8\",\"gridwidth\":2},\"yaxis\":{\"backgroundcolor\":\"white\",\"gridcolor\":\"#DFE8F3\",\"linecolor\":\"#EBF0F8\",\"showbackground\":true,\"ticks\":\"\",\"zerolinecolor\":\"#EBF0F8\",\"gridwidth\":2},\"zaxis\":{\"backgroundcolor\":\"white\",\"gridcolor\":\"#DFE8F3\",\"linecolor\":\"#EBF0F8\",\"showbackground\":true,\"ticks\":\"\",\"zerolinecolor\":\"#EBF0F8\",\"gridwidth\":2}},\"shapedefaults\":{\"line\":{\"color\":\"#2a3f5f\"}},\"annotationdefaults\":{\"arrowcolor\":\"#2a3f5f\",\"arrowhead\":0,\"arrowwidth\":1},\"geo\":{\"bgcolor\":\"white\",\"landcolor\":\"white\",\"subunitcolor\":\"#C8D4E3\",\"showland\":true,\"showlakes\":true,\"lakecolor\":\"white\"},\"title\":{\"x\":0.05},\"mapbox\":{\"style\":\"light\"}}},\"xaxis\":{\"anchor\":\"y\",\"domain\":[0.0,1.0],\"title\":{\"text\":\"Customer Index\"}},\"yaxis\":{\"anchor\":\"x\",\"domain\":[0.0,1.0],\"title\":{\"text\":\"Credit Score\"}},\"legend\":{\"title\":{\"text\":\"Segment\"},\"tracegroupgap\":0},\"margin\":{\"t\":60},\"title\":{\"text\":\"Customer Segmentation based on Credit Scores\"}},                        {\"responsive\": true}                    ).then(function(){\n",
       "                            \n",
       "var gd = document.getElementById('c0289b2e-b4bf-49a0-abac-79258f6a9e7c');\n",
       "var x = new MutationObserver(function (mutations, observer) {{\n",
       "        var display = window.getComputedStyle(gd).display;\n",
       "        if (!display || display === 'none') {{\n",
       "            console.log([gd, 'removed!']);\n",
       "            Plotly.purge(gd);\n",
       "            observer.disconnect();\n",
       "        }}\n",
       "}});\n",
       "\n",
       "// Listen for the removal of the full notebook cells\n",
       "var notebookContainer = gd.closest('#notebook-container');\n",
       "if (notebookContainer) {{\n",
       "    x.observe(notebookContainer, {childList: true});\n",
       "}}\n",
       "\n",
       "// Listen for the clearing of the current output cell\n",
       "var outputEl = gd.closest('.output');\n",
       "if (outputEl) {{\n",
       "    x.observe(outputEl, {childList: true});\n",
       "}}\n",
       "\n",
       "                        })                };                });            </script>        </div>"
      ]
     },
     "metadata": {},
     "output_type": "display_data"
    }
   ],
   "source": [
    "df['Segment'] = df['Segment'].astype('category')\n",
    "\n",
    "fig = px.scatter(df,x=df.index, y=\"Credit Score\", color='Segment',\n",
    "                color_discrete_sequence=['green', 'blue', 'yellow', 'red'])\n",
    "\n",
    "fig.update_layout(xaxis_title = \"Customer Index\",\n",
    "                 yaxis_title = \"Credit Score\",\n",
    "                 title = \"Customer Segmentation based on Credit Scores\"\n",
    "                 )\n",
    "fig.show()"
   ]
  },
  {
   "cell_type": "code",
   "execution_count": null,
   "id": "0b3ea049",
   "metadata": {},
   "outputs": [],
   "source": []
  }
 ],
 "metadata": {
  "kernelspec": {
   "display_name": "Python 3 (ipykernel)",
   "language": "python",
   "name": "python3"
  },
  "language_info": {
   "codemirror_mode": {
    "name": "ipython",
    "version": 3
   },
   "file_extension": ".py",
   "mimetype": "text/x-python",
   "name": "python",
   "nbconvert_exporter": "python",
   "pygments_lexer": "ipython3",
   "version": "3.11.4"
  }
 },
 "nbformat": 4,
 "nbformat_minor": 5
}
